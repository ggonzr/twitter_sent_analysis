{
 "cells": [
  {
   "cell_type": "markdown",
   "metadata": {
    "_uuid": "92b885dd147dac19bd0a33db3cd0da100bd5bc23"
   },
   "source": [
    "# Twitter Sentiment Analysis"
   ]
  },
  {
   "cell_type": "markdown",
   "metadata": {},
   "source": [
    "## Analisis de sentimientos utilizando tweets\n",
    "\n",
    "Este Notebook contiene la implementación para generar un modelo de análisis de sentimientos\n",
    "utilizando una red neuronal recurrente de tipo _Long Short Term Memory_ asi como el proceso ETL para \n",
    "tokenizar las palabras y adecuar el conjunto de entrenamiento.\n",
    "\n",
    "A continuación se describen los datos del autor original y se realiza la respectiva referencia.\n",
    "\n",
    "__Autor:__ Paolo Ripamonti -\n",
    "[Acerca del autor](https://www.kaggle.com/paoloripamonti)\n",
    "\n",
    "__Notebook:__ Twitter Sentimental Analysis -\n",
    "[Notebook original](https://www.kaggle.com/paoloripamonti/twitter-sentiment-analysis)\n",
    "\n",
    "El notebook se modifica con el ánimo de realizar este análisis de sentimientos en el lenguaje español\n",
    "asi como adecuarlo para escalar apropiadamente para su uso en una arquitectura Big Data"
   ]
  },
  {
   "cell_type": "code",
   "execution_count": 1,
   "metadata": {
    "_uuid": "303e72966af732ddef0bd8108a321095314e44af"
   },
   "outputs": [],
   "source": [
    "# DataFrame\n",
    "import pandas as pd\n",
    "\n",
    "# Matplot\n",
    "import matplotlib.pyplot as plt\n",
    "%matplotlib inline\n",
    "\n",
    "# Scikit-learn\n",
    "from sklearn.model_selection import train_test_split\n",
    "from sklearn.preprocessing import LabelEncoder\n",
    "from sklearn.metrics import confusion_matrix, classification_report, accuracy_score\n",
    "from sklearn.manifold import TSNE\n",
    "from sklearn.feature_extraction.text import TfidfVectorizer\n",
    "\n",
    "# Keras\n",
    "from keras.preprocessing.text import Tokenizer\n",
    "from keras.preprocessing.sequence import pad_sequences\n",
    "from keras.models import Sequential\n",
    "from keras.layers import Activation, Dense, Dropout, Embedding, Flatten, Conv1D, MaxPooling1D, LSTM\n",
    "from keras import utils\n",
    "from keras.callbacks import ReduceLROnPlateau, EarlyStopping\n",
    "\n",
    "# nltk\n",
    "import nltk\n",
    "from nltk.corpus import stopwords\n",
    "from  nltk.stem import SnowballStemmer\n",
    "\n",
    "# Word2vec\n",
    "import gensim\n",
    "\n",
    "# Utility\n",
    "import re\n",
    "import numpy as np\n",
    "import os\n",
    "from collections import Counter\n",
    "import logging\n",
    "import time\n",
    "import pickle\n",
    "import itertools\n",
    "\n",
    "# Set log\n",
    "logging.basicConfig(format='%(asctime)s : %(levelname)s : %(message)s', level=logging.INFO)"
   ]
  },
  {
   "cell_type": "code",
   "execution_count": 2,
   "metadata": {
    "_uuid": "35e1a89dead5fd160e4c9a024a21d2e569fc89ff"
   },
   "outputs": [
    {
     "name": "stderr",
     "output_type": "stream",
     "text": [
      "[nltk_data] Downloading package stopwords to\n",
      "[nltk_data]     C:\\Users\\Proyecto\\AppData\\Roaming\\nltk_data...\n",
      "[nltk_data]   Package stopwords is already up-to-date!\n"
     ]
    },
    {
     "data": {
      "text/plain": [
       "True"
      ]
     },
     "execution_count": 2,
     "metadata": {},
     "output_type": "execute_result"
    }
   ],
   "source": [
    "nltk.download('stopwords')"
   ]
  },
  {
   "cell_type": "markdown",
   "metadata": {
    "_uuid": "e8b01a07df001e4abcc745900336c4db06e455f3"
   },
   "source": [
    "### Settings"
   ]
  },
  {
   "cell_type": "code",
   "execution_count": 3,
   "metadata": {
    "_uuid": "180f0dd2a95419e4602b5c0229822b0111c826f6"
   },
   "outputs": [],
   "source": [
    "# DATASET\n",
    "DATASET_COLUMNS = [\"target\", \"ids\", \"date\", \"flag\", \"user\", \"text\"]\n",
    "DATASET_ENCODING = \"ISO-8859-1\"\n",
    "TRAIN_SIZE = 0.8\n",
    "\n",
    "# TEXT CLENAING\n",
    "TEXT_CLEANING_RE = \"@\\S+|https?:\\S+|http?:\\S|[^A-Za-z0-9]+\"\n",
    "\n",
    "# WORD2VEC \n",
    "W2V_SIZE = 300\n",
    "W2V_WINDOW = 7\n",
    "W2V_EPOCH = 32\n",
    "W2V_MIN_COUNT = 10\n",
    "\n",
    "# KERAS\n",
    "SEQUENCE_LENGTH = 300\n",
    "EPOCHS = 8\n",
    "BATCH_SIZE = 1024\n",
    "\n",
    "# SENTIMENT\n",
    "POSITIVE = \"POSITIVE\"\n",
    "NEGATIVE = \"NEGATIVE\"\n",
    "NEUTRAL = \"NEUTRAL\"\n",
    "SENTIMENT_THRESHOLDS = (0.4, 0.7)\n",
    "\n",
    "# EXPORT\n",
    "KERAS_MODEL = \"model.h5\"\n",
    "WORD2VEC_MODEL = \"model.w2v\"\n",
    "TOKENIZER_MODEL = \"tokenizer.pkl\"\n",
    "ENCODER_MODEL = \"encoder.pkl\""
   ]
  },
  {
   "cell_type": "markdown",
   "metadata": {
    "_uuid": "1c3beecc618be68480b3d4f0de08d9d863da1dc1"
   },
   "source": [
    "### Read Dataset"
   ]
  },
  {
   "cell_type": "markdown",
   "metadata": {
    "_uuid": "563b3c44f1092dba0b853747b098e00509098cca"
   },
   "source": [
    "### Dataset details\n",
    "* **target**: the polarity of the tweet (0 = negative, 2 = neutral, 4 = positive)\n",
    "* **ids**: The id of the tweet ( 2087)\n",
    "* **date**: the date of the tweet (Sat May 16 23:58:44 UTC 2009)\n",
    "* **flag**: The query (lyx). If there is no query, then this value is NO_QUERY.\n",
    "* **user**: the user that tweeted (robotickilldozr)\n",
    "* **text**: the text of the tweet (Lyx is cool)"
   ]
  },
  {
   "cell_type": "code",
   "execution_count": 4,
   "metadata": {
    "_uuid": "bba8f91cd70de4f5ea0fb0870ae2029b6e3dcc24"
   },
   "outputs": [
    {
     "name": "stdout",
     "output_type": "stream",
     "text": [
      "Open file: data/dbm-model-result-2.csv\n"
     ]
    }
   ],
   "source": [
    "# dataset_filename = os.listdir(\"../input\")[0]\n",
    "# dataset_path = os.path.join(\"..\",\"input\",dataset_filename)\n",
    "dataset_path = 'data/dbm-model-result-2.csv'\n",
    "print(\"Open file:\", dataset_path)\n",
    "#df = pd.read_csv(dataset_path, encoding=DATASET_ENCODING, names=DATASET_COLUMNS, sep=';')\n",
    "df = pd.read_csv(dataset_path, encoding=DATASET_ENCODING, sep=';')"
   ]
  },
  {
   "cell_type": "code",
   "execution_count": 5,
   "metadata": {
    "_uuid": "936d499c00c4f1648bc16ca9d283c3b39be7fb10"
   },
   "outputs": [
    {
     "name": "stdout",
     "output_type": "stream",
     "text": [
      "Dataset size: 14430\n"
     ]
    }
   ],
   "source": [
    "print(\"Dataset size:\", len(df))"
   ]
  },
  {
   "cell_type": "code",
   "execution_count": 6,
   "metadata": {
    "_uuid": "7486ed895b813c5246f97b31b6162b0f65ff763b"
   },
   "outputs": [
    {
     "data": {
      "text/html": [
       "<div>\n",
       "<style scoped>\n",
       "    .dataframe tbody tr th:only-of-type {\n",
       "        vertical-align: middle;\n",
       "    }\n",
       "\n",
       "    .dataframe tbody tr th {\n",
       "        vertical-align: top;\n",
       "    }\n",
       "\n",
       "    .dataframe thead th {\n",
       "        text-align: right;\n",
       "    }\n",
       "</style>\n",
       "<table border=\"1\" class=\"dataframe\">\n",
       "  <thead>\n",
       "    <tr style=\"text-align: right;\">\n",
       "      <th></th>\n",
       "      <th>target</th>\n",
       "      <th>text</th>\n",
       "      <th>date</th>\n",
       "      <th>ids</th>\n",
       "      <th>user</th>\n",
       "    </tr>\n",
       "  </thead>\n",
       "  <tbody>\n",
       "    <tr>\n",
       "      <th>0</th>\n",
       "      <td>4</td>\n",
       "      <td>RT @el_pais : \"La misoginia ha hecho que sea e...</td>\n",
       "      <td>Sat Apr 13 06:08:43 +0000 2019</td>\n",
       "      <td>1.116946e+18</td>\n",
       "      <td>alertamachismo</td>\n",
       "    </tr>\n",
       "    <tr>\n",
       "      <th>1</th>\n",
       "      <td>4</td>\n",
       "      <td>RT @Med_DipAlmaguer : Ante el aumento de ataqu...</td>\n",
       "      <td>Fri Apr 05 07:46:12 +0000 2019</td>\n",
       "      <td>1.114072e+18</td>\n",
       "      <td>alertamachismo</td>\n",
       "    </tr>\n",
       "    <tr>\n",
       "      <th>2</th>\n",
       "      <td>4</td>\n",
       "      <td>RT @guardiacivil : ðMuyUrgenteð´\\nCarmen ...</td>\n",
       "      <td>Thu Apr 04 01:14:51 +0000 2019</td>\n",
       "      <td>1.113611e+18</td>\n",
       "      <td>alertamachismo</td>\n",
       "    </tr>\n",
       "    <tr>\n",
       "      <th>3</th>\n",
       "      <td>4</td>\n",
       "      <td>RT @GanemoSala : .@alertamachismo @movfeminist...</td>\n",
       "      <td>Thu Apr 04 01:32:45 +0000 2019</td>\n",
       "      <td>1.113615e+18</td>\n",
       "      <td>alertamachismo</td>\n",
       "    </tr>\n",
       "    <tr>\n",
       "      <th>4</th>\n",
       "      <td>4</td>\n",
       "      <td>RT @tomasantoniomaz : Por una vida SIN #Violen...</td>\n",
       "      <td>Sat Nov 25 03:51:46 +0000 2017</td>\n",
       "      <td>9.342683e+17</td>\n",
       "      <td>alertamachismo</td>\n",
       "    </tr>\n",
       "  </tbody>\n",
       "</table>\n",
       "</div>"
      ],
      "text/plain": [
       "   target                                               text  \\\n",
       "0       4  RT @el_pais : \"La misoginia ha hecho que sea e...   \n",
       "1       4  RT @Med_DipAlmaguer : Ante el aumento de ataqu...   \n",
       "2       4  RT @guardiacivil : ðMuyUrgenteð´\\nCarmen ...   \n",
       "3       4  RT @GanemoSala : .@alertamachismo @movfeminist...   \n",
       "4       4  RT @tomasantoniomaz : Por una vida SIN #Violen...   \n",
       "\n",
       "                             date           ids            user  \n",
       "0  Sat Apr 13 06:08:43 +0000 2019  1.116946e+18  alertamachismo  \n",
       "1  Fri Apr 05 07:46:12 +0000 2019  1.114072e+18  alertamachismo  \n",
       "2  Thu Apr 04 01:14:51 +0000 2019  1.113611e+18  alertamachismo  \n",
       "3  Thu Apr 04 01:32:45 +0000 2019  1.113615e+18  alertamachismo  \n",
       "4  Sat Nov 25 03:51:46 +0000 2017  9.342683e+17  alertamachismo  "
      ]
     },
     "execution_count": 6,
     "metadata": {},
     "output_type": "execute_result"
    }
   ],
   "source": [
    "df.head(5)"
   ]
  },
  {
   "cell_type": "markdown",
   "metadata": {
    "_uuid": "3f9a7bb129e184967b13261fb5d253af451c75c5"
   },
   "source": [
    "### Map target label to String\n",
    "* **0** -> **NEGATIVE**\n",
    "* **2** -> **NEUTRAL**\n",
    "* **4** -> **POSITIVE**"
   ]
  },
  {
   "cell_type": "code",
   "execution_count": 7,
   "metadata": {
    "_uuid": "14074b59106cb9550440839e48b832223fc9502f"
   },
   "outputs": [],
   "source": [
    "decode_map = {0: \"NEGATIVE\", 2: \"NEUTRAL\", 4: \"POSITIVE\"}\n",
    "def decode_sentiment(label):\n",
    "    return decode_map[int(label)]"
   ]
  },
  {
   "cell_type": "code",
   "execution_count": 8,
   "metadata": {
    "_uuid": "4449d473187f647a195a6ac6986b009da32a7f4b"
   },
   "outputs": [
    {
     "name": "stdout",
     "output_type": "stream",
     "text": [
      "Wall time: 6.01 ms\n"
     ]
    }
   ],
   "source": [
    "%%time\n",
    "df.target = df.target.apply(lambda x: decode_sentiment(x))"
   ]
  },
  {
   "cell_type": "code",
   "execution_count": 9,
   "metadata": {
    "_uuid": "19eb327803192f31cce3512aacb232f4d6b38715"
   },
   "outputs": [
    {
     "data": {
      "text/plain": [
       "Text(0.5, 1.0, 'Dataset labels distribuition')"
      ]
     },
     "execution_count": 9,
     "metadata": {},
     "output_type": "execute_result"
    },
    {
     "data": {
      "image/png": "[encoded data removed]",
      "text/plain": [
       "<Figure size 1152x576 with 1 Axes>"
      ]
     },
     "metadata": {
      "needs_background": "light"
     },
     "output_type": "display_data"
    }
   ],
   "source": [
    "target_cnt = Counter(df.target)\n",
    "\n",
    "plt.figure(figsize=(16,8))\n",
    "plt.bar(target_cnt.keys(), target_cnt.values())\n",
    "plt.title(\"Dataset labels distribuition\")"
   ]
  },
  {
   "cell_type": "markdown",
   "metadata": {
    "_uuid": "4329b1573518b03e497213efa7676220734ebb4b"
   },
   "source": [
    "### Pre-Process dataset"
   ]
  },
  {
   "cell_type": "code",
   "execution_count": 10,
   "metadata": {
    "_uuid": "8aeee8b7b9ea11b749c7f91cd4787a7b50ed1a91"
   },
   "outputs": [],
   "source": [
    "stop_words = stopwords.words(\"spanish\")\n",
    "stemmer = SnowballStemmer(\"spanish\")"
   ]
  },
  {
   "cell_type": "code",
   "execution_count": 11,
   "metadata": {
    "_uuid": "649ebcb97969b9ac4301138783704bb3d7846a49"
   },
   "outputs": [],
   "source": [
    "def preprocess(text, stem=False):\n",
    "    # Remove link,user and special characters\n",
    "    text = re.sub(TEXT_CLEANING_RE, ' ', str(text).lower()).strip()\n",
    "    tokens = []\n",
    "    for token in text.split():\n",
    "        if token not in stop_words:\n",
    "            if stem:\n",
    "                tokens.append(stemmer.stem(token))\n",
    "            else:\n",
    "                tokens.append(token)\n",
    "    return \" \".join(tokens)"
   ]
  },
  {
   "cell_type": "code",
   "execution_count": 12,
   "metadata": {
    "_uuid": "f7f3e77ab9291d14687c49e71ba9b2b1e3323432"
   },
   "outputs": [
    {
     "name": "stdout",
     "output_type": "stream",
     "text": [
      "Wall time: 1.39 s\n"
     ]
    }
   ],
   "source": [
    "%%time\n",
    "df.text = df.text.apply(lambda x: preprocess(x))"
   ]
  },
  {
   "cell_type": "markdown",
   "metadata": {
    "_uuid": "f5f9714a8507409bbe780eebf2855a33e8e6ba37"
   },
   "source": [
    "### Split train and test"
   ]
  },
  {
   "cell_type": "code",
   "execution_count": 13,
   "metadata": {
    "_uuid": "d2b1179c968e3f3910c790ecf0c5b2cbb34b0e68"
   },
   "outputs": [
    {
     "name": "stdout",
     "output_type": "stream",
     "text": [
      "TRAIN size: 11544\n",
      "TEST size: 2886\n"
     ]
    }
   ],
   "source": [
    "df_train, df_test = train_test_split(df, test_size=1-TRAIN_SIZE, random_state=42)\n",
    "print(\"TRAIN size:\", len(df_train))\n",
    "print(\"TEST size:\", len(df_test))"
   ]
  },
  {
   "cell_type": "markdown",
   "metadata": {
    "_uuid": "f08a28aab2c3d16d8b9681a7d5d07587153a1cd6"
   },
   "source": [
    "### Word2Vec "
   ]
  },
  {
   "cell_type": "code",
   "execution_count": 14,
   "metadata": {
    "_uuid": "2461bf564de1b4414841933d0c1d1bee5f5cc5a6"
   },
   "outputs": [
    {
     "name": "stdout",
     "output_type": "stream",
     "text": [
      "Wall time: 22 ms\n"
     ]
    }
   ],
   "source": [
    "%%time\n",
    "documents = [_text.split() for _text in df_train.text] "
   ]
  },
  {
   "cell_type": "code",
   "execution_count": 15,
   "metadata": {
    "_uuid": "8e19b9f25801ba86420decc266d2b3e6fb44f1ea"
   },
   "outputs": [],
   "source": [
    "w2v_model = gensim.models.word2vec.Word2Vec(size=W2V_SIZE, \n",
    "                                            window=W2V_WINDOW, \n",
    "                                            min_count=W2V_MIN_COUNT, \n",
    "                                            workers=8)"
   ]
  },
  {
   "cell_type": "code",
   "execution_count": 16,
   "metadata": {
    "_uuid": "58d655af07653c594bec6bebcfb302a973b0ad9c"
   },
   "outputs": [
    {
     "name": "stderr",
     "output_type": "stream",
     "text": [
      "2020-11-16 21:04:27,526 : INFO : collecting all words and their counts\n",
      "2020-11-16 21:04:27,527 : INFO : PROGRESS: at sentence #0, processed 0 words, keeping 0 word types\n",
      "2020-11-16 21:04:27,575 : INFO : PROGRESS: at sentence #10000, processed 201528 words, keeping 28609 word types\n",
      "2020-11-16 21:04:27,582 : INFO : collected 30888 word types from a corpus of 232532 raw words and 11544 sentences\n",
      "2020-11-16 21:04:27,583 : INFO : Loading a fresh vocabulary\n",
      "2020-11-16 21:04:27,599 : INFO : effective_min_count=10 retains 3653 unique words (11% of original 30888, drops 27235)\n",
      "2020-11-16 21:04:27,600 : INFO : effective_min_count=10 leaves 174441 word corpus (75% of original 232532, drops 58091)\n",
      "2020-11-16 21:04:27,611 : INFO : deleting the raw counts dictionary of 30888 items\n",
      "2020-11-16 21:04:27,612 : INFO : sample=0.001 downsamples 28 most-common words\n",
      "2020-11-16 21:04:27,613 : INFO : downsampling leaves estimated 155036 word corpus (88.9% of prior 174441)\n",
      "2020-11-16 21:04:27,619 : INFO : estimated required memory for 3653 words and 300 dimensions: 10593700 bytes\n",
      "2020-11-16 21:04:27,620 : INFO : resetting layer weights\n"
     ]
    }
   ],
   "source": [
    "w2v_model.build_vocab(documents)"
   ]
  },
  {
   "cell_type": "code",
   "execution_count": 17,
   "metadata": {
    "_uuid": "72a5628ca81fd4b8983c12d93ae0bf950b86b6ae"
   },
   "outputs": [
    {
     "name": "stdout",
     "output_type": "stream",
     "text": [
      "Vocab size 3653\n"
     ]
    }
   ],
   "source": [
    "words = w2v_model.wv.vocab.keys()\n",
    "vocab_size = len(words)\n",
    "print(\"Vocab size\", vocab_size)"
   ]
  },
  {
   "cell_type": "code",
   "execution_count": 18,
   "metadata": {
    "_uuid": "68c3e4a5ba07cac3dee67f78ecdd1404c7f83f14"
   },
   "outputs": [
    {
     "name": "stderr",
     "output_type": "stream",
     "text": [
      "2020-11-16 21:04:28,313 : INFO : training model with 8 workers on 3653 vocabulary and 300 features, using sg=0 hs=0 sample=0.001 negative=5 window=7\n",
      "2020-11-16 21:04:28,417 : INFO : worker thread finished; awaiting finish of 7 more threads\n",
      "2020-11-16 21:04:28,425 : INFO : worker thread finished; awaiting finish of 6 more threads\n",
      "2020-11-16 21:04:28,429 : INFO : worker thread finished; awaiting finish of 5 more threads\n",
      "2020-11-16 21:04:28,431 : INFO : worker thread finished; awaiting finish of 4 more threads\n",
      "2020-11-16 21:04:28,437 : INFO : worker thread finished; awaiting finish of 3 more threads\n",
      "2020-11-16 21:04:28,438 : INFO : worker thread finished; awaiting finish of 2 more threads\n",
      "2020-11-16 21:04:28,443 : INFO : worker thread finished; awaiting finish of 1 more threads\n",
      "2020-11-16 21:04:28,444 : INFO : worker thread finished; awaiting finish of 0 more threads\n",
      "2020-11-16 21:04:28,445 : INFO : EPOCH - 1 : training on 232532 raw words (155024 effective words) took 0.1s, 1288542 effective words/s\n",
      "2020-11-16 21:04:28,550 : INFO : worker thread finished; awaiting finish of 7 more threads\n",
      "2020-11-16 21:04:28,561 : INFO : worker thread finished; awaiting finish of 6 more threads\n",
      "2020-11-16 21:04:28,563 : INFO : worker thread finished; awaiting finish of 5 more threads\n",
      "2020-11-16 21:04:28,564 : INFO : worker thread finished; awaiting finish of 4 more threads\n",
      "2020-11-16 21:04:28,567 : INFO : worker thread finished; awaiting finish of 3 more threads\n",
      "2020-11-16 21:04:28,568 : INFO : worker thread finished; awaiting finish of 2 more threads\n",
      "2020-11-16 21:04:28,573 : INFO : worker thread finished; awaiting finish of 1 more threads\n",
      "2020-11-16 21:04:28,577 : INFO : worker thread finished; awaiting finish of 0 more threads\n",
      "2020-11-16 21:04:28,578 : INFO : EPOCH - 2 : training on 232532 raw words (155039 effective words) took 0.1s, 1274019 effective words/s\n",
      "2020-11-16 21:04:28,675 : INFO : worker thread finished; awaiting finish of 7 more threads\n",
      "2020-11-16 21:04:28,687 : INFO : worker thread finished; awaiting finish of 6 more threads\n",
      "2020-11-16 21:04:28,689 : INFO : worker thread finished; awaiting finish of 5 more threads\n",
      "2020-11-16 21:04:28,693 : INFO : worker thread finished; awaiting finish of 4 more threads\n",
      "2020-11-16 21:04:28,695 : INFO : worker thread finished; awaiting finish of 3 more threads\n",
      "2020-11-16 21:04:28,696 : INFO : worker thread finished; awaiting finish of 2 more threads\n",
      "2020-11-16 21:04:28,703 : INFO : worker thread finished; awaiting finish of 1 more threads\n",
      "2020-11-16 21:04:28,704 : INFO : worker thread finished; awaiting finish of 0 more threads\n",
      "2020-11-16 21:04:28,705 : INFO : EPOCH - 3 : training on 232532 raw words (155099 effective words) took 0.1s, 1330298 effective words/s\n",
      "2020-11-16 21:04:28,816 : INFO : worker thread finished; awaiting finish of 7 more threads\n",
      "2020-11-16 21:04:28,819 : INFO : worker thread finished; awaiting finish of 6 more threads\n",
      "2020-11-16 21:04:28,821 : INFO : worker thread finished; awaiting finish of 5 more threads\n",
      "2020-11-16 21:04:28,824 : INFO : worker thread finished; awaiting finish of 4 more threads\n",
      "2020-11-16 21:04:28,829 : INFO : worker thread finished; awaiting finish of 3 more threads\n",
      "2020-11-16 21:04:28,830 : INFO : worker thread finished; awaiting finish of 2 more threads\n",
      "2020-11-16 21:04:28,834 : INFO : worker thread finished; awaiting finish of 1 more threads\n",
      "2020-11-16 21:04:28,836 : INFO : worker thread finished; awaiting finish of 0 more threads\n",
      "2020-11-16 21:04:28,836 : INFO : EPOCH - 4 : training on 232532 raw words (155082 effective words) took 0.1s, 1288056 effective words/s\n",
      "2020-11-16 21:04:28,944 : INFO : worker thread finished; awaiting finish of 7 more threads\n",
      "2020-11-16 21:04:28,951 : INFO : worker thread finished; awaiting finish of 6 more threads\n",
      "2020-11-16 21:04:28,957 : INFO : worker thread finished; awaiting finish of 5 more threads\n",
      "2020-11-16 21:04:28,959 : INFO : worker thread finished; awaiting finish of 4 more threads\n",
      "2020-11-16 21:04:28,964 : INFO : worker thread finished; awaiting finish of 3 more threads\n",
      "2020-11-16 21:04:28,965 : INFO : worker thread finished; awaiting finish of 2 more threads\n",
      "2020-11-16 21:04:28,968 : INFO : worker thread finished; awaiting finish of 1 more threads\n",
      "2020-11-16 21:04:28,969 : INFO : worker thread finished; awaiting finish of 0 more threads\n",
      "2020-11-16 21:04:28,970 : INFO : EPOCH - 5 : training on 232532 raw words (155155 effective words) took 0.1s, 1274123 effective words/s\n",
      "2020-11-16 21:04:29,082 : INFO : worker thread finished; awaiting finish of 7 more threads\n",
      "2020-11-16 21:04:29,084 : INFO : worker thread finished; awaiting finish of 6 more threads\n",
      "2020-11-16 21:04:29,085 : INFO : worker thread finished; awaiting finish of 5 more threads\n",
      "2020-11-16 21:04:29,087 : INFO : worker thread finished; awaiting finish of 4 more threads\n",
      "2020-11-16 21:04:29,095 : INFO : worker thread finished; awaiting finish of 3 more threads\n",
      "2020-11-16 21:04:29,097 : INFO : worker thread finished; awaiting finish of 2 more threads\n",
      "2020-11-16 21:04:29,098 : INFO : worker thread finished; awaiting finish of 1 more threads\n",
      "2020-11-16 21:04:29,100 : INFO : worker thread finished; awaiting finish of 0 more threads\n",
      "2020-11-16 21:04:29,101 : INFO : EPOCH - 6 : training on 232532 raw words (154970 effective words) took 0.1s, 1296018 effective words/s\n",
      "2020-11-16 21:04:29,219 : INFO : worker thread finished; awaiting finish of 7 more threads\n",
      "2020-11-16 21:04:29,227 : INFO : worker thread finished; awaiting finish of 6 more threads\n",
      "2020-11-16 21:04:29,228 : INFO : worker thread finished; awaiting finish of 5 more threads\n",
      "2020-11-16 21:04:29,233 : INFO : worker thread finished; awaiting finish of 4 more threads\n",
      "2020-11-16 21:04:29,239 : INFO : worker thread finished; awaiting finish of 3 more threads\n",
      "2020-11-16 21:04:29,241 : INFO : worker thread finished; awaiting finish of 2 more threads\n",
      "2020-11-16 21:04:29,242 : INFO : worker thread finished; awaiting finish of 1 more threads\n",
      "2020-11-16 21:04:29,243 : INFO : worker thread finished; awaiting finish of 0 more threads\n",
      "2020-11-16 21:04:29,244 : INFO : EPOCH - 7 : training on 232532 raw words (155070 effective words) took 0.1s, 1155854 effective words/s\n",
      "2020-11-16 21:04:29,352 : INFO : worker thread finished; awaiting finish of 7 more threads\n",
      "2020-11-16 21:04:29,356 : INFO : worker thread finished; awaiting finish of 6 more threads\n",
      "2020-11-16 21:04:29,357 : INFO : worker thread finished; awaiting finish of 5 more threads\n",
      "2020-11-16 21:04:29,361 : INFO : worker thread finished; awaiting finish of 4 more threads\n",
      "2020-11-16 21:04:29,363 : INFO : worker thread finished; awaiting finish of 3 more threads\n",
      "2020-11-16 21:04:29,364 : INFO : worker thread finished; awaiting finish of 2 more threads\n",
      "2020-11-16 21:04:29,371 : INFO : worker thread finished; awaiting finish of 1 more threads\n",
      "2020-11-16 21:04:29,372 : INFO : worker thread finished; awaiting finish of 0 more threads\n",
      "2020-11-16 21:04:29,373 : INFO : EPOCH - 8 : training on 232532 raw words (155079 effective words) took 0.1s, 1321231 effective words/s\n",
      "2020-11-16 21:04:29,480 : INFO : worker thread finished; awaiting finish of 7 more threads\n",
      "2020-11-16 21:04:29,483 : INFO : worker thread finished; awaiting finish of 6 more threads\n",
      "2020-11-16 21:04:29,485 : INFO : worker thread finished; awaiting finish of 5 more threads\n",
      "2020-11-16 21:04:29,487 : INFO : worker thread finished; awaiting finish of 4 more threads\n",
      "2020-11-16 21:04:29,489 : INFO : worker thread finished; awaiting finish of 3 more threads\n",
      "2020-11-16 21:04:29,492 : INFO : worker thread finished; awaiting finish of 2 more threads\n",
      "2020-11-16 21:04:29,503 : INFO : worker thread finished; awaiting finish of 1 more threads\n",
      "2020-11-16 21:04:29,504 : INFO : worker thread finished; awaiting finish of 0 more threads\n",
      "2020-11-16 21:04:29,505 : INFO : EPOCH - 9 : training on 232532 raw words (154956 effective words) took 0.1s, 1288344 effective words/s\n",
      "2020-11-16 21:04:29,613 : INFO : worker thread finished; awaiting finish of 7 more threads\n",
      "2020-11-16 21:04:29,621 : INFO : worker thread finished; awaiting finish of 6 more threads\n",
      "2020-11-16 21:04:29,622 : INFO : worker thread finished; awaiting finish of 5 more threads\n",
      "2020-11-16 21:04:29,622 : INFO : worker thread finished; awaiting finish of 4 more threads\n",
      "2020-11-16 21:04:29,626 : INFO : worker thread finished; awaiting finish of 3 more threads\n",
      "2020-11-16 21:04:29,628 : INFO : worker thread finished; awaiting finish of 2 more threads\n",
      "2020-11-16 21:04:29,638 : INFO : worker thread finished; awaiting finish of 1 more threads\n",
      "2020-11-16 21:04:29,639 : INFO : worker thread finished; awaiting finish of 0 more threads\n",
      "2020-11-16 21:04:29,640 : INFO : EPOCH - 10 : training on 232532 raw words (155148 effective words) took 0.1s, 1257170 effective words/s\n",
      "2020-11-16 21:04:29,750 : INFO : worker thread finished; awaiting finish of 7 more threads\n",
      "2020-11-16 21:04:29,752 : INFO : worker thread finished; awaiting finish of 6 more threads\n",
      "2020-11-16 21:04:29,753 : INFO : worker thread finished; awaiting finish of 5 more threads\n",
      "2020-11-16 21:04:29,758 : INFO : worker thread finished; awaiting finish of 4 more threads\n",
      "2020-11-16 21:04:29,762 : INFO : worker thread finished; awaiting finish of 3 more threads\n",
      "2020-11-16 21:04:29,764 : INFO : worker thread finished; awaiting finish of 2 more threads\n",
      "2020-11-16 21:04:29,770 : INFO : worker thread finished; awaiting finish of 1 more threads\n",
      "2020-11-16 21:04:29,771 : INFO : worker thread finished; awaiting finish of 0 more threads\n",
      "2020-11-16 21:04:29,772 : INFO : EPOCH - 11 : training on 232532 raw words (154935 effective words) took 0.1s, 1260614 effective words/s\n",
      "2020-11-16 21:04:29,883 : INFO : worker thread finished; awaiting finish of 7 more threads\n",
      "2020-11-16 21:04:29,884 : INFO : worker thread finished; awaiting finish of 6 more threads\n",
      "2020-11-16 21:04:29,886 : INFO : worker thread finished; awaiting finish of 5 more threads\n",
      "2020-11-16 21:04:29,888 : INFO : worker thread finished; awaiting finish of 4 more threads\n",
      "2020-11-16 21:04:29,891 : INFO : worker thread finished; awaiting finish of 3 more threads\n",
      "2020-11-16 21:04:29,893 : INFO : worker thread finished; awaiting finish of 2 more threads\n",
      "2020-11-16 21:04:29,904 : INFO : worker thread finished; awaiting finish of 1 more threads\n",
      "2020-11-16 21:04:29,905 : INFO : worker thread finished; awaiting finish of 0 more threads\n",
      "2020-11-16 21:04:29,906 : INFO : EPOCH - 12 : training on 232532 raw words (155053 effective words) took 0.1s, 1265963 effective words/s\n",
      "2020-11-16 21:04:30,026 : INFO : worker thread finished; awaiting finish of 7 more threads\n",
      "2020-11-16 21:04:30,030 : INFO : worker thread finished; awaiting finish of 6 more threads\n",
      "2020-11-16 21:04:30,031 : INFO : worker thread finished; awaiting finish of 5 more threads\n",
      "2020-11-16 21:04:30,033 : INFO : worker thread finished; awaiting finish of 4 more threads\n",
      "2020-11-16 21:04:30,035 : INFO : worker thread finished; awaiting finish of 3 more threads\n",
      "2020-11-16 21:04:30,044 : INFO : worker thread finished; awaiting finish of 2 more threads\n",
      "2020-11-16 21:04:30,045 : INFO : worker thread finished; awaiting finish of 1 more threads\n",
      "2020-11-16 21:04:30,046 : INFO : worker thread finished; awaiting finish of 0 more threads\n",
      "2020-11-16 21:04:30,047 : INFO : EPOCH - 13 : training on 232532 raw words (155119 effective words) took 0.1s, 1200302 effective words/s\n",
      "2020-11-16 21:04:30,147 : INFO : worker thread finished; awaiting finish of 7 more threads\n",
      "2020-11-16 21:04:30,160 : INFO : worker thread finished; awaiting finish of 6 more threads\n",
      "2020-11-16 21:04:30,162 : INFO : worker thread finished; awaiting finish of 5 more threads\n",
      "2020-11-16 21:04:30,163 : INFO : worker thread finished; awaiting finish of 4 more threads\n",
      "2020-11-16 21:04:30,166 : INFO : worker thread finished; awaiting finish of 3 more threads\n",
      "2020-11-16 21:04:30,169 : INFO : worker thread finished; awaiting finish of 2 more threads\n",
      "2020-11-16 21:04:30,170 : INFO : worker thread finished; awaiting finish of 1 more threads\n",
      "2020-11-16 21:04:30,174 : INFO : worker thread finished; awaiting finish of 0 more threads\n",
      "2020-11-16 21:04:30,175 : INFO : EPOCH - 14 : training on 232532 raw words (155009 effective words) took 0.1s, 1318596 effective words/s\n",
      "2020-11-16 21:04:30,286 : INFO : worker thread finished; awaiting finish of 7 more threads\n",
      "2020-11-16 21:04:30,290 : INFO : worker thread finished; awaiting finish of 6 more threads\n",
      "2020-11-16 21:04:30,292 : INFO : worker thread finished; awaiting finish of 5 more threads\n",
      "2020-11-16 21:04:30,294 : INFO : worker thread finished; awaiting finish of 4 more threads\n",
      "2020-11-16 21:04:30,296 : INFO : worker thread finished; awaiting finish of 3 more threads\n",
      "2020-11-16 21:04:30,300 : INFO : worker thread finished; awaiting finish of 2 more threads\n",
      "2020-11-16 21:04:30,306 : INFO : worker thread finished; awaiting finish of 1 more threads\n",
      "2020-11-16 21:04:30,307 : INFO : worker thread finished; awaiting finish of 0 more threads\n",
      "2020-11-16 21:04:30,308 : INFO : EPOCH - 15 : training on 232532 raw words (155091 effective words) took 0.1s, 1281702 effective words/s\n",
      "2020-11-16 21:04:30,414 : INFO : worker thread finished; awaiting finish of 7 more threads\n",
      "2020-11-16 21:04:30,422 : INFO : worker thread finished; awaiting finish of 6 more threads\n",
      "2020-11-16 21:04:30,423 : INFO : worker thread finished; awaiting finish of 5 more threads\n",
      "2020-11-16 21:04:30,427 : INFO : worker thread finished; awaiting finish of 4 more threads\n",
      "2020-11-16 21:04:30,431 : INFO : worker thread finished; awaiting finish of 3 more threads\n",
      "2020-11-16 21:04:30,437 : INFO : worker thread finished; awaiting finish of 2 more threads\n",
      "2020-11-16 21:04:30,439 : INFO : worker thread finished; awaiting finish of 1 more threads\n",
      "2020-11-16 21:04:30,440 : INFO : worker thread finished; awaiting finish of 0 more threads\n",
      "2020-11-16 21:04:30,441 : INFO : EPOCH - 16 : training on 232532 raw words (154953 effective words) took 0.1s, 1262895 effective words/s\n",
      "2020-11-16 21:04:30,559 : INFO : worker thread finished; awaiting finish of 7 more threads\n",
      "2020-11-16 21:04:30,571 : INFO : worker thread finished; awaiting finish of 6 more threads\n",
      "2020-11-16 21:04:30,573 : INFO : worker thread finished; awaiting finish of 5 more threads\n",
      "2020-11-16 21:04:30,575 : INFO : worker thread finished; awaiting finish of 4 more threads\n",
      "2020-11-16 21:04:30,576 : INFO : worker thread finished; awaiting finish of 3 more threads\n",
      "2020-11-16 21:04:30,581 : INFO : worker thread finished; awaiting finish of 2 more threads\n",
      "2020-11-16 21:04:30,583 : INFO : worker thread finished; awaiting finish of 1 more threads\n",
      "2020-11-16 21:04:30,588 : INFO : worker thread finished; awaiting finish of 0 more threads\n",
      "2020-11-16 21:04:30,589 : INFO : EPOCH - 17 : training on 232532 raw words (155043 effective words) took 0.1s, 1132636 effective words/s\n",
      "2020-11-16 21:04:30,697 : INFO : worker thread finished; awaiting finish of 7 more threads\n",
      "2020-11-16 21:04:30,708 : INFO : worker thread finished; awaiting finish of 6 more threads\n",
      "2020-11-16 21:04:30,713 : INFO : worker thread finished; awaiting finish of 5 more threads\n",
      "2020-11-16 21:04:30,714 : INFO : worker thread finished; awaiting finish of 4 more threads\n",
      "2020-11-16 21:04:30,715 : INFO : worker thread finished; awaiting finish of 3 more threads\n",
      "2020-11-16 21:04:30,716 : INFO : worker thread finished; awaiting finish of 2 more threads\n",
      "2020-11-16 21:04:30,723 : INFO : worker thread finished; awaiting finish of 1 more threads\n",
      "2020-11-16 21:04:30,725 : INFO : worker thread finished; awaiting finish of 0 more threads\n",
      "2020-11-16 21:04:30,726 : INFO : EPOCH - 18 : training on 232532 raw words (155003 effective words) took 0.1s, 1232774 effective words/s\n",
      "2020-11-16 21:04:30,837 : INFO : worker thread finished; awaiting finish of 7 more threads\n",
      "2020-11-16 21:04:30,842 : INFO : worker thread finished; awaiting finish of 6 more threads\n",
      "2020-11-16 21:04:30,843 : INFO : worker thread finished; awaiting finish of 5 more threads\n",
      "2020-11-16 21:04:30,844 : INFO : worker thread finished; awaiting finish of 4 more threads\n",
      "2020-11-16 21:04:30,846 : INFO : worker thread finished; awaiting finish of 3 more threads\n",
      "2020-11-16 21:04:30,857 : INFO : worker thread finished; awaiting finish of 2 more threads\n",
      "2020-11-16 21:04:30,858 : INFO : worker thread finished; awaiting finish of 1 more threads\n",
      "2020-11-16 21:04:30,859 : INFO : worker thread finished; awaiting finish of 0 more threads\n",
      "2020-11-16 21:04:30,860 : INFO : EPOCH - 19 : training on 232532 raw words (155146 effective words) took 0.1s, 1267548 effective words/s\n",
      "2020-11-16 21:04:30,968 : INFO : worker thread finished; awaiting finish of 7 more threads\n",
      "2020-11-16 21:04:30,974 : INFO : worker thread finished; awaiting finish of 6 more threads\n",
      "2020-11-16 21:04:30,977 : INFO : worker thread finished; awaiting finish of 5 more threads\n",
      "2020-11-16 21:04:30,983 : INFO : worker thread finished; awaiting finish of 4 more threads\n",
      "2020-11-16 21:04:30,984 : INFO : worker thread finished; awaiting finish of 3 more threads\n",
      "2020-11-16 21:04:30,985 : INFO : worker thread finished; awaiting finish of 2 more threads\n",
      "2020-11-16 21:04:30,987 : INFO : worker thread finished; awaiting finish of 1 more threads\n",
      "2020-11-16 21:04:30,992 : INFO : worker thread finished; awaiting finish of 0 more threads\n",
      "2020-11-16 21:04:30,993 : INFO : EPOCH - 20 : training on 232532 raw words (155093 effective words) took 0.1s, 1273937 effective words/s\n",
      "2020-11-16 21:04:31,099 : INFO : worker thread finished; awaiting finish of 7 more threads\n",
      "2020-11-16 21:04:31,104 : INFO : worker thread finished; awaiting finish of 6 more threads\n",
      "2020-11-16 21:04:31,108 : INFO : worker thread finished; awaiting finish of 5 more threads\n",
      "2020-11-16 21:04:31,110 : INFO : worker thread finished; awaiting finish of 4 more threads\n",
      "2020-11-16 21:04:31,111 : INFO : worker thread finished; awaiting finish of 3 more threads\n",
      "2020-11-16 21:04:31,117 : INFO : worker thread finished; awaiting finish of 2 more threads\n",
      "2020-11-16 21:04:31,122 : INFO : worker thread finished; awaiting finish of 1 more threads\n",
      "2020-11-16 21:04:31,123 : INFO : worker thread finished; awaiting finish of 0 more threads\n",
      "2020-11-16 21:04:31,124 : INFO : EPOCH - 21 : training on 232532 raw words (155065 effective words) took 0.1s, 1296538 effective words/s\n",
      "2020-11-16 21:04:31,239 : INFO : worker thread finished; awaiting finish of 7 more threads\n",
      "2020-11-16 21:04:31,247 : INFO : worker thread finished; awaiting finish of 6 more threads\n",
      "2020-11-16 21:04:31,251 : INFO : worker thread finished; awaiting finish of 5 more threads\n",
      "2020-11-16 21:04:31,254 : INFO : worker thread finished; awaiting finish of 4 more threads\n",
      "2020-11-16 21:04:31,260 : INFO : worker thread finished; awaiting finish of 3 more threads\n",
      "2020-11-16 21:04:31,261 : INFO : worker thread finished; awaiting finish of 2 more threads\n",
      "2020-11-16 21:04:31,264 : INFO : worker thread finished; awaiting finish of 1 more threads\n",
      "2020-11-16 21:04:31,268 : INFO : worker thread finished; awaiting finish of 0 more threads\n",
      "2020-11-16 21:04:31,269 : INFO : EPOCH - 22 : training on 232532 raw words (155022 effective words) took 0.1s, 1160887 effective words/s\n",
      "2020-11-16 21:04:31,383 : INFO : worker thread finished; awaiting finish of 7 more threads\n",
      "2020-11-16 21:04:31,392 : INFO : worker thread finished; awaiting finish of 6 more threads\n",
      "2020-11-16 21:04:31,393 : INFO : worker thread finished; awaiting finish of 5 more threads\n",
      "2020-11-16 21:04:31,398 : INFO : worker thread finished; awaiting finish of 4 more threads\n",
      "2020-11-16 21:04:31,400 : INFO : worker thread finished; awaiting finish of 3 more threads\n",
      "2020-11-16 21:04:31,402 : INFO : worker thread finished; awaiting finish of 2 more threads\n",
      "2020-11-16 21:04:31,408 : INFO : worker thread finished; awaiting finish of 1 more threads\n",
      "2020-11-16 21:04:31,409 : INFO : worker thread finished; awaiting finish of 0 more threads\n",
      "2020-11-16 21:04:31,410 : INFO : EPOCH - 23 : training on 232532 raw words (155014 effective words) took 0.1s, 1194388 effective words/s\n",
      "2020-11-16 21:04:31,529 : INFO : worker thread finished; awaiting finish of 7 more threads\n",
      "2020-11-16 21:04:31,531 : INFO : worker thread finished; awaiting finish of 6 more threads\n",
      "2020-11-16 21:04:31,533 : INFO : worker thread finished; awaiting finish of 5 more threads\n",
      "2020-11-16 21:04:31,534 : INFO : worker thread finished; awaiting finish of 4 more threads\n",
      "2020-11-16 21:04:31,537 : INFO : worker thread finished; awaiting finish of 3 more threads\n",
      "2020-11-16 21:04:31,539 : INFO : worker thread finished; awaiting finish of 2 more threads\n",
      "2020-11-16 21:04:31,547 : INFO : worker thread finished; awaiting finish of 1 more threads\n",
      "2020-11-16 21:04:31,548 : INFO : worker thread finished; awaiting finish of 0 more threads\n",
      "2020-11-16 21:04:31,549 : INFO : EPOCH - 24 : training on 232532 raw words (155126 effective words) took 0.1s, 1220601 effective words/s\n",
      "2020-11-16 21:04:31,662 : INFO : worker thread finished; awaiting finish of 7 more threads\n",
      "2020-11-16 21:04:31,667 : INFO : worker thread finished; awaiting finish of 6 more threads\n",
      "2020-11-16 21:04:31,669 : INFO : worker thread finished; awaiting finish of 5 more threads\n",
      "2020-11-16 21:04:31,670 : INFO : worker thread finished; awaiting finish of 4 more threads\n",
      "2020-11-16 21:04:31,673 : INFO : worker thread finished; awaiting finish of 3 more threads\n",
      "2020-11-16 21:04:31,679 : INFO : worker thread finished; awaiting finish of 2 more threads\n",
      "2020-11-16 21:04:31,681 : INFO : worker thread finished; awaiting finish of 1 more threads\n",
      "2020-11-16 21:04:31,682 : INFO : worker thread finished; awaiting finish of 0 more threads\n",
      "2020-11-16 21:04:31,683 : INFO : EPOCH - 25 : training on 232532 raw words (155114 effective words) took 0.1s, 1235138 effective words/s\n",
      "2020-11-16 21:04:31,814 : INFO : worker thread finished; awaiting finish of 7 more threads\n",
      "2020-11-16 21:04:31,821 : INFO : worker thread finished; awaiting finish of 6 more threads\n",
      "2020-11-16 21:04:31,823 : INFO : worker thread finished; awaiting finish of 5 more threads\n",
      "2020-11-16 21:04:31,824 : INFO : worker thread finished; awaiting finish of 4 more threads\n",
      "2020-11-16 21:04:31,825 : INFO : worker thread finished; awaiting finish of 3 more threads\n",
      "2020-11-16 21:04:31,828 : INFO : worker thread finished; awaiting finish of 2 more threads\n",
      "2020-11-16 21:04:31,837 : INFO : worker thread finished; awaiting finish of 1 more threads\n",
      "2020-11-16 21:04:31,838 : INFO : worker thread finished; awaiting finish of 0 more threads\n",
      "2020-11-16 21:04:31,838 : INFO : EPOCH - 26 : training on 232532 raw words (155061 effective words) took 0.1s, 1076416 effective words/s\n",
      "2020-11-16 21:04:31,961 : INFO : worker thread finished; awaiting finish of 7 more threads\n",
      "2020-11-16 21:04:31,968 : INFO : worker thread finished; awaiting finish of 6 more threads\n",
      "2020-11-16 21:04:31,969 : INFO : worker thread finished; awaiting finish of 5 more threads\n",
      "2020-11-16 21:04:31,971 : INFO : worker thread finished; awaiting finish of 4 more threads\n",
      "2020-11-16 21:04:31,974 : INFO : worker thread finished; awaiting finish of 3 more threads\n",
      "2020-11-16 21:04:31,975 : INFO : worker thread finished; awaiting finish of 2 more threads\n",
      "2020-11-16 21:04:31,984 : INFO : worker thread finished; awaiting finish of 1 more threads\n",
      "2020-11-16 21:04:31,987 : INFO : worker thread finished; awaiting finish of 0 more threads\n",
      "2020-11-16 21:04:31,988 : INFO : EPOCH - 27 : training on 232532 raw words (155143 effective words) took 0.1s, 1116810 effective words/s\n",
      "2020-11-16 21:04:32,105 : INFO : worker thread finished; awaiting finish of 7 more threads\n",
      "2020-11-16 21:04:32,107 : INFO : worker thread finished; awaiting finish of 6 more threads\n",
      "2020-11-16 21:04:32,112 : INFO : worker thread finished; awaiting finish of 5 more threads\n",
      "2020-11-16 21:04:32,114 : INFO : worker thread finished; awaiting finish of 4 more threads\n",
      "2020-11-16 21:04:32,118 : INFO : worker thread finished; awaiting finish of 3 more threads\n",
      "2020-11-16 21:04:32,119 : INFO : worker thread finished; awaiting finish of 2 more threads\n",
      "2020-11-16 21:04:32,123 : INFO : worker thread finished; awaiting finish of 1 more threads\n",
      "2020-11-16 21:04:32,124 : INFO : worker thread finished; awaiting finish of 0 more threads\n",
      "2020-11-16 21:04:32,125 : INFO : EPOCH - 28 : training on 232532 raw words (155127 effective words) took 0.1s, 1238534 effective words/s\n",
      "2020-11-16 21:04:32,250 : INFO : worker thread finished; awaiting finish of 7 more threads\n",
      "2020-11-16 21:04:32,254 : INFO : worker thread finished; awaiting finish of 6 more threads\n",
      "2020-11-16 21:04:32,257 : INFO : worker thread finished; awaiting finish of 5 more threads\n",
      "2020-11-16 21:04:32,259 : INFO : worker thread finished; awaiting finish of 4 more threads\n",
      "2020-11-16 21:04:32,261 : INFO : worker thread finished; awaiting finish of 3 more threads\n",
      "2020-11-16 21:04:32,269 : INFO : worker thread finished; awaiting finish of 2 more threads\n",
      "2020-11-16 21:04:32,270 : INFO : worker thread finished; awaiting finish of 1 more threads\n",
      "2020-11-16 21:04:32,272 : INFO : worker thread finished; awaiting finish of 0 more threads\n",
      "2020-11-16 21:04:32,273 : INFO : EPOCH - 29 : training on 232532 raw words (154886 effective words) took 0.1s, 1134047 effective words/s\n",
      "2020-11-16 21:04:32,384 : INFO : worker thread finished; awaiting finish of 7 more threads\n",
      "2020-11-16 21:04:32,393 : INFO : worker thread finished; awaiting finish of 6 more threads\n",
      "2020-11-16 21:04:32,395 : INFO : worker thread finished; awaiting finish of 5 more threads\n",
      "2020-11-16 21:04:32,399 : INFO : worker thread finished; awaiting finish of 4 more threads\n",
      "2020-11-16 21:04:32,400 : INFO : worker thread finished; awaiting finish of 3 more threads\n",
      "2020-11-16 21:04:32,404 : INFO : worker thread finished; awaiting finish of 2 more threads\n",
      "2020-11-16 21:04:32,408 : INFO : worker thread finished; awaiting finish of 1 more threads\n",
      "2020-11-16 21:04:32,410 : INFO : worker thread finished; awaiting finish of 0 more threads\n",
      "2020-11-16 21:04:32,411 : INFO : EPOCH - 30 : training on 232532 raw words (155088 effective words) took 0.1s, 1228269 effective words/s\n",
      "2020-11-16 21:04:32,528 : INFO : worker thread finished; awaiting finish of 7 more threads\n",
      "2020-11-16 21:04:32,538 : INFO : worker thread finished; awaiting finish of 6 more threads\n",
      "2020-11-16 21:04:32,545 : INFO : worker thread finished; awaiting finish of 5 more threads\n",
      "2020-11-16 21:04:32,550 : INFO : worker thread finished; awaiting finish of 4 more threads\n",
      "2020-11-16 21:04:32,552 : INFO : worker thread finished; awaiting finish of 3 more threads\n",
      "2020-11-16 21:04:32,553 : INFO : worker thread finished; awaiting finish of 2 more threads\n",
      "2020-11-16 21:04:32,557 : INFO : worker thread finished; awaiting finish of 1 more threads\n",
      "2020-11-16 21:04:32,564 : INFO : worker thread finished; awaiting finish of 0 more threads\n",
      "2020-11-16 21:04:32,565 : INFO : EPOCH - 31 : training on 232532 raw words (154882 effective words) took 0.1s, 1088709 effective words/s\n",
      "2020-11-16 21:04:32,680 : INFO : worker thread finished; awaiting finish of 7 more threads\n",
      "2020-11-16 21:04:32,691 : INFO : worker thread finished; awaiting finish of 6 more threads\n",
      "2020-11-16 21:04:32,692 : INFO : worker thread finished; awaiting finish of 5 more threads\n",
      "2020-11-16 21:04:32,697 : INFO : worker thread finished; awaiting finish of 4 more threads\n",
      "2020-11-16 21:04:32,699 : INFO : worker thread finished; awaiting finish of 3 more threads\n",
      "2020-11-16 21:04:32,699 : INFO : worker thread finished; awaiting finish of 2 more threads\n",
      "2020-11-16 21:04:32,708 : INFO : worker thread finished; awaiting finish of 1 more threads\n",
      "2020-11-16 21:04:32,709 : INFO : worker thread finished; awaiting finish of 0 more threads\n",
      "2020-11-16 21:04:32,709 : INFO : EPOCH - 32 : training on 232532 raw words (155104 effective words) took 0.1s, 1165459 effective words/s\n",
      "2020-11-16 21:04:32,710 : INFO : training on a 7441024 raw words (4961699 effective words) took 4.4s, 1128645 effective words/s\n"
     ]
    },
    {
     "name": "stdout",
     "output_type": "stream",
     "text": [
      "Wall time: 4.4 s\n"
     ]
    },
    {
     "data": {
      "text/plain": [
       "(4961699, 7441024)"
      ]
     },
     "execution_count": 18,
     "metadata": {},
     "output_type": "execute_result"
    }
   ],
   "source": [
    "%%time\n",
    "w2v_model.train(documents, total_examples=len(documents), epochs=W2V_EPOCH)"
   ]
  },
  {
   "cell_type": "code",
   "execution_count": 19,
   "metadata": {
    "_uuid": "27cc2651c74227115d8bfd8c40e5618048e05edd"
   },
   "outputs": [],
   "source": [
    "#w2v_model.wv.most_similar(\"Violencia\")"
   ]
  },
  {
   "cell_type": "markdown",
   "metadata": {
    "_uuid": "e13563644468037258598637b49373ca96b9b879"
   },
   "source": [
    "### Tokenize Text"
   ]
  },
  {
   "cell_type": "code",
   "execution_count": 20,
   "metadata": {
    "_uuid": "6852bc709a7cd20173cbeeb218505078f8f37c57"
   },
   "outputs": [
    {
     "name": "stdout",
     "output_type": "stream",
     "text": [
      "Total words 30889\n",
      "Wall time: 282 ms\n"
     ]
    }
   ],
   "source": [
    "%%time\n",
    "tokenizer = Tokenizer()\n",
    "tokenizer.fit_on_texts(df_train.text)\n",
    "\n",
    "vocab_size = len(tokenizer.word_index) + 1\n",
    "print(\"Total words\", vocab_size)"
   ]
  },
  {
   "cell_type": "code",
   "execution_count": 21,
   "metadata": {
    "_uuid": "45de439df3015030c71f84c2d170346936a1d68f"
   },
   "outputs": [
    {
     "name": "stdout",
     "output_type": "stream",
     "text": [
      "Wall time: 308 ms\n"
     ]
    }
   ],
   "source": [
    "%%time\n",
    "x_train = pad_sequences(tokenizer.texts_to_sequences(df_train.text), maxlen=SEQUENCE_LENGTH)\n",
    "x_test = pad_sequences(tokenizer.texts_to_sequences(df_test.text), maxlen=SEQUENCE_LENGTH)"
   ]
  },
  {
   "cell_type": "markdown",
   "metadata": {
    "_uuid": "03b35903fc6260e190d6928d240ef7432de117fc"
   },
   "source": [
    "### Label Encoder "
   ]
  },
  {
   "cell_type": "code",
   "execution_count": 22,
   "metadata": {
    "_uuid": "33676e0efa39e97d89bd650b8b4eae933a22fbf0"
   },
   "outputs": [
    {
     "data": {
      "text/plain": [
       "['NEGATIVE', 'POSITIVE']"
      ]
     },
     "execution_count": 22,
     "metadata": {},
     "output_type": "execute_result"
    }
   ],
   "source": [
    "labels = df_train.target.unique().tolist()\n",
    "#labels.append(NEUTRAL)\n",
    "labels"
   ]
  },
  {
   "cell_type": "code",
   "execution_count": 23,
   "metadata": {
    "_uuid": "04239a9bef76e7922fd86098a5601dfde8ee4665"
   },
   "outputs": [
    {
     "name": "stdout",
     "output_type": "stream",
     "text": [
      "y_train (11544, 1)\n",
      "y_test (2886, 1)\n"
     ]
    }
   ],
   "source": [
    "encoder = LabelEncoder()\n",
    "encoder.fit(df_train.target.tolist())\n",
    "\n",
    "y_train = encoder.transform(df_train.target.tolist())\n",
    "y_test = encoder.transform(df_test.target.tolist())\n",
    "\n",
    "y_train = y_train.reshape(-1,1)\n",
    "y_test = y_test.reshape(-1,1)\n",
    "\n",
    "print(\"y_train\",y_train.shape)\n",
    "print(\"y_test\",y_test.shape)"
   ]
  },
  {
   "cell_type": "code",
   "execution_count": 24,
   "metadata": {
    "_uuid": "04299c886911ca135583ab64878f213939a2990c"
   },
   "outputs": [
    {
     "name": "stdout",
     "output_type": "stream",
     "text": [
      "x_train (11544, 300)\n",
      "y_train (11544, 1)\n",
      "\n",
      "x_test (2886, 300)\n",
      "y_test (2886, 1)\n"
     ]
    }
   ],
   "source": [
    "print(\"x_train\", x_train.shape)\n",
    "print(\"y_train\", y_train.shape)\n",
    "print()\n",
    "print(\"x_test\", x_test.shape)\n",
    "print(\"y_test\", y_test.shape)"
   ]
  },
  {
   "cell_type": "code",
   "execution_count": 25,
   "metadata": {
    "_uuid": "232533fb27b7be99d9b8c2f8fb22c9c6bf121a6f"
   },
   "outputs": [
    {
     "data": {
      "text/plain": [
       "array([[0],\n",
       "       [0],\n",
       "       [1],\n",
       "       [0],\n",
       "       [0],\n",
       "       [0],\n",
       "       [0],\n",
       "       [1],\n",
       "       [0],\n",
       "       [1]], dtype=int64)"
      ]
     },
     "execution_count": 25,
     "metadata": {},
     "output_type": "execute_result"
    }
   ],
   "source": [
    "y_train[:10]"
   ]
  },
  {
   "cell_type": "markdown",
   "metadata": {
    "_uuid": "233c0ea94055a03e2e7df3e2a13d036ec963484f"
   },
   "source": [
    "### Embedding layer"
   ]
  },
  {
   "cell_type": "code",
   "execution_count": 26,
   "metadata": {
    "_uuid": "9ab488374b59e3f30f8b1ea92767d853c4846bac"
   },
   "outputs": [
    {
     "name": "stdout",
     "output_type": "stream",
     "text": [
      "(30889, 300)\n"
     ]
    }
   ],
   "source": [
    "embedding_matrix = np.zeros((vocab_size, W2V_SIZE))\n",
    "for word, i in tokenizer.word_index.items():\n",
    "  if word in w2v_model.wv:\n",
    "    embedding_matrix[i] = w2v_model.wv[word]\n",
    "print(embedding_matrix.shape)"
   ]
  },
  {
   "cell_type": "code",
   "execution_count": 27,
   "metadata": {
    "_uuid": "833279d91e4286065968237fb5f2a0c2dd4d246c"
   },
   "outputs": [],
   "source": [
    "embedding_layer = Embedding(vocab_size, W2V_SIZE, weights=[embedding_matrix], input_length=SEQUENCE_LENGTH, trainable=False)"
   ]
  },
  {
   "cell_type": "markdown",
   "metadata": {
    "_uuid": "b299ef78f94c2085942c993a2d58753a7476305a"
   },
   "source": [
    "### Build Model"
   ]
  },
  {
   "cell_type": "code",
   "execution_count": 28,
   "metadata": {
    "_uuid": "e775ef4f1b74e6412457181383c39f2df554ef3f"
   },
   "outputs": [
    {
     "name": "stdout",
     "output_type": "stream",
     "text": [
      "Model: \"sequential\"\n",
      "_________________________________________________________________\n",
      "Layer (type)                 Output Shape              Param #   \n",
      "=================================================================\n",
      "embedding (Embedding)        (None, 300, 300)          9266700   \n",
      "_________________________________________________________________\n",
      "dropout (Dropout)            (None, 300, 300)          0         \n",
      "_________________________________________________________________\n",
      "lstm (LSTM)                  (None, 100)               160400    \n",
      "_________________________________________________________________\n",
      "dense (Dense)                (None, 1)                 101       \n",
      "=================================================================\n",
      "Total params: 9,427,201\n",
      "Trainable params: 160,501\n",
      "Non-trainable params: 9,266,700\n",
      "_________________________________________________________________\n"
     ]
    }
   ],
   "source": [
    "model = Sequential()\n",
    "model.add(embedding_layer)\n",
    "model.add(Dropout(0.5))\n",
    "model.add(LSTM(100, dropout=0.2, recurrent_dropout=0.2))\n",
    "model.add(Dense(1, activation='sigmoid'))\n",
    "\n",
    "model.summary()"
   ]
  },
  {
   "cell_type": "markdown",
   "metadata": {
    "_uuid": "28d22eafd0c7d798dcf3d742bc92fb8577939e6c"
   },
   "source": [
    "### Compile model"
   ]
  },
  {
   "cell_type": "code",
   "execution_count": 29,
   "metadata": {
    "_uuid": "1331e08d590bb2aa2033706c8faca217afc0f1c3"
   },
   "outputs": [],
   "source": [
    "model.compile(loss='binary_crossentropy',\n",
    "              optimizer=\"adam\",\n",
    "              metrics=['accuracy'])"
   ]
  },
  {
   "cell_type": "markdown",
   "metadata": {
    "_uuid": "c7733127cb8b380e0c807268903bf4d03ef92542"
   },
   "source": [
    "### Callbacks"
   ]
  },
  {
   "cell_type": "code",
   "execution_count": 30,
   "metadata": {
    "_uuid": "a688df590386f5748da6fe00b01904fe6c71619e"
   },
   "outputs": [],
   "source": [
    "callbacks = [ ReduceLROnPlateau(monitor='val_loss', patience=5, cooldown=0),\n",
    "              EarlyStopping(monitor='val_accuracy', min_delta=1e-4, patience=5)]"
   ]
  },
  {
   "cell_type": "markdown",
   "metadata": {
    "_uuid": "8d0873633dd49179c8cae17377641b97d323ef3b"
   },
   "source": [
    "### Train"
   ]
  },
  {
   "cell_type": "code",
   "execution_count": 31,
   "metadata": {
    "_uuid": "2b659d390c6577dc5cdb6b6297934279b4e801d5"
   },
   "outputs": [
    {
     "name": "stdout",
     "output_type": "stream",
     "text": [
      "Epoch 1/8\n",
      "11/11 [==============================] - 64s 6s/step - loss: 0.6874 - accuracy: 0.5458 - val_loss: 0.6710 - val_accuracy: 0.5680\n",
      "Epoch 2/8\n",
      "11/11 [==============================] - 65s 6s/step - loss: 0.6702 - accuracy: 0.5786 - val_loss: 0.6544 - val_accuracy: 0.5957\n",
      "Epoch 3/8\n",
      "11/11 [==============================] - 67s 6s/step - loss: 0.6572 - accuracy: 0.5980 - val_loss: 0.6505 - val_accuracy: 0.6139\n",
      "Epoch 4/8\n",
      "11/11 [==============================] - 70s 6s/step - loss: 0.6472 - accuracy: 0.6116 - val_loss: 0.6463 - val_accuracy: 0.6121\n",
      "Epoch 5/8\n",
      "11/11 [==============================] - 76s 7s/step - loss: 0.6429 - accuracy: 0.6164 - val_loss: 0.6431 - val_accuracy: 0.6260\n",
      "Epoch 6/8\n",
      "11/11 [==============================] - 80s 7s/step - loss: 0.6364 - accuracy: 0.6252 - val_loss: 0.6377 - val_accuracy: 0.6104\n",
      "Epoch 7/8\n",
      "11/11 [==============================] - 83s 8s/step - loss: 0.6318 - accuracy: 0.6253 - val_loss: 0.6355 - val_accuracy: 0.6216\n",
      "Epoch 8/8\n",
      "11/11 [==============================] - 86s 8s/step - loss: 0.6239 - accuracy: 0.6371 - val_loss: 0.6353 - val_accuracy: 0.6199\n",
      "Wall time: 10min 55s\n"
     ]
    }
   ],
   "source": [
    "%%time\n",
    "history = model.fit(x_train, y_train,\n",
    "                    batch_size=BATCH_SIZE,\n",
    "                    epochs=EPOCHS,\n",
    "                    validation_split=0.1,\n",
    "                    verbose=1,\n",
    "                    callbacks=callbacks)"
   ]
  },
  {
   "cell_type": "markdown",
   "metadata": {
    "_uuid": "267258196d96796ac69a7b8c466314bcf5d6ee42"
   },
   "source": [
    "### Evaluate"
   ]
  },
  {
   "cell_type": "code",
   "execution_count": 32,
   "metadata": {
    "_uuid": "98ecd8f1b8b74594c3ea775dd68a094e92458022"
   },
   "outputs": [
    {
     "name": "stdout",
     "output_type": "stream",
     "text": [
      "3/3 [==============================] - 2s 754ms/step - loss: 0.6385 - accuracy: 0.6209\n",
      "\n",
      "ACCURACY: 0.6209286451339722\n",
      "LOSS: 0.6384827494621277\n",
      "Wall time: 3.5 s\n"
     ]
    }
   ],
   "source": [
    "%%time\n",
    "score = model.evaluate(x_test, y_test, batch_size=BATCH_SIZE)\n",
    "print()\n",
    "print(\"ACCURACY:\",score[1])\n",
    "print(\"LOSS:\",score[0])"
   ]
  },
  {
   "cell_type": "code",
   "execution_count": 33,
   "metadata": {
    "_uuid": "40c72cd1e9d6c4fd799cbba7c813765ac4039dfc"
   },
   "outputs": [
    {
     "data": {
      "image/png": "[encoded data removed]",
      "text/plain": [
       "<Figure size 432x288 with 1 Axes>"
      ]
     },
     "metadata": {
      "needs_background": "light"
     },
     "output_type": "display_data"
    },
    {
     "data": {
      "image/png": "[encoded data removed]",
      "text/plain": [
       "<Figure size 432x288 with 1 Axes>"
      ]
     },
     "metadata": {
      "needs_background": "light"
     },
     "output_type": "display_data"
    }
   ],
   "source": [
    "acc = history.history['accuracy']\n",
    "val_acc = history.history['val_accuracy']\n",
    "loss = history.history['loss']\n",
    "val_loss = history.history['val_loss']\n",
    " \n",
    "epochs = range(len(acc))\n",
    " \n",
    "plt.plot(epochs, acc, 'b', label='Training acc')\n",
    "plt.plot(epochs, val_acc, 'r', label='Validation acc')\n",
    "plt.title('Training and validation accuracy')\n",
    "plt.legend()\n",
    " \n",
    "plt.figure()\n",
    " \n",
    "plt.plot(epochs, loss, 'b', label='Training loss')\n",
    "plt.plot(epochs, val_loss, 'r', label='Validation loss')\n",
    "plt.title('Training and validation loss')\n",
    "plt.legend()\n",
    " \n",
    "plt.show()"
   ]
  },
  {
   "cell_type": "markdown",
   "metadata": {
    "_uuid": "6bdfc0f6a6af5bebc0271d83dd7432c91001409b"
   },
   "source": [
    "### Predict"
   ]
  },
  {
   "cell_type": "code",
   "execution_count": 34,
   "metadata": {
    "_uuid": "f0b0fa3d4b1bb14b3f5e3d169a369f3ebef29ae1"
   },
   "outputs": [],
   "source": [
    "def decode_sentiment(score, include_neutral=True):\n",
    "    if include_neutral:        \n",
    "        label = NEUTRAL\n",
    "        if score <= SENTIMENT_THRESHOLDS[0]:\n",
    "            label = NEGATIVE\n",
    "        elif score >= SENTIMENT_THRESHOLDS[1]:\n",
    "            label = POSITIVE\n",
    "\n",
    "        return label\n",
    "    else:\n",
    "        return NEGATIVE if score < 0.5 else POSITIVE"
   ]
  },
  {
   "cell_type": "code",
   "execution_count": 35,
   "metadata": {
    "_uuid": "ed4086d651f2f8cbed11d3c909a8873607d29a06"
   },
   "outputs": [],
   "source": [
    "def predict(text, include_neutral=True):\n",
    "    start_at = time.time()\n",
    "    # Tokenize text\n",
    "    x_test = pad_sequences(tokenizer.texts_to_sequences([text]), maxlen=SEQUENCE_LENGTH)\n",
    "    # Predict\n",
    "    score = model.predict([x_test])[0]\n",
    "    # Decode sentiment\n",
    "    label = decode_sentiment(score, include_neutral=include_neutral)\n",
    "\n",
    "    return {\"label\": label, \"score\": float(score),\n",
    "       \"elapsed_time\": time.time()-start_at}  "
   ]
  },
  {
   "cell_type": "code",
   "execution_count": 36,
   "metadata": {
    "_uuid": "ca38b1e6c9b5acfed7467de2cf02a78333108872"
   },
   "outputs": [
    {
     "data": {
      "text/plain": [
       "{'label': 'NEUTRAL',\n",
       " 'score': 0.42131611704826355,\n",
       " 'elapsed_time': 0.21586918830871582}"
      ]
     },
     "execution_count": 36,
     "metadata": {},
     "output_type": "execute_result"
    }
   ],
   "source": [
    "predict(\"Masacre en el cauca deja 10 heridos\")"
   ]
  },
  {
   "cell_type": "code",
   "execution_count": 37,
   "metadata": {
    "_uuid": "0e5fe647533be0148850de349fea6ef6f71303d1"
   },
   "outputs": [
    {
     "data": {
      "text/plain": [
       "{'label': 'NEGATIVE',\n",
       " 'score': 0.33223211765289307,\n",
       " 'elapsed_time': 0.0559694766998291}"
      ]
     },
     "execution_count": 37,
     "metadata": {},
     "output_type": "execute_result"
    }
   ],
   "source": [
    "predict(\"Prevencion de la violencia contra la mujer\")"
   ]
  },
  {
   "cell_type": "markdown",
   "metadata": {
    "_uuid": "3ee72e47f84b6dbc32e02a783de5ec1661f157e1"
   },
   "source": [
    "### Confusion Matrix"
   ]
  },
  {
   "cell_type": "code",
   "execution_count": 38,
   "metadata": {
    "_uuid": "0e920173eb05f04aecdd735bc5dff0f5be5f8d15"
   },
   "outputs": [
    {
     "name": "stdout",
     "output_type": "stream",
     "text": [
      "1/1 [==============================] - 0s 2ms/step\n",
      "Wall time: 2.89 s\n"
     ]
    }
   ],
   "source": [
    "%%time\n",
    "y_pred_1d = []\n",
    "y_test_1d = list(df_test.target)\n",
    "scores = model.predict(x_test, verbose=1, batch_size=8000)\n",
    "y_pred_1d = [decode_sentiment(score, include_neutral=False) for score in scores]"
   ]
  },
  {
   "cell_type": "code",
   "execution_count": 39,
   "metadata": {
    "_uuid": "b3575191bb425ab871f3f41e83812ee84bb7e595"
   },
   "outputs": [],
   "source": [
    "def plot_confusion_matrix(cm, classes,\n",
    "                          title='Confusion matrix',\n",
    "                          cmap=plt.cm.Blues):\n",
    "    \"\"\"\n",
    "    This function prints and plots the confusion matrix.\n",
    "    Normalization can be applied by setting `normalize=True`.\n",
    "    \"\"\"\n",
    "\n",
    "    cm = cm.astype('float') / cm.sum(axis=1)[:, np.newaxis]\n",
    "\n",
    "    plt.imshow(cm, interpolation='nearest', cmap=cmap)\n",
    "    plt.title(title, fontsize=30)\n",
    "    plt.colorbar()\n",
    "    tick_marks = np.arange(len(classes))\n",
    "    plt.xticks(tick_marks, classes, rotation=90, fontsize=22)\n",
    "    plt.yticks(tick_marks, classes, fontsize=22)\n",
    "\n",
    "    fmt = '.2f'\n",
    "    thresh = cm.max() / 2.\n",
    "    for i, j in itertools.product(range(cm.shape[0]), range(cm.shape[1])):\n",
    "        plt.text(j, i, format(cm[i, j], fmt),\n",
    "                 horizontalalignment=\"center\",\n",
    "                 color=\"white\" if cm[i, j] > thresh else \"black\")\n",
    "\n",
    "    plt.ylabel('True label', fontsize=25)\n",
    "    plt.xlabel('Predicted label', fontsize=25)"
   ]
  },
  {
   "cell_type": "code",
   "execution_count": 40,
   "metadata": {
    "_uuid": "a57dc6f6211c144491a70f533225edfa95a2dc66"
   },
   "outputs": [
    {
     "data": {
      "image/png": "[encoded data removed]",
      "text/plain": [
       "<Figure size 720x720 with 2 Axes>"
      ]
     },
     "metadata": {
      "needs_background": "light"
     },
     "output_type": "display_data"
    },
    {
     "name": "stdout",
     "output_type": "stream",
     "text": [
      "Wall time: 174 ms\n"
     ]
    }
   ],
   "source": [
    "%%time\n",
    "\n",
    "cnf_matrix = confusion_matrix(y_test_1d, y_pred_1d)\n",
    "plt.figure(figsize=(10,10))\n",
    "plot_confusion_matrix(cnf_matrix, classes=df_train.target.unique(), title=\"Confusion matrix\")\n",
    "plt.show()"
   ]
  },
  {
   "cell_type": "markdown",
   "metadata": {
    "_uuid": "e23b957348dcc084249d3cc7538b972da471c2cd"
   },
   "source": [
    "### Classification Report"
   ]
  },
  {
   "cell_type": "code",
   "execution_count": 41,
   "metadata": {
    "_uuid": "a7fe05b7caa1c984ff1deb0be2f7c6bc043df9f5"
   },
   "outputs": [
    {
     "name": "stdout",
     "output_type": "stream",
     "text": [
      "              precision    recall  f1-score   support\n",
      "\n",
      "    NEGATIVE       0.60      0.73      0.66      1455\n",
      "    POSITIVE       0.65      0.51      0.57      1431\n",
      "\n",
      "    accuracy                           0.62      2886\n",
      "   macro avg       0.63      0.62      0.62      2886\n",
      "weighted avg       0.63      0.62      0.62      2886\n",
      "\n"
     ]
    }
   ],
   "source": [
    "print(classification_report(y_test_1d, y_pred_1d))"
   ]
  },
  {
   "cell_type": "markdown",
   "metadata": {
    "_uuid": "4eb300f0c6693a618587c7dcf32f77f5416cbfb9"
   },
   "source": [
    "### Accuracy Score"
   ]
  },
  {
   "cell_type": "code",
   "execution_count": 42,
   "metadata": {
    "_uuid": "5cf76e6e09f8a60ed25947932b94c772eda44d23"
   },
   "outputs": [
    {
     "data": {
      "text/plain": [
       "0.6209286209286209"
      ]
     },
     "execution_count": 42,
     "metadata": {},
     "output_type": "execute_result"
    }
   ],
   "source": [
    "accuracy_score(y_test_1d, y_pred_1d)"
   ]
  },
  {
   "cell_type": "markdown",
   "metadata": {
    "_uuid": "4f014c32f3833db282e1a075c526604f34e3158c"
   },
   "source": [
    "### Save model"
   ]
  },
  {
   "cell_type": "code",
   "execution_count": 43,
   "metadata": {
    "_uuid": "3b2b3ad5b592977b404acfa1c9ad303a62837255"
   },
   "outputs": [
    {
     "name": "stderr",
     "output_type": "stream",
     "text": [
      "2020-11-16 21:15:37,293 : INFO : saving Word2Vec object under model.w2v, separately None\n",
      "2020-11-16 21:15:37,294 : INFO : not storing attribute vectors_norm\n",
      "2020-11-16 21:15:37,294 : INFO : not storing attribute cum_table\n",
      "2020-11-16 21:15:37,366 : INFO : saved model.w2v\n"
     ]
    }
   ],
   "source": [
    "model.save(KERAS_MODEL)\n",
    "w2v_model.save(WORD2VEC_MODEL)\n",
    "pickle.dump(tokenizer, open(TOKENIZER_MODEL, \"wb\"), protocol=0)\n",
    "pickle.dump(encoder, open(ENCODER_MODEL, \"wb\"), protocol=0)"
   ]
  }
 ],
 "metadata": {
  "kernelspec": {
   "display_name": "Python [conda env:twitter] *",
   "language": "python",
   "name": "conda-env-twitter-py"
  },
  "language_info": {
   "codemirror_mode": {
    "name": "ipython",
    "version": 3
   },
   "file_extension": ".py",
   "mimetype": "text/x-python",
   "name": "python",
   "nbconvert_exporter": "python",
   "pygments_lexer": "ipython3",
   "version": "3.7.9"
  }
 },
 "nbformat": 4,
 "nbformat_minor": 4
}
