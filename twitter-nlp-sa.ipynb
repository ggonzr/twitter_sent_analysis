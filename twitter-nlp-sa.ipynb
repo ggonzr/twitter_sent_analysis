{
 "cells": [
  {
   "cell_type": "markdown",
   "metadata": {
    "_uuid": "92b885dd147dac19bd0a33db3cd0da100bd5bc23"
   },
   "source": [
    "# Twitter Sentiment Analysis"
   ]
  },
  {
   "cell_type": "markdown",
   "metadata": {},
   "source": [
    "## Analisis de sentimientos utilizando tweets\n",
    "\n",
    "Este Notebook contiene la implementación para generar un modelo de análisis de sentimientos\n",
    "utilizando una red neuronal recurrente de tipo _Long Short Term Memory_ asi como el proceso ETL para \n",
    "tokenizar las palabras y adecuar el conjunto de entrenamiento.\n",
    "\n",
    "A continuación se describen los datos del autor original y se realiza la respectiva referencia.\n",
    "\n",
    "__Autor:__ Paolo Ripamonti -\n",
    "[Acerca del autor](https://www.kaggle.com/paoloripamonti)\n",
    "\n",
    "__Notebook:__ Twitter Sentimental Analysis -\n",
    "[Notebook original](https://www.kaggle.com/paoloripamonti/twitter-sentiment-analysis)\n",
    "\n",
    "El notebook se modifica con el ánimo de realizar este análisis de sentimientos en el lenguaje español\n",
    "asi como adecuarlo para escalar apropiadamente para su uso en una arquitectura Big Data"
   ]
  },
  {
   "cell_type": "code",
   "execution_count": 1,
   "metadata": {
    "_uuid": "303e72966af732ddef0bd8108a321095314e44af"
   },
   "outputs": [],
   "source": [
    "# DataFrame\n",
    "import pandas as pd\n",
    "\n",
    "# Matplot\n",
    "import matplotlib.pyplot as plt\n",
    "%matplotlib inline\n",
    "\n",
    "# Scikit-learn\n",
    "from sklearn.model_selection import train_test_split\n",
    "from sklearn.preprocessing import LabelEncoder\n",
    "from sklearn.metrics import confusion_matrix, classification_report, accuracy_score\n",
    "from sklearn.manifold import TSNE\n",
    "from sklearn.feature_extraction.text import TfidfVectorizer\n",
    "\n",
    "# Keras\n",
    "from keras.preprocessing.text import Tokenizer\n",
    "from keras.preprocessing.sequence import pad_sequences\n",
    "from keras.models import Sequential\n",
    "from keras.layers import Activation, Dense, Dropout, Embedding, Flatten, Conv1D, MaxPooling1D, LSTM\n",
    "from keras import utils\n",
    "from keras.callbacks import ReduceLROnPlateau, EarlyStopping\n",
    "\n",
    "# nltk\n",
    "import nltk\n",
    "from nltk.corpus import stopwords\n",
    "from  nltk.stem import SnowballStemmer\n",
    "\n",
    "# Word2vec\n",
    "import gensim\n",
    "\n",
    "# Utility\n",
    "import re\n",
    "import numpy as np\n",
    "import os\n",
    "from collections import Counter\n",
    "import logging\n",
    "import time\n",
    "import pickle\n",
    "import itertools\n",
    "\n",
    "# Set log\n",
    "logging.basicConfig(format='%(asctime)s : %(levelname)s : %(message)s', level=logging.INFO)"
   ]
  },
  {
   "cell_type": "code",
   "execution_count": 2,
   "metadata": {
    "_uuid": "35e1a89dead5fd160e4c9a024a21d2e569fc89ff"
   },
   "outputs": [
    {
     "name": "stderr",
     "output_type": "stream",
     "text": [
      "[nltk_data] Downloading package stopwords to\n",
      "[nltk_data]     C:\\Users\\Geovanny\\AppData\\Roaming\\nltk_data...\n",
      "[nltk_data]   Package stopwords is already up-to-date!\n"
     ]
    },
    {
     "data": {
      "text/plain": [
       "True"
      ]
     },
     "execution_count": 2,
     "metadata": {},
     "output_type": "execute_result"
    }
   ],
   "source": [
    "nltk.download('stopwords')"
   ]
  },
  {
   "cell_type": "markdown",
   "metadata": {
    "_uuid": "e8b01a07df001e4abcc745900336c4db06e455f3"
   },
   "source": [
    "### Settings"
   ]
  },
  {
   "cell_type": "code",
   "execution_count": 3,
   "metadata": {
    "_uuid": "180f0dd2a95419e4602b5c0229822b0111c826f6"
   },
   "outputs": [],
   "source": [
    "# DATASET\n",
    "DATASET_COLUMNS = [\"target\", \"ids\", \"date\", \"flag\", \"user\", \"text\"]\n",
    "DATASET_ENCODING = \"ISO-8859-1\"\n",
    "TRAIN_SIZE = 0.8\n",
    "\n",
    "# TEXT CLENAING\n",
    "TEXT_CLEANING_RE = \"@\\S+|https?:\\S+|http?:\\S|[^A-Za-z0-9]+\"\n",
    "\n",
    "# WORD2VEC \n",
    "W2V_SIZE = 300\n",
    "W2V_WINDOW = 7\n",
    "W2V_EPOCH = 32\n",
    "W2V_MIN_COUNT = 10\n",
    "\n",
    "# KERAS\n",
    "SEQUENCE_LENGTH = 300\n",
    "EPOCHS = 8\n",
    "BATCH_SIZE = 1024\n",
    "\n",
    "# SENTIMENT\n",
    "POSITIVE = \"POSITIVE\"\n",
    "NEGATIVE = \"NEGATIVE\"\n",
    "NEUTRAL = \"NEUTRAL\"\n",
    "SENTIMENT_THRESHOLDS = (0.4, 0.7)\n",
    "\n",
    "# EXPORT\n",
    "KERAS_MODEL = \"model.h5\"\n",
    "WORD2VEC_MODEL = \"model.w2v\"\n",
    "TOKENIZER_MODEL = \"tokenizer.pkl\"\n",
    "ENCODER_MODEL = \"encoder.pkl\""
   ]
  },
  {
   "cell_type": "markdown",
   "metadata": {
    "_uuid": "1c3beecc618be68480b3d4f0de08d9d863da1dc1"
   },
   "source": [
    "### Read Dataset"
   ]
  },
  {
   "cell_type": "markdown",
   "metadata": {
    "_uuid": "563b3c44f1092dba0b853747b098e00509098cca"
   },
   "source": [
    "### Dataset details\n",
    "* **target**: the polarity of the tweet (0 = negative, 2 = neutral, 4 = positive)\n",
    "* **ids**: The id of the tweet ( 2087)\n",
    "* **date**: the date of the tweet (Sat May 16 23:58:44 UTC 2009)\n",
    "* **flag**: The query (lyx). If there is no query, then this value is NO_QUERY.\n",
    "* **user**: the user that tweeted (robotickilldozr)\n",
    "* **text**: the text of the tweet (Lyx is cool)"
   ]
  },
  {
   "cell_type": "code",
   "execution_count": 4,
   "metadata": {
    "_uuid": "bba8f91cd70de4f5ea0fb0870ae2029b6e3dcc24"
   },
   "outputs": [
    {
     "name": "stdout",
     "output_type": "stream",
     "text": [
      "Open file: C:/Users/Geovanny/Documents/Repositorios/twitter-bigdata/data/dataset-depurado.csv\n"
     ]
    }
   ],
   "source": [
    "# dataset_filename = os.listdir(\"../input\")[0]\n",
    "# dataset_path = os.path.join(\"..\",\"input\",dataset_filename)\n",
    "dataset_path = 'C:/Users/Geovanny/Documents/Repositorios/twitter-bigdata/data/dataset-depurado.csv'\n",
    "print(\"Open file:\", dataset_path)\n",
    "#df = pd.read_csv(dataset_path, encoding=DATASET_ENCODING, names=DATASET_COLUMNS, sep=';')\n",
    "df = pd.read_csv(dataset_path, encoding=DATASET_ENCODING, sep=';')"
   ]
  },
  {
   "cell_type": "code",
   "execution_count": 5,
   "metadata": {
    "_uuid": "936d499c00c4f1648bc16ca9d283c3b39be7fb10"
   },
   "outputs": [
    {
     "name": "stdout",
     "output_type": "stream",
     "text": [
      "Dataset size: 375\n"
     ]
    }
   ],
   "source": [
    "print(\"Dataset size:\", len(df))"
   ]
  },
  {
   "cell_type": "code",
   "execution_count": 6,
   "metadata": {
    "_uuid": "7486ed895b813c5246f97b31b6162b0f65ff763b"
   },
   "outputs": [
    {
     "data": {
      "text/html": [
       "<div>\n",
       "<style scoped>\n",
       "    .dataframe tbody tr th:only-of-type {\n",
       "        vertical-align: middle;\n",
       "    }\n",
       "\n",
       "    .dataframe tbody tr th {\n",
       "        vertical-align: top;\n",
       "    }\n",
       "\n",
       "    .dataframe thead th {\n",
       "        text-align: right;\n",
       "    }\n",
       "</style>\n",
       "<table border=\"1\" class=\"dataframe\">\n",
       "  <thead>\n",
       "    <tr style=\"text-align: right;\">\n",
       "      <th></th>\n",
       "      <th>target</th>\n",
       "      <th>ids</th>\n",
       "      <th>date</th>\n",
       "      <th>user</th>\n",
       "      <th>text</th>\n",
       "    </tr>\n",
       "  </thead>\n",
       "  <tbody>\n",
       "    <tr>\n",
       "      <th>0</th>\n",
       "      <td>0</td>\n",
       "      <td>1,32654E+18</td>\n",
       "      <td>11/11/2020 15:01</td>\n",
       "      <td>FlechasPaolo</td>\n",
       "      <td>RT SosSemana El 66 de la minera aluvial de oro...</td>\n",
       "    </tr>\n",
       "    <tr>\n",
       "      <th>1</th>\n",
       "      <td>0</td>\n",
       "      <td>1,32654E+18</td>\n",
       "      <td>11/11/2020 14:59</td>\n",
       "      <td>NicolasHC20</td>\n",
       "      <td>RT Rosental Muy grave muy triste la situacin q...</td>\n",
       "    </tr>\n",
       "    <tr>\n",
       "      <th>2</th>\n",
       "      <td>0</td>\n",
       "      <td>1,32654E+18</td>\n",
       "      <td>11/11/2020 14:58</td>\n",
       "      <td>DavidJRicardo1</td>\n",
       "      <td>RT SosSemana El 66 de la minera aluvial de oro...</td>\n",
       "    </tr>\n",
       "    <tr>\n",
       "      <th>3</th>\n",
       "      <td>0</td>\n",
       "      <td>1,32654E+18</td>\n",
       "      <td>11/11/2020 14:57</td>\n",
       "      <td>juanchaves_co</td>\n",
       "      <td>Creer en la ciencia se volvi un tema de partid...</td>\n",
       "    </tr>\n",
       "    <tr>\n",
       "      <th>4</th>\n",
       "      <td>0</td>\n",
       "      <td>1,32654E+18</td>\n",
       "      <td>11/11/2020 14:56</td>\n",
       "      <td>FlorMar81615791</td>\n",
       "      <td>RT SosSemana El 66 de la minera aluvial de oro...</td>\n",
       "    </tr>\n",
       "  </tbody>\n",
       "</table>\n",
       "</div>"
      ],
      "text/plain": [
       "   target          ids              date             user  \\\n",
       "0       0  1,32654E+18  11/11/2020 15:01     FlechasPaolo   \n",
       "1       0  1,32654E+18  11/11/2020 14:59      NicolasHC20   \n",
       "2       0  1,32654E+18  11/11/2020 14:58   DavidJRicardo1   \n",
       "3       0  1,32654E+18  11/11/2020 14:57    juanchaves_co   \n",
       "4       0  1,32654E+18  11/11/2020 14:56  FlorMar81615791   \n",
       "\n",
       "                                                text  \n",
       "0  RT SosSemana El 66 de la minera aluvial de oro...  \n",
       "1  RT Rosental Muy grave muy triste la situacin q...  \n",
       "2  RT SosSemana El 66 de la minera aluvial de oro...  \n",
       "3  Creer en la ciencia se volvi un tema de partid...  \n",
       "4  RT SosSemana El 66 de la minera aluvial de oro...  "
      ]
     },
     "execution_count": 6,
     "metadata": {},
     "output_type": "execute_result"
    }
   ],
   "source": [
    "df.head(5)"
   ]
  },
  {
   "cell_type": "markdown",
   "metadata": {
    "_uuid": "3f9a7bb129e184967b13261fb5d253af451c75c5"
   },
   "source": [
    "### Map target label to String\n",
    "* **0** -> **NEGATIVE**\n",
    "* **2** -> **NEUTRAL**\n",
    "* **4** -> **POSITIVE**"
   ]
  },
  {
   "cell_type": "code",
   "execution_count": 7,
   "metadata": {
    "_uuid": "14074b59106cb9550440839e48b832223fc9502f"
   },
   "outputs": [],
   "source": [
    "decode_map = {0: \"NEGATIVE\", 2: \"NEUTRAL\", 4: \"POSITIVE\"}\n",
    "def decode_sentiment(label):\n",
    "    return decode_map[int(label)]"
   ]
  },
  {
   "cell_type": "code",
   "execution_count": 8,
   "metadata": {
    "_uuid": "4449d473187f647a195a6ac6986b009da32a7f4b"
   },
   "outputs": [
    {
     "name": "stdout",
     "output_type": "stream",
     "text": [
      "Wall time: 950 µs\n"
     ]
    }
   ],
   "source": [
    "%%time\n",
    "df.target = df.target.apply(lambda x: decode_sentiment(x))"
   ]
  },
  {
   "cell_type": "code",
   "execution_count": 9,
   "metadata": {
    "_uuid": "19eb327803192f31cce3512aacb232f4d6b38715"
   },
   "outputs": [
    {
     "data": {
      "text/plain": [
       "Text(0.5, 1.0, 'Dataset labels distribuition')"
      ]
     },
     "execution_count": 9,
     "metadata": {},
     "output_type": "execute_result"
    },
    {
     "data": {
      "image/png": "[encoded data removed]",
      "text/plain": [
       "<Figure size 1152x576 with 1 Axes>"
      ]
     },
     "metadata": {
      "needs_background": "light"
     },
     "output_type": "display_data"
    }
   ],
   "source": [
    "target_cnt = Counter(df.target)\n",
    "\n",
    "plt.figure(figsize=(16,8))\n",
    "plt.bar(target_cnt.keys(), target_cnt.values())\n",
    "plt.title(\"Dataset labels distribuition\")"
   ]
  },
  {
   "cell_type": "markdown",
   "metadata": {
    "_uuid": "4329b1573518b03e497213efa7676220734ebb4b"
   },
   "source": [
    "### Pre-Process dataset"
   ]
  },
  {
   "cell_type": "code",
   "execution_count": 10,
   "metadata": {
    "_uuid": "8aeee8b7b9ea11b749c7f91cd4787a7b50ed1a91"
   },
   "outputs": [],
   "source": [
    "stop_words = stopwords.words(\"spanish\")\n",
    "stemmer = SnowballStemmer(\"spanish\")"
   ]
  },
  {
   "cell_type": "code",
   "execution_count": 11,
   "metadata": {
    "_uuid": "649ebcb97969b9ac4301138783704bb3d7846a49"
   },
   "outputs": [],
   "source": [
    "def preprocess(text, stem=False):\n",
    "    # Remove link,user and special characters\n",
    "    text = re.sub(TEXT_CLEANING_RE, ' ', str(text).lower()).strip()\n",
    "    tokens = []\n",
    "    for token in text.split():\n",
    "        if token not in stop_words:\n",
    "            if stem:\n",
    "                tokens.append(stemmer.stem(token))\n",
    "            else:\n",
    "                tokens.append(token)\n",
    "    return \" \".join(tokens)"
   ]
  },
  {
   "cell_type": "code",
   "execution_count": 12,
   "metadata": {
    "_uuid": "f7f3e77ab9291d14687c49e71ba9b2b1e3323432"
   },
   "outputs": [
    {
     "name": "stdout",
     "output_type": "stream",
     "text": [
      "Wall time: 33.8 ms\n"
     ]
    }
   ],
   "source": [
    "%%time\n",
    "df.text = df.text.apply(lambda x: preprocess(x))"
   ]
  },
  {
   "cell_type": "markdown",
   "metadata": {
    "_uuid": "f5f9714a8507409bbe780eebf2855a33e8e6ba37"
   },
   "source": [
    "### Split train and test"
   ]
  },
  {
   "cell_type": "code",
   "execution_count": 13,
   "metadata": {
    "_uuid": "d2b1179c968e3f3910c790ecf0c5b2cbb34b0e68"
   },
   "outputs": [
    {
     "name": "stdout",
     "output_type": "stream",
     "text": [
      "TRAIN size: 300\n",
      "TEST size: 75\n"
     ]
    }
   ],
   "source": [
    "df_train, df_test = train_test_split(df, test_size=1-TRAIN_SIZE, random_state=42)\n",
    "print(\"TRAIN size:\", len(df_train))\n",
    "print(\"TEST size:\", len(df_test))"
   ]
  },
  {
   "cell_type": "markdown",
   "metadata": {
    "_uuid": "f08a28aab2c3d16d8b9681a7d5d07587153a1cd6"
   },
   "source": [
    "### Word2Vec "
   ]
  },
  {
   "cell_type": "code",
   "execution_count": 14,
   "metadata": {
    "_uuid": "2461bf564de1b4414841933d0c1d1bee5f5cc5a6"
   },
   "outputs": [
    {
     "name": "stdout",
     "output_type": "stream",
     "text": [
      "Wall time: 0 ns\n"
     ]
    }
   ],
   "source": [
    "%%time\n",
    "documents = [_text.split() for _text in df_train.text] "
   ]
  },
  {
   "cell_type": "code",
   "execution_count": 15,
   "metadata": {
    "_uuid": "8e19b9f25801ba86420decc266d2b3e6fb44f1ea"
   },
   "outputs": [],
   "source": [
    "w2v_model = gensim.models.word2vec.Word2Vec(size=W2V_SIZE, \n",
    "                                            window=W2V_WINDOW, \n",
    "                                            min_count=W2V_MIN_COUNT, \n",
    "                                            workers=8)"
   ]
  },
  {
   "cell_type": "code",
   "execution_count": 16,
   "metadata": {
    "_uuid": "58d655af07653c594bec6bebcfb302a973b0ad9c"
   },
   "outputs": [
    {
     "name": "stderr",
     "output_type": "stream",
     "text": [
      "2020-11-11 23:29:04,984 : INFO : collecting all words and their counts\n",
      "2020-11-11 23:29:04,985 : INFO : PROGRESS: at sentence #0, processed 0 words, keeping 0 word types\n",
      "2020-11-11 23:29:04,987 : INFO : collected 1501 word types from a corpus of 3464 raw words and 300 sentences\n",
      "2020-11-11 23:29:04,988 : INFO : Loading a fresh vocabulary\n",
      "2020-11-11 23:29:04,989 : INFO : effective_min_count=10 retains 41 unique words (2% of original 1501, drops 1460)\n",
      "2020-11-11 23:29:04,990 : INFO : effective_min_count=10 leaves 901 word corpus (26% of original 3464, drops 2563)\n",
      "2020-11-11 23:29:04,992 : INFO : deleting the raw counts dictionary of 1501 items\n",
      "2020-11-11 23:29:04,993 : INFO : sample=0.001 downsamples 41 most-common words\n",
      "2020-11-11 23:29:04,994 : INFO : downsampling leaves estimated 201 word corpus (22.4% of prior 901)\n",
      "2020-11-11 23:29:04,995 : INFO : estimated required memory for 41 words and 300 dimensions: 118900 bytes\n",
      "2020-11-11 23:29:04,996 : INFO : resetting layer weights\n"
     ]
    }
   ],
   "source": [
    "w2v_model.build_vocab(documents)"
   ]
  },
  {
   "cell_type": "code",
   "execution_count": 17,
   "metadata": {
    "_uuid": "72a5628ca81fd4b8983c12d93ae0bf950b86b6ae"
   },
   "outputs": [
    {
     "name": "stdout",
     "output_type": "stream",
     "text": [
      "Vocab size 41\n"
     ]
    }
   ],
   "source": [
    "words = w2v_model.wv.vocab.keys()\n",
    "vocab_size = len(words)\n",
    "print(\"Vocab size\", vocab_size)"
   ]
  },
  {
   "cell_type": "code",
   "execution_count": 18,
   "metadata": {
    "_uuid": "68c3e4a5ba07cac3dee67f78ecdd1404c7f83f14"
   },
   "outputs": [
    {
     "name": "stderr",
     "output_type": "stream",
     "text": [
      "2020-11-11 23:29:05,144 : INFO : training model with 8 workers on 41 vocabulary and 300 features, using sg=0 hs=0 sample=0.001 negative=5 window=7\n",
      "2020-11-11 23:29:05,157 : INFO : worker thread finished; awaiting finish of 7 more threads\n",
      "2020-11-11 23:29:05,158 : INFO : worker thread finished; awaiting finish of 6 more threads\n",
      "2020-11-11 23:29:05,158 : INFO : worker thread finished; awaiting finish of 5 more threads\n",
      "2020-11-11 23:29:05,159 : INFO : worker thread finished; awaiting finish of 4 more threads\n",
      "2020-11-11 23:29:05,160 : INFO : worker thread finished; awaiting finish of 3 more threads\n",
      "2020-11-11 23:29:05,161 : INFO : worker thread finished; awaiting finish of 2 more threads\n",
      "2020-11-11 23:29:05,161 : INFO : worker thread finished; awaiting finish of 1 more threads\n",
      "2020-11-11 23:29:05,162 : INFO : worker thread finished; awaiting finish of 0 more threads\n",
      "2020-11-11 23:29:05,163 : INFO : EPOCH - 1 : training on 3464 raw words (197 effective words) took 0.0s, 26088 effective words/s\n",
      "2020-11-11 23:29:05,174 : INFO : worker thread finished; awaiting finish of 7 more threads\n",
      "2020-11-11 23:29:05,174 : INFO : worker thread finished; awaiting finish of 6 more threads\n",
      "2020-11-11 23:29:05,174 : INFO : worker thread finished; awaiting finish of 5 more threads\n",
      "2020-11-11 23:29:05,174 : INFO : worker thread finished; awaiting finish of 4 more threads\n",
      "2020-11-11 23:29:05,174 : INFO : worker thread finished; awaiting finish of 3 more threads\n",
      "2020-11-11 23:29:05,174 : INFO : worker thread finished; awaiting finish of 2 more threads\n",
      "2020-11-11 23:29:05,174 : INFO : worker thread finished; awaiting finish of 1 more threads\n",
      "2020-11-11 23:29:05,174 : INFO : worker thread finished; awaiting finish of 0 more threads\n",
      "2020-11-11 23:29:05,174 : INFO : EPOCH - 2 : training on 3464 raw words (191 effective words) took 0.0s, 17256 effective words/s\n",
      "2020-11-11 23:29:05,203 : INFO : worker thread finished; awaiting finish of 7 more threads\n",
      "2020-11-11 23:29:05,205 : INFO : worker thread finished; awaiting finish of 6 more threads\n",
      "2020-11-11 23:29:05,206 : INFO : worker thread finished; awaiting finish of 5 more threads\n",
      "2020-11-11 23:29:05,207 : INFO : worker thread finished; awaiting finish of 4 more threads\n",
      "2020-11-11 23:29:05,209 : INFO : worker thread finished; awaiting finish of 3 more threads\n",
      "2020-11-11 23:29:05,210 : INFO : worker thread finished; awaiting finish of 2 more threads\n",
      "2020-11-11 23:29:05,211 : INFO : worker thread finished; awaiting finish of 1 more threads\n",
      "2020-11-11 23:29:05,212 : INFO : worker thread finished; awaiting finish of 0 more threads\n",
      "2020-11-11 23:29:05,212 : INFO : EPOCH - 3 : training on 3464 raw words (207 effective words) took 0.0s, 18610 effective words/s\n",
      "2020-11-11 23:29:05,229 : INFO : worker thread finished; awaiting finish of 7 more threads\n",
      "2020-11-11 23:29:05,232 : INFO : worker thread finished; awaiting finish of 6 more threads\n",
      "2020-11-11 23:29:05,233 : INFO : worker thread finished; awaiting finish of 5 more threads\n",
      "2020-11-11 23:29:05,234 : INFO : worker thread finished; awaiting finish of 4 more threads\n",
      "2020-11-11 23:29:05,235 : INFO : worker thread finished; awaiting finish of 3 more threads\n",
      "2020-11-11 23:29:05,237 : INFO : worker thread finished; awaiting finish of 2 more threads\n",
      "2020-11-11 23:29:05,238 : INFO : worker thread finished; awaiting finish of 1 more threads\n",
      "2020-11-11 23:29:05,239 : INFO : worker thread finished; awaiting finish of 0 more threads\n",
      "2020-11-11 23:29:05,240 : INFO : EPOCH - 4 : training on 3464 raw words (187 effective words) took 0.0s, 15642 effective words/s\n",
      "2020-11-11 23:29:05,256 : INFO : worker thread finished; awaiting finish of 7 more threads\n",
      "2020-11-11 23:29:05,258 : INFO : worker thread finished; awaiting finish of 6 more threads\n",
      "2020-11-11 23:29:05,259 : INFO : worker thread finished; awaiting finish of 5 more threads\n",
      "2020-11-11 23:29:05,261 : INFO : worker thread finished; awaiting finish of 4 more threads\n",
      "2020-11-11 23:29:05,261 : INFO : worker thread finished; awaiting finish of 3 more threads\n",
      "2020-11-11 23:29:05,264 : INFO : worker thread finished; awaiting finish of 2 more threads\n",
      "2020-11-11 23:29:05,265 : INFO : worker thread finished; awaiting finish of 1 more threads\n",
      "2020-11-11 23:29:05,266 : INFO : worker thread finished; awaiting finish of 0 more threads\n",
      "2020-11-11 23:29:05,268 : INFO : EPOCH - 5 : training on 3464 raw words (207 effective words) took 0.0s, 15387 effective words/s\n",
      "2020-11-11 23:29:05,282 : INFO : worker thread finished; awaiting finish of 7 more threads\n",
      "2020-11-11 23:29:05,283 : INFO : worker thread finished; awaiting finish of 6 more threads\n",
      "2020-11-11 23:29:05,284 : INFO : worker thread finished; awaiting finish of 5 more threads\n",
      "2020-11-11 23:29:05,285 : INFO : worker thread finished; awaiting finish of 4 more threads\n",
      "2020-11-11 23:29:05,285 : INFO : worker thread finished; awaiting finish of 3 more threads\n",
      "2020-11-11 23:29:05,286 : INFO : worker thread finished; awaiting finish of 2 more threads\n",
      "2020-11-11 23:29:05,286 : INFO : worker thread finished; awaiting finish of 1 more threads\n",
      "2020-11-11 23:29:05,287 : INFO : worker thread finished; awaiting finish of 0 more threads\n",
      "2020-11-11 23:29:05,287 : INFO : EPOCH - 6 : training on 3464 raw words (212 effective words) took 0.0s, 34637 effective words/s\n",
      "2020-11-11 23:29:05,299 : INFO : worker thread finished; awaiting finish of 7 more threads\n",
      "2020-11-11 23:29:05,301 : INFO : worker thread finished; awaiting finish of 6 more threads\n",
      "2020-11-11 23:29:05,301 : INFO : worker thread finished; awaiting finish of 5 more threads\n",
      "2020-11-11 23:29:05,303 : INFO : worker thread finished; awaiting finish of 4 more threads\n",
      "2020-11-11 23:29:05,304 : INFO : worker thread finished; awaiting finish of 3 more threads\n",
      "2020-11-11 23:29:05,305 : INFO : worker thread finished; awaiting finish of 2 more threads\n",
      "2020-11-11 23:29:05,307 : INFO : worker thread finished; awaiting finish of 1 more threads\n",
      "2020-11-11 23:29:05,307 : INFO : worker thread finished; awaiting finish of 0 more threads\n",
      "2020-11-11 23:29:05,309 : INFO : EPOCH - 7 : training on 3464 raw words (199 effective words) took 0.0s, 17346 effective words/s\n",
      "2020-11-11 23:29:05,317 : INFO : worker thread finished; awaiting finish of 7 more threads\n",
      "2020-11-11 23:29:05,318 : INFO : worker thread finished; awaiting finish of 6 more threads\n",
      "2020-11-11 23:29:05,319 : INFO : worker thread finished; awaiting finish of 5 more threads\n",
      "2020-11-11 23:29:05,320 : INFO : worker thread finished; awaiting finish of 4 more threads\n",
      "2020-11-11 23:29:05,320 : INFO : worker thread finished; awaiting finish of 3 more threads\n",
      "2020-11-11 23:29:05,321 : INFO : worker thread finished; awaiting finish of 2 more threads\n",
      "2020-11-11 23:29:05,323 : INFO : worker thread finished; awaiting finish of 1 more threads\n",
      "2020-11-11 23:29:05,324 : INFO : worker thread finished; awaiting finish of 0 more threads\n",
      "2020-11-11 23:29:05,325 : INFO : EPOCH - 8 : training on 3464 raw words (217 effective words) took 0.0s, 21244 effective words/s\n",
      "2020-11-11 23:29:05,335 : INFO : worker thread finished; awaiting finish of 7 more threads\n",
      "2020-11-11 23:29:05,337 : INFO : worker thread finished; awaiting finish of 6 more threads\n",
      "2020-11-11 23:29:05,338 : INFO : worker thread finished; awaiting finish of 5 more threads\n",
      "2020-11-11 23:29:05,339 : INFO : worker thread finished; awaiting finish of 4 more threads\n",
      "2020-11-11 23:29:05,340 : INFO : worker thread finished; awaiting finish of 3 more threads\n",
      "2020-11-11 23:29:05,341 : INFO : worker thread finished; awaiting finish of 2 more threads\n",
      "2020-11-11 23:29:05,342 : INFO : worker thread finished; awaiting finish of 1 more threads\n",
      "2020-11-11 23:29:05,343 : INFO : worker thread finished; awaiting finish of 0 more threads\n",
      "2020-11-11 23:29:05,344 : INFO : EPOCH - 9 : training on 3464 raw words (213 effective words) took 0.0s, 22226 effective words/s\n",
      "2020-11-11 23:29:05,352 : INFO : worker thread finished; awaiting finish of 7 more threads\n",
      "2020-11-11 23:29:05,354 : INFO : worker thread finished; awaiting finish of 6 more threads\n",
      "2020-11-11 23:29:05,355 : INFO : worker thread finished; awaiting finish of 5 more threads\n",
      "2020-11-11 23:29:05,355 : INFO : worker thread finished; awaiting finish of 4 more threads\n",
      "2020-11-11 23:29:05,356 : INFO : worker thread finished; awaiting finish of 3 more threads\n",
      "2020-11-11 23:29:05,357 : INFO : worker thread finished; awaiting finish of 2 more threads\n",
      "2020-11-11 23:29:05,357 : INFO : worker thread finished; awaiting finish of 1 more threads\n",
      "2020-11-11 23:29:05,358 : INFO : worker thread finished; awaiting finish of 0 more threads\n",
      "2020-11-11 23:29:05,359 : INFO : EPOCH - 10 : training on 3464 raw words (194 effective words) took 0.0s, 24749 effective words/s\n",
      "2020-11-11 23:29:05,370 : INFO : worker thread finished; awaiting finish of 7 more threads\n",
      "2020-11-11 23:29:05,372 : INFO : worker thread finished; awaiting finish of 6 more threads\n",
      "2020-11-11 23:29:05,374 : INFO : worker thread finished; awaiting finish of 5 more threads\n",
      "2020-11-11 23:29:05,375 : INFO : worker thread finished; awaiting finish of 4 more threads\n",
      "2020-11-11 23:29:05,376 : INFO : worker thread finished; awaiting finish of 3 more threads\n",
      "2020-11-11 23:29:05,377 : INFO : worker thread finished; awaiting finish of 2 more threads\n",
      "2020-11-11 23:29:05,378 : INFO : worker thread finished; awaiting finish of 1 more threads\n",
      "2020-11-11 23:29:05,379 : INFO : worker thread finished; awaiting finish of 0 more threads\n",
      "2020-11-11 23:29:05,379 : INFO : EPOCH - 11 : training on 3464 raw words (199 effective words) took 0.0s, 19613 effective words/s\n",
      "2020-11-11 23:29:05,387 : INFO : worker thread finished; awaiting finish of 7 more threads\n",
      "2020-11-11 23:29:05,388 : INFO : worker thread finished; awaiting finish of 6 more threads\n",
      "2020-11-11 23:29:05,390 : INFO : worker thread finished; awaiting finish of 5 more threads\n",
      "2020-11-11 23:29:05,391 : INFO : worker thread finished; awaiting finish of 4 more threads\n",
      "2020-11-11 23:29:05,392 : INFO : worker thread finished; awaiting finish of 3 more threads\n",
      "2020-11-11 23:29:05,392 : INFO : worker thread finished; awaiting finish of 2 more threads\n",
      "2020-11-11 23:29:05,393 : INFO : worker thread finished; awaiting finish of 1 more threads\n",
      "2020-11-11 23:29:05,393 : INFO : worker thread finished; awaiting finish of 0 more threads\n",
      "2020-11-11 23:29:05,394 : INFO : EPOCH - 12 : training on 3464 raw words (186 effective words) took 0.0s, 22836 effective words/s\n",
      "2020-11-11 23:29:05,403 : INFO : worker thread finished; awaiting finish of 7 more threads\n",
      "2020-11-11 23:29:05,405 : INFO : worker thread finished; awaiting finish of 6 more threads\n",
      "2020-11-11 23:29:05,406 : INFO : worker thread finished; awaiting finish of 5 more threads\n",
      "2020-11-11 23:29:05,407 : INFO : worker thread finished; awaiting finish of 4 more threads\n",
      "2020-11-11 23:29:05,407 : INFO : worker thread finished; awaiting finish of 3 more threads\n",
      "2020-11-11 23:29:05,408 : INFO : worker thread finished; awaiting finish of 2 more threads\n",
      "2020-11-11 23:29:05,408 : INFO : worker thread finished; awaiting finish of 1 more threads\n",
      "2020-11-11 23:29:05,409 : INFO : worker thread finished; awaiting finish of 0 more threads\n",
      "2020-11-11 23:29:05,410 : INFO : EPOCH - 13 : training on 3464 raw words (201 effective words) took 0.0s, 23035 effective words/s\n",
      "2020-11-11 23:29:05,418 : INFO : worker thread finished; awaiting finish of 7 more threads\n",
      "2020-11-11 23:29:05,419 : INFO : worker thread finished; awaiting finish of 6 more threads\n",
      "2020-11-11 23:29:05,421 : INFO : worker thread finished; awaiting finish of 5 more threads\n",
      "2020-11-11 23:29:05,421 : INFO : worker thread finished; awaiting finish of 4 more threads\n",
      "2020-11-11 23:29:05,422 : INFO : worker thread finished; awaiting finish of 3 more threads\n",
      "2020-11-11 23:29:05,422 : INFO : worker thread finished; awaiting finish of 2 more threads\n",
      "2020-11-11 23:29:05,423 : INFO : worker thread finished; awaiting finish of 1 more threads\n",
      "2020-11-11 23:29:05,424 : INFO : worker thread finished; awaiting finish of 0 more threads\n",
      "2020-11-11 23:29:05,425 : INFO : EPOCH - 14 : training on 3464 raw words (196 effective words) took 0.0s, 24612 effective words/s\n",
      "2020-11-11 23:29:05,432 : INFO : worker thread finished; awaiting finish of 7 more threads\n",
      "2020-11-11 23:29:05,434 : INFO : worker thread finished; awaiting finish of 6 more threads\n",
      "2020-11-11 23:29:05,435 : INFO : worker thread finished; awaiting finish of 5 more threads\n",
      "2020-11-11 23:29:05,435 : INFO : worker thread finished; awaiting finish of 4 more threads\n",
      "2020-11-11 23:29:05,436 : INFO : worker thread finished; awaiting finish of 3 more threads\n",
      "2020-11-11 23:29:05,436 : INFO : worker thread finished; awaiting finish of 2 more threads\n",
      "2020-11-11 23:29:05,437 : INFO : worker thread finished; awaiting finish of 1 more threads\n",
      "2020-11-11 23:29:05,438 : INFO : worker thread finished; awaiting finish of 0 more threads\n",
      "2020-11-11 23:29:05,438 : INFO : EPOCH - 15 : training on 3464 raw words (210 effective words) took 0.0s, 29103 effective words/s\n",
      "2020-11-11 23:29:05,450 : INFO : worker thread finished; awaiting finish of 7 more threads\n",
      "2020-11-11 23:29:05,452 : INFO : worker thread finished; awaiting finish of 6 more threads\n",
      "2020-11-11 23:29:05,452 : INFO : worker thread finished; awaiting finish of 5 more threads\n",
      "2020-11-11 23:29:05,453 : INFO : worker thread finished; awaiting finish of 4 more threads\n",
      "2020-11-11 23:29:05,454 : INFO : worker thread finished; awaiting finish of 3 more threads\n",
      "2020-11-11 23:29:05,455 : INFO : worker thread finished; awaiting finish of 2 more threads\n",
      "2020-11-11 23:29:05,455 : INFO : worker thread finished; awaiting finish of 1 more threads\n",
      "2020-11-11 23:29:05,456 : INFO : worker thread finished; awaiting finish of 0 more threads\n",
      "2020-11-11 23:29:05,457 : INFO : EPOCH - 16 : training on 3464 raw words (190 effective words) took 0.0s, 22324 effective words/s\n",
      "2020-11-11 23:29:05,466 : INFO : worker thread finished; awaiting finish of 7 more threads\n",
      "2020-11-11 23:29:05,467 : INFO : worker thread finished; awaiting finish of 6 more threads\n",
      "2020-11-11 23:29:05,468 : INFO : worker thread finished; awaiting finish of 5 more threads\n",
      "2020-11-11 23:29:05,469 : INFO : worker thread finished; awaiting finish of 4 more threads\n",
      "2020-11-11 23:29:05,471 : INFO : worker thread finished; awaiting finish of 3 more threads\n",
      "2020-11-11 23:29:05,472 : INFO : worker thread finished; awaiting finish of 2 more threads\n",
      "2020-11-11 23:29:05,473 : INFO : worker thread finished; awaiting finish of 1 more threads\n",
      "2020-11-11 23:29:05,475 : INFO : worker thread finished; awaiting finish of 0 more threads\n",
      "2020-11-11 23:29:05,476 : INFO : EPOCH - 17 : training on 3464 raw words (214 effective words) took 0.0s, 18360 effective words/s\n",
      "2020-11-11 23:29:05,483 : INFO : worker thread finished; awaiting finish of 7 more threads\n",
      "2020-11-11 23:29:05,485 : INFO : worker thread finished; awaiting finish of 6 more threads\n",
      "2020-11-11 23:29:05,486 : INFO : worker thread finished; awaiting finish of 5 more threads\n",
      "2020-11-11 23:29:05,487 : INFO : worker thread finished; awaiting finish of 4 more threads\n",
      "2020-11-11 23:29:05,488 : INFO : worker thread finished; awaiting finish of 3 more threads\n",
      "2020-11-11 23:29:05,489 : INFO : worker thread finished; awaiting finish of 2 more threads\n",
      "2020-11-11 23:29:05,491 : INFO : worker thread finished; awaiting finish of 1 more threads\n",
      "2020-11-11 23:29:05,492 : INFO : worker thread finished; awaiting finish of 0 more threads\n",
      "2020-11-11 23:29:05,493 : INFO : EPOCH - 18 : training on 3464 raw words (205 effective words) took 0.0s, 19294 effective words/s\n",
      "2020-11-11 23:29:05,505 : INFO : worker thread finished; awaiting finish of 7 more threads\n",
      "2020-11-11 23:29:05,506 : INFO : worker thread finished; awaiting finish of 6 more threads\n",
      "2020-11-11 23:29:05,508 : INFO : worker thread finished; awaiting finish of 5 more threads\n",
      "2020-11-11 23:29:05,509 : INFO : worker thread finished; awaiting finish of 4 more threads\n",
      "2020-11-11 23:29:05,510 : INFO : worker thread finished; awaiting finish of 3 more threads\n",
      "2020-11-11 23:29:05,511 : INFO : worker thread finished; awaiting finish of 2 more threads\n",
      "2020-11-11 23:29:05,512 : INFO : worker thread finished; awaiting finish of 1 more threads\n",
      "2020-11-11 23:29:05,512 : INFO : worker thread finished; awaiting finish of 0 more threads\n",
      "2020-11-11 23:29:05,513 : INFO : EPOCH - 19 : training on 3464 raw words (208 effective words) took 0.0s, 21912 effective words/s\n",
      "2020-11-11 23:29:05,522 : INFO : worker thread finished; awaiting finish of 7 more threads\n",
      "2020-11-11 23:29:05,524 : INFO : worker thread finished; awaiting finish of 6 more threads\n",
      "2020-11-11 23:29:05,525 : INFO : worker thread finished; awaiting finish of 5 more threads\n",
      "2020-11-11 23:29:05,526 : INFO : worker thread finished; awaiting finish of 4 more threads\n",
      "2020-11-11 23:29:05,526 : INFO : worker thread finished; awaiting finish of 3 more threads\n",
      "2020-11-11 23:29:05,527 : INFO : worker thread finished; awaiting finish of 2 more threads\n",
      "2020-11-11 23:29:05,528 : INFO : worker thread finished; awaiting finish of 1 more threads\n",
      "2020-11-11 23:29:05,528 : INFO : worker thread finished; awaiting finish of 0 more threads\n",
      "2020-11-11 23:29:05,529 : INFO : EPOCH - 20 : training on 3464 raw words (192 effective words) took 0.0s, 23612 effective words/s\n",
      "2020-11-11 23:29:05,537 : INFO : worker thread finished; awaiting finish of 7 more threads\n",
      "2020-11-11 23:29:05,539 : INFO : worker thread finished; awaiting finish of 6 more threads\n",
      "2020-11-11 23:29:05,541 : INFO : worker thread finished; awaiting finish of 5 more threads\n",
      "2020-11-11 23:29:05,542 : INFO : worker thread finished; awaiting finish of 4 more threads\n",
      "2020-11-11 23:29:05,542 : INFO : worker thread finished; awaiting finish of 3 more threads\n",
      "2020-11-11 23:29:05,543 : INFO : worker thread finished; awaiting finish of 2 more threads\n",
      "2020-11-11 23:29:05,544 : INFO : worker thread finished; awaiting finish of 1 more threads\n",
      "2020-11-11 23:29:05,546 : INFO : worker thread finished; awaiting finish of 0 more threads\n",
      "2020-11-11 23:29:05,546 : INFO : EPOCH - 21 : training on 3464 raw words (196 effective words) took 0.0s, 18717 effective words/s\n",
      "2020-11-11 23:29:05,554 : INFO : worker thread finished; awaiting finish of 7 more threads\n",
      "2020-11-11 23:29:05,556 : INFO : worker thread finished; awaiting finish of 6 more threads\n",
      "2020-11-11 23:29:05,557 : INFO : worker thread finished; awaiting finish of 5 more threads\n",
      "2020-11-11 23:29:05,558 : INFO : worker thread finished; awaiting finish of 4 more threads\n",
      "2020-11-11 23:29:05,560 : INFO : worker thread finished; awaiting finish of 3 more threads\n",
      "2020-11-11 23:29:05,560 : INFO : worker thread finished; awaiting finish of 2 more threads\n",
      "2020-11-11 23:29:05,561 : INFO : worker thread finished; awaiting finish of 1 more threads\n",
      "2020-11-11 23:29:05,561 : INFO : worker thread finished; awaiting finish of 0 more threads\n",
      "2020-11-11 23:29:05,562 : INFO : EPOCH - 22 : training on 3464 raw words (198 effective words) took 0.0s, 22259 effective words/s\n",
      "2020-11-11 23:29:05,570 : INFO : worker thread finished; awaiting finish of 7 more threads\n",
      "2020-11-11 23:29:05,571 : INFO : worker thread finished; awaiting finish of 6 more threads\n",
      "2020-11-11 23:29:05,572 : INFO : worker thread finished; awaiting finish of 5 more threads\n",
      "2020-11-11 23:29:05,573 : INFO : worker thread finished; awaiting finish of 4 more threads\n",
      "2020-11-11 23:29:05,573 : INFO : worker thread finished; awaiting finish of 3 more threads\n",
      "2020-11-11 23:29:05,574 : INFO : worker thread finished; awaiting finish of 2 more threads\n",
      "2020-11-11 23:29:05,575 : INFO : worker thread finished; awaiting finish of 1 more threads\n",
      "2020-11-11 23:29:05,576 : INFO : worker thread finished; awaiting finish of 0 more threads\n",
      "2020-11-11 23:29:05,577 : INFO : EPOCH - 23 : training on 3464 raw words (232 effective words) took 0.0s, 27789 effective words/s\n",
      "2020-11-11 23:29:05,587 : INFO : worker thread finished; awaiting finish of 7 more threads\n",
      "2020-11-11 23:29:05,589 : INFO : worker thread finished; awaiting finish of 6 more threads\n",
      "2020-11-11 23:29:05,590 : INFO : worker thread finished; awaiting finish of 5 more threads\n",
      "2020-11-11 23:29:05,591 : INFO : worker thread finished; awaiting finish of 4 more threads\n",
      "2020-11-11 23:29:05,593 : INFO : worker thread finished; awaiting finish of 3 more threads\n",
      "2020-11-11 23:29:05,593 : INFO : worker thread finished; awaiting finish of 2 more threads\n",
      "2020-11-11 23:29:05,594 : INFO : worker thread finished; awaiting finish of 1 more threads\n",
      "2020-11-11 23:29:05,595 : INFO : worker thread finished; awaiting finish of 0 more threads\n",
      "2020-11-11 23:29:05,595 : INFO : EPOCH - 24 : training on 3464 raw words (203 effective words) took 0.0s, 21354 effective words/s\n",
      "2020-11-11 23:29:05,602 : INFO : worker thread finished; awaiting finish of 7 more threads\n",
      "2020-11-11 23:29:05,604 : INFO : worker thread finished; awaiting finish of 6 more threads\n",
      "2020-11-11 23:29:05,605 : INFO : worker thread finished; awaiting finish of 5 more threads\n",
      "2020-11-11 23:29:05,605 : INFO : worker thread finished; awaiting finish of 4 more threads\n",
      "2020-11-11 23:29:05,606 : INFO : worker thread finished; awaiting finish of 3 more threads\n",
      "2020-11-11 23:29:05,606 : INFO : worker thread finished; awaiting finish of 2 more threads\n",
      "2020-11-11 23:29:05,607 : INFO : worker thread finished; awaiting finish of 1 more threads\n",
      "2020-11-11 23:29:05,608 : INFO : worker thread finished; awaiting finish of 0 more threads\n",
      "2020-11-11 23:29:05,609 : INFO : EPOCH - 25 : training on 3464 raw words (219 effective words) took 0.0s, 28377 effective words/s\n",
      "2020-11-11 23:29:05,617 : INFO : worker thread finished; awaiting finish of 7 more threads\n",
      "2020-11-11 23:29:05,618 : INFO : worker thread finished; awaiting finish of 6 more threads\n",
      "2020-11-11 23:29:05,619 : INFO : worker thread finished; awaiting finish of 5 more threads\n",
      "2020-11-11 23:29:05,620 : INFO : worker thread finished; awaiting finish of 4 more threads\n",
      "2020-11-11 23:29:05,621 : INFO : worker thread finished; awaiting finish of 3 more threads\n",
      "2020-11-11 23:29:05,622 : INFO : worker thread finished; awaiting finish of 2 more threads\n",
      "2020-11-11 23:29:05,623 : INFO : worker thread finished; awaiting finish of 1 more threads\n",
      "2020-11-11 23:29:05,624 : INFO : worker thread finished; awaiting finish of 0 more threads\n",
      "2020-11-11 23:29:05,625 : INFO : EPOCH - 26 : training on 3464 raw words (199 effective words) took 0.0s, 19800 effective words/s\n",
      "2020-11-11 23:29:05,634 : INFO : worker thread finished; awaiting finish of 7 more threads\n",
      "2020-11-11 23:29:05,637 : INFO : worker thread finished; awaiting finish of 6 more threads\n",
      "2020-11-11 23:29:05,637 : INFO : worker thread finished; awaiting finish of 5 more threads\n",
      "2020-11-11 23:29:05,638 : INFO : worker thread finished; awaiting finish of 4 more threads\n",
      "2020-11-11 23:29:05,638 : INFO : worker thread finished; awaiting finish of 3 more threads\n",
      "2020-11-11 23:29:05,639 : INFO : worker thread finished; awaiting finish of 2 more threads\n",
      "2020-11-11 23:29:05,640 : INFO : worker thread finished; awaiting finish of 1 more threads\n",
      "2020-11-11 23:29:05,641 : INFO : worker thread finished; awaiting finish of 0 more threads\n",
      "2020-11-11 23:29:05,642 : INFO : EPOCH - 27 : training on 3464 raw words (222 effective words) took 0.0s, 24433 effective words/s\n",
      "2020-11-11 23:29:05,650 : INFO : worker thread finished; awaiting finish of 7 more threads\n",
      "2020-11-11 23:29:05,652 : INFO : worker thread finished; awaiting finish of 6 more threads\n",
      "2020-11-11 23:29:05,653 : INFO : worker thread finished; awaiting finish of 5 more threads\n",
      "2020-11-11 23:29:05,653 : INFO : worker thread finished; awaiting finish of 4 more threads\n",
      "2020-11-11 23:29:05,654 : INFO : worker thread finished; awaiting finish of 3 more threads\n",
      "2020-11-11 23:29:05,655 : INFO : worker thread finished; awaiting finish of 2 more threads\n",
      "2020-11-11 23:29:05,655 : INFO : worker thread finished; awaiting finish of 1 more threads\n",
      "2020-11-11 23:29:05,656 : INFO : worker thread finished; awaiting finish of 0 more threads\n",
      "2020-11-11 23:29:05,657 : INFO : EPOCH - 28 : training on 3464 raw words (198 effective words) took 0.0s, 26670 effective words/s\n",
      "2020-11-11 23:29:05,664 : INFO : worker thread finished; awaiting finish of 7 more threads\n",
      "2020-11-11 23:29:05,665 : INFO : worker thread finished; awaiting finish of 6 more threads\n",
      "2020-11-11 23:29:05,665 : INFO : worker thread finished; awaiting finish of 5 more threads\n",
      "2020-11-11 23:29:05,666 : INFO : worker thread finished; awaiting finish of 4 more threads\n",
      "2020-11-11 23:29:05,666 : INFO : worker thread finished; awaiting finish of 3 more threads\n",
      "2020-11-11 23:29:05,667 : INFO : worker thread finished; awaiting finish of 2 more threads\n",
      "2020-11-11 23:29:05,667 : INFO : worker thread finished; awaiting finish of 1 more threads\n",
      "2020-11-11 23:29:05,668 : INFO : worker thread finished; awaiting finish of 0 more threads\n",
      "2020-11-11 23:29:05,668 : INFO : EPOCH - 29 : training on 3464 raw words (210 effective words) took 0.0s, 34538 effective words/s\n",
      "2020-11-11 23:29:05,676 : INFO : worker thread finished; awaiting finish of 7 more threads\n",
      "2020-11-11 23:29:05,677 : INFO : worker thread finished; awaiting finish of 6 more threads\n",
      "2020-11-11 23:29:05,678 : INFO : worker thread finished; awaiting finish of 5 more threads\n",
      "2020-11-11 23:29:05,679 : INFO : worker thread finished; awaiting finish of 4 more threads\n",
      "2020-11-11 23:29:05,679 : INFO : worker thread finished; awaiting finish of 3 more threads\n",
      "2020-11-11 23:29:05,680 : INFO : worker thread finished; awaiting finish of 2 more threads\n",
      "2020-11-11 23:29:05,680 : INFO : worker thread finished; awaiting finish of 1 more threads\n",
      "2020-11-11 23:29:05,681 : INFO : worker thread finished; awaiting finish of 0 more threads\n",
      "2020-11-11 23:29:05,681 : INFO : EPOCH - 30 : training on 3464 raw words (217 effective words) took 0.0s, 35157 effective words/s\n",
      "2020-11-11 23:29:05,691 : INFO : worker thread finished; awaiting finish of 7 more threads\n",
      "2020-11-11 23:29:05,694 : INFO : worker thread finished; awaiting finish of 6 more threads\n",
      "2020-11-11 23:29:05,695 : INFO : worker thread finished; awaiting finish of 5 more threads\n",
      "2020-11-11 23:29:05,696 : INFO : worker thread finished; awaiting finish of 4 more threads\n",
      "2020-11-11 23:29:05,696 : INFO : worker thread finished; awaiting finish of 3 more threads\n",
      "2020-11-11 23:29:05,697 : INFO : worker thread finished; awaiting finish of 2 more threads\n",
      "2020-11-11 23:29:05,698 : INFO : worker thread finished; awaiting finish of 1 more threads\n",
      "2020-11-11 23:29:05,699 : INFO : worker thread finished; awaiting finish of 0 more threads\n",
      "2020-11-11 23:29:05,699 : INFO : EPOCH - 31 : training on 3464 raw words (193 effective words) took 0.0s, 20342 effective words/s\n",
      "2020-11-11 23:29:05,708 : INFO : worker thread finished; awaiting finish of 7 more threads\n",
      "2020-11-11 23:29:05,709 : INFO : worker thread finished; awaiting finish of 6 more threads\n",
      "2020-11-11 23:29:05,710 : INFO : worker thread finished; awaiting finish of 5 more threads\n",
      "2020-11-11 23:29:05,711 : INFO : worker thread finished; awaiting finish of 4 more threads\n",
      "2020-11-11 23:29:05,711 : INFO : worker thread finished; awaiting finish of 3 more threads\n",
      "2020-11-11 23:29:05,712 : INFO : worker thread finished; awaiting finish of 2 more threads\n",
      "2020-11-11 23:29:05,713 : INFO : worker thread finished; awaiting finish of 1 more threads\n",
      "2020-11-11 23:29:05,713 : INFO : worker thread finished; awaiting finish of 0 more threads\n",
      "2020-11-11 23:29:05,714 : INFO : EPOCH - 32 : training on 3464 raw words (191 effective words) took 0.0s, 26390 effective words/s\n",
      "2020-11-11 23:29:05,714 : INFO : training on a 110848 raw words (6503 effective words) took 0.6s, 11407 effective words/s\n",
      "2020-11-11 23:29:05,715 : WARNING : under 10 jobs per worker: consider setting a smaller `batch_words' for smoother alpha decay\n"
     ]
    },
    {
     "name": "stdout",
     "output_type": "stream",
     "text": [
      "Wall time: 572 ms\n"
     ]
    },
    {
     "data": {
      "text/plain": [
       "(6503, 110848)"
      ]
     },
     "execution_count": 18,
     "metadata": {},
     "output_type": "execute_result"
    }
   ],
   "source": [
    "%%time\n",
    "w2v_model.train(documents, total_examples=len(documents), epochs=W2V_EPOCH)"
   ]
  },
  {
   "cell_type": "code",
   "execution_count": 19,
   "metadata": {
    "_uuid": "27cc2651c74227115d8bfd8c40e5618048e05edd"
   },
   "outputs": [],
   "source": [
    "#w2v_model.wv.most_similar(\"Violencia\")"
   ]
  },
  {
   "cell_type": "markdown",
   "metadata": {
    "_uuid": "e13563644468037258598637b49373ca96b9b879"
   },
   "source": [
    "### Tokenize Text"
   ]
  },
  {
   "cell_type": "code",
   "execution_count": 20,
   "metadata": {
    "_uuid": "6852bc709a7cd20173cbeeb218505078f8f37c57"
   },
   "outputs": [
    {
     "name": "stdout",
     "output_type": "stream",
     "text": [
      "Total words 1502\n",
      "Wall time: 9 ms\n"
     ]
    }
   ],
   "source": [
    "%%time\n",
    "tokenizer = Tokenizer()\n",
    "tokenizer.fit_on_texts(df_train.text)\n",
    "\n",
    "vocab_size = len(tokenizer.word_index) + 1\n",
    "print(\"Total words\", vocab_size)"
   ]
  },
  {
   "cell_type": "code",
   "execution_count": 21,
   "metadata": {
    "_uuid": "45de439df3015030c71f84c2d170346936a1d68f"
   },
   "outputs": [
    {
     "name": "stdout",
     "output_type": "stream",
     "text": [
      "Wall time: 7 ms\n"
     ]
    }
   ],
   "source": [
    "%%time\n",
    "x_train = pad_sequences(tokenizer.texts_to_sequences(df_train.text), maxlen=SEQUENCE_LENGTH)\n",
    "x_test = pad_sequences(tokenizer.texts_to_sequences(df_test.text), maxlen=SEQUENCE_LENGTH)"
   ]
  },
  {
   "cell_type": "markdown",
   "metadata": {
    "_uuid": "03b35903fc6260e190d6928d240ef7432de117fc"
   },
   "source": [
    "### Label Encoder "
   ]
  },
  {
   "cell_type": "code",
   "execution_count": 22,
   "metadata": {
    "_uuid": "33676e0efa39e97d89bd650b8b4eae933a22fbf0"
   },
   "outputs": [
    {
     "data": {
      "text/plain": [
       "['NEUTRAL', 'NEGATIVE', 'POSITIVE', 'NEUTRAL']"
      ]
     },
     "execution_count": 22,
     "metadata": {},
     "output_type": "execute_result"
    }
   ],
   "source": [
    "labels = df_train.target.unique().tolist()\n",
    "labels.append(NEUTRAL)\n",
    "labels"
   ]
  },
  {
   "cell_type": "code",
   "execution_count": 23,
   "metadata": {
    "_uuid": "04239a9bef76e7922fd86098a5601dfde8ee4665"
   },
   "outputs": [
    {
     "name": "stdout",
     "output_type": "stream",
     "text": [
      "y_train (300, 1)\n",
      "y_test (75, 1)\n"
     ]
    }
   ],
   "source": [
    "encoder = LabelEncoder()\n",
    "encoder.fit(df_train.target.tolist())\n",
    "\n",
    "y_train = encoder.transform(df_train.target.tolist())\n",
    "y_test = encoder.transform(df_test.target.tolist())\n",
    "\n",
    "y_train = y_train.reshape(-1,1)\n",
    "y_test = y_test.reshape(-1,1)\n",
    "\n",
    "print(\"y_train\",y_train.shape)\n",
    "print(\"y_test\",y_test.shape)"
   ]
  },
  {
   "cell_type": "code",
   "execution_count": 24,
   "metadata": {
    "_uuid": "04299c886911ca135583ab64878f213939a2990c"
   },
   "outputs": [
    {
     "name": "stdout",
     "output_type": "stream",
     "text": [
      "x_train (300, 300)\n",
      "y_train (300, 1)\n",
      "\n",
      "x_test (75, 300)\n",
      "y_test (75, 1)\n"
     ]
    }
   ],
   "source": [
    "print(\"x_train\", x_train.shape)\n",
    "print(\"y_train\", y_train.shape)\n",
    "print()\n",
    "print(\"x_test\", x_test.shape)\n",
    "print(\"y_test\", y_test.shape)"
   ]
  },
  {
   "cell_type": "code",
   "execution_count": 25,
   "metadata": {
    "_uuid": "232533fb27b7be99d9b8c2f8fb22c9c6bf121a6f"
   },
   "outputs": [
    {
     "data": {
      "text/plain": [
       "array([[1],\n",
       "       [0],\n",
       "       [0],\n",
       "       [2],\n",
       "       [0],\n",
       "       [0],\n",
       "       [2],\n",
       "       [0],\n",
       "       [0],\n",
       "       [0]], dtype=int64)"
      ]
     },
     "execution_count": 25,
     "metadata": {},
     "output_type": "execute_result"
    }
   ],
   "source": [
    "y_train[:10]"
   ]
  },
  {
   "cell_type": "markdown",
   "metadata": {
    "_uuid": "233c0ea94055a03e2e7df3e2a13d036ec963484f"
   },
   "source": [
    "### Embedding layer"
   ]
  },
  {
   "cell_type": "code",
   "execution_count": 26,
   "metadata": {
    "_uuid": "9ab488374b59e3f30f8b1ea92767d853c4846bac"
   },
   "outputs": [
    {
     "name": "stdout",
     "output_type": "stream",
     "text": [
      "(1502, 300)\n"
     ]
    }
   ],
   "source": [
    "embedding_matrix = np.zeros((vocab_size, W2V_SIZE))\n",
    "for word, i in tokenizer.word_index.items():\n",
    "  if word in w2v_model.wv:\n",
    "    embedding_matrix[i] = w2v_model.wv[word]\n",
    "print(embedding_matrix.shape)"
   ]
  },
  {
   "cell_type": "code",
   "execution_count": 27,
   "metadata": {
    "_uuid": "833279d91e4286065968237fb5f2a0c2dd4d246c"
   },
   "outputs": [],
   "source": [
    "embedding_layer = Embedding(vocab_size, W2V_SIZE, weights=[embedding_matrix], input_length=SEQUENCE_LENGTH, trainable=False)"
   ]
  },
  {
   "cell_type": "markdown",
   "metadata": {
    "_uuid": "b299ef78f94c2085942c993a2d58753a7476305a"
   },
   "source": [
    "### Build Model"
   ]
  },
  {
   "cell_type": "code",
   "execution_count": 28,
   "metadata": {
    "_uuid": "e775ef4f1b74e6412457181383c39f2df554ef3f"
   },
   "outputs": [
    {
     "name": "stdout",
     "output_type": "stream",
     "text": [
      "Model: \"sequential\"\n",
      "_________________________________________________________________\n",
      "Layer (type)                 Output Shape              Param #   \n",
      "=================================================================\n",
      "embedding (Embedding)        (None, 300, 300)          450600    \n",
      "_________________________________________________________________\n",
      "dropout (Dropout)            (None, 300, 300)          0         \n",
      "_________________________________________________________________\n",
      "lstm (LSTM)                  (None, 100)               160400    \n",
      "_________________________________________________________________\n",
      "dense (Dense)                (None, 1)                 101       \n",
      "=================================================================\n",
      "Total params: 611,101\n",
      "Trainable params: 160,501\n",
      "Non-trainable params: 450,600\n",
      "_________________________________________________________________\n"
     ]
    }
   ],
   "source": [
    "model = Sequential()\n",
    "model.add(embedding_layer)\n",
    "model.add(Dropout(0.5))\n",
    "model.add(LSTM(100, dropout=0.2, recurrent_dropout=0.2))\n",
    "model.add(Dense(1, activation='sigmoid'))\n",
    "\n",
    "model.summary()"
   ]
  },
  {
   "cell_type": "markdown",
   "metadata": {
    "_uuid": "28d22eafd0c7d798dcf3d742bc92fb8577939e6c"
   },
   "source": [
    "### Compile model"
   ]
  },
  {
   "cell_type": "code",
   "execution_count": 29,
   "metadata": {
    "_uuid": "1331e08d590bb2aa2033706c8faca217afc0f1c3"
   },
   "outputs": [],
   "source": [
    "model.compile(loss='binary_crossentropy',\n",
    "              optimizer=\"adam\",\n",
    "              metrics=['accuracy'])"
   ]
  },
  {
   "cell_type": "markdown",
   "metadata": {
    "_uuid": "c7733127cb8b380e0c807268903bf4d03ef92542"
   },
   "source": [
    "### Callbacks"
   ]
  },
  {
   "cell_type": "code",
   "execution_count": 30,
   "metadata": {
    "_uuid": "a688df590386f5748da6fe00b01904fe6c71619e"
   },
   "outputs": [],
   "source": [
    "callbacks = [ ReduceLROnPlateau(monitor='val_loss', patience=5, cooldown=0),\n",
    "              EarlyStopping(monitor='val_accuracy', min_delta=1e-4, patience=5)]"
   ]
  },
  {
   "cell_type": "markdown",
   "metadata": {
    "_uuid": "8d0873633dd49179c8cae17377641b97d323ef3b"
   },
   "source": [
    "### Train"
   ]
  },
  {
   "cell_type": "code",
   "execution_count": 31,
   "metadata": {
    "_uuid": "2b659d390c6577dc5cdb6b6297934279b4e801d5"
   },
   "outputs": [
    {
     "name": "stdout",
     "output_type": "stream",
     "text": [
      "Epoch 1/8\n",
      "1/1 [==============================] - 1s 554ms/step - loss: 0.6936 - accuracy: 0.3370 - val_loss: 0.6764 - val_accuracy: 0.2667\n",
      "Epoch 2/8\n",
      "1/1 [==============================] - 0s 156ms/step - loss: 0.6820 - accuracy: 0.3481 - val_loss: 0.6582 - val_accuracy: 0.2667\n",
      "Epoch 3/8\n",
      "1/1 [==============================] - 0s 141ms/step - loss: 0.6706 - accuracy: 0.3481 - val_loss: 0.6397 - val_accuracy: 0.2667\n",
      "Epoch 4/8\n",
      "1/1 [==============================] - 0s 167ms/step - loss: 0.6591 - accuracy: 0.3481 - val_loss: 0.6202 - val_accuracy: 0.2667\n",
      "Epoch 5/8\n",
      "1/1 [==============================] - 0s 144ms/step - loss: 0.6474 - accuracy: 0.3481 - val_loss: 0.5986 - val_accuracy: 0.2667\n",
      "Epoch 6/8\n",
      "1/1 [==============================] - 0s 147ms/step - loss: 0.6342 - accuracy: 0.3481 - val_loss: 0.5734 - val_accuracy: 0.2667\n",
      "Wall time: 31.1 s\n"
     ]
    }
   ],
   "source": [
    "%%time\n",
    "history = model.fit(x_train, y_train,\n",
    "                    batch_size=BATCH_SIZE,\n",
    "                    epochs=EPOCHS,\n",
    "                    validation_split=0.1,\n",
    "                    verbose=1,\n",
    "                    callbacks=callbacks)"
   ]
  },
  {
   "cell_type": "markdown",
   "metadata": {
    "_uuid": "267258196d96796ac69a7b8c466314bcf5d6ee42"
   },
   "source": [
    "### Evaluate"
   ]
  },
  {
   "cell_type": "code",
   "execution_count": 32,
   "metadata": {
    "_uuid": "98ecd8f1b8b74594c3ea775dd68a094e92458022"
   },
   "outputs": [
    {
     "name": "stdout",
     "output_type": "stream",
     "text": [
      "1/1 [==============================] - 0s 2ms/step - loss: 0.6190 - accuracy: 0.3067\n",
      "\n",
      "ACCURACY: 0.30666667222976685\n",
      "LOSS: 0.6190183162689209\n",
      "Wall time: 482 ms\n"
     ]
    }
   ],
   "source": [
    "%%time\n",
    "score = model.evaluate(x_test, y_test, batch_size=BATCH_SIZE)\n",
    "print()\n",
    "print(\"ACCURACY:\",score[1])\n",
    "print(\"LOSS:\",score[0])"
   ]
  },
  {
   "cell_type": "code",
   "execution_count": 33,
   "metadata": {
    "_uuid": "40c72cd1e9d6c4fd799cbba7c813765ac4039dfc"
   },
   "outputs": [
    {
     "data": {
      "image/png": "[encoded data removed]",
      "text/plain": [
       "<Figure size 432x288 with 1 Axes>"
      ]
     },
     "metadata": {
      "needs_background": "light"
     },
     "output_type": "display_data"
    },
    {
     "data": {
      "image/png": "[encoded data removed]",
      "text/plain": [
       "<Figure size 432x288 with 1 Axes>"
      ]
     },
     "metadata": {
      "needs_background": "light"
     },
     "output_type": "display_data"
    }
   ],
   "source": [
    "acc = history.history['accuracy']\n",
    "val_acc = history.history['val_accuracy']\n",
    "loss = history.history['loss']\n",
    "val_loss = history.history['val_loss']\n",
    " \n",
    "epochs = range(len(acc))\n",
    " \n",
    "plt.plot(epochs, acc, 'b', label='Training acc')\n",
    "plt.plot(epochs, val_acc, 'r', label='Validation acc')\n",
    "plt.title('Training and validation accuracy')\n",
    "plt.legend()\n",
    " \n",
    "plt.figure()\n",
    " \n",
    "plt.plot(epochs, loss, 'b', label='Training loss')\n",
    "plt.plot(epochs, val_loss, 'r', label='Validation loss')\n",
    "plt.title('Training and validation loss')\n",
    "plt.legend()\n",
    " \n",
    "plt.show()"
   ]
  },
  {
   "cell_type": "markdown",
   "metadata": {
    "_uuid": "6bdfc0f6a6af5bebc0271d83dd7432c91001409b"
   },
   "source": [
    "### Predict"
   ]
  },
  {
   "cell_type": "code",
   "execution_count": 34,
   "metadata": {
    "_uuid": "f0b0fa3d4b1bb14b3f5e3d169a369f3ebef29ae1"
   },
   "outputs": [],
   "source": [
    "def decode_sentiment(score, include_neutral=True):\n",
    "    if include_neutral:        \n",
    "        label = NEUTRAL\n",
    "        if score <= SENTIMENT_THRESHOLDS[0]:\n",
    "            label = NEGATIVE\n",
    "        elif score >= SENTIMENT_THRESHOLDS[1]:\n",
    "            label = POSITIVE\n",
    "\n",
    "        return label\n",
    "    else:\n",
    "        return NEGATIVE if score < 0.5 else POSITIVE"
   ]
  },
  {
   "cell_type": "code",
   "execution_count": 35,
   "metadata": {
    "_uuid": "ed4086d651f2f8cbed11d3c909a8873607d29a06"
   },
   "outputs": [],
   "source": [
    "def predict(text, include_neutral=True):\n",
    "    start_at = time.time()\n",
    "    # Tokenize text\n",
    "    x_test = pad_sequences(tokenizer.texts_to_sequences([text]), maxlen=SEQUENCE_LENGTH)\n",
    "    # Predict\n",
    "    score = model.predict([x_test])[0]\n",
    "    # Decode sentiment\n",
    "    label = decode_sentiment(score, include_neutral=include_neutral)\n",
    "\n",
    "    return {\"label\": label, \"score\": float(score),\n",
    "       \"elapsed_time\": time.time()-start_at}  "
   ]
  },
  {
   "cell_type": "code",
   "execution_count": 36,
   "metadata": {
    "_uuid": "ca38b1e6c9b5acfed7467de2cf02a78333108872"
   },
   "outputs": [
    {
     "data": {
      "text/plain": [
       "{'label': 'NEUTRAL',\n",
       " 'score': 0.5317609906196594,\n",
       " 'elapsed_time': 0.28629326820373535}"
      ]
     },
     "execution_count": 36,
     "metadata": {},
     "output_type": "execute_result"
    }
   ],
   "source": [
    "predict(\"Masacre en el cauca deja 10 heridos\")"
   ]
  },
  {
   "cell_type": "code",
   "execution_count": 37,
   "metadata": {
    "_uuid": "0e5fe647533be0148850de349fea6ef6f71303d1"
   },
   "outputs": [
    {
     "data": {
      "text/plain": [
       "{'label': 'NEUTRAL',\n",
       " 'score': 0.5424326062202454,\n",
       " 'elapsed_time': 0.09462118148803711}"
      ]
     },
     "execution_count": 37,
     "metadata": {},
     "output_type": "execute_result"
    }
   ],
   "source": [
    "predict(\"Prevencion de la violencia contra la mujer\")"
   ]
  },
  {
   "cell_type": "markdown",
   "metadata": {
    "_uuid": "3ee72e47f84b6dbc32e02a783de5ec1661f157e1"
   },
   "source": [
    "### Confusion Matrix"
   ]
  },
  {
   "cell_type": "code",
   "execution_count": 38,
   "metadata": {
    "_uuid": "0e920173eb05f04aecdd735bc5dff0f5be5f8d15"
   },
   "outputs": [
    {
     "name": "stdout",
     "output_type": "stream",
     "text": [
      "1/1 [==============================] - 0s 0s/step\n",
      "Wall time: 552 ms\n"
     ]
    }
   ],
   "source": [
    "%%time\n",
    "y_pred_1d = []\n",
    "y_test_1d = list(df_test.target)\n",
    "scores = model.predict(x_test, verbose=1, batch_size=8000)\n",
    "y_pred_1d = [decode_sentiment(score, include_neutral=False) for score in scores]"
   ]
  },
  {
   "cell_type": "code",
   "execution_count": 39,
   "metadata": {
    "_uuid": "b3575191bb425ab871f3f41e83812ee84bb7e595"
   },
   "outputs": [],
   "source": [
    "def plot_confusion_matrix(cm, classes,\n",
    "                          title='Confusion matrix',\n",
    "                          cmap=plt.cm.Blues):\n",
    "    \"\"\"\n",
    "    This function prints and plots the confusion matrix.\n",
    "    Normalization can be applied by setting `normalize=True`.\n",
    "    \"\"\"\n",
    "\n",
    "    cm = cm.astype('float') / cm.sum(axis=1)[:, np.newaxis]\n",
    "\n",
    "    plt.imshow(cm, interpolation='nearest', cmap=cmap)\n",
    "    plt.title(title, fontsize=30)\n",
    "    plt.colorbar()\n",
    "    tick_marks = np.arange(len(classes))\n",
    "    plt.xticks(tick_marks, classes, rotation=90, fontsize=22)\n",
    "    plt.yticks(tick_marks, classes, fontsize=22)\n",
    "\n",
    "    fmt = '.2f'\n",
    "    thresh = cm.max() / 2.\n",
    "    for i, j in itertools.product(range(cm.shape[0]), range(cm.shape[1])):\n",
    "        plt.text(j, i, format(cm[i, j], fmt),\n",
    "                 horizontalalignment=\"center\",\n",
    "                 color=\"white\" if cm[i, j] > thresh else \"black\")\n",
    "\n",
    "    plt.ylabel('True label', fontsize=25)\n",
    "    plt.xlabel('Predicted label', fontsize=25)"
   ]
  },
  {
   "cell_type": "code",
   "execution_count": 40,
   "metadata": {
    "_uuid": "a57dc6f6211c144491a70f533225edfa95a2dc66"
   },
   "outputs": [
    {
     "data": {
      "image/png": "[encoded data removed]",
      "text/plain": [
       "<Figure size 720x720 with 2 Axes>"
      ]
     },
     "metadata": {
      "needs_background": "light"
     },
     "output_type": "display_data"
    },
    {
     "name": "stdout",
     "output_type": "stream",
     "text": [
      "Wall time: 214 ms\n"
     ]
    }
   ],
   "source": [
    "%%time\n",
    "\n",
    "cnf_matrix = confusion_matrix(y_test_1d, y_pred_1d)\n",
    "plt.figure(figsize=(10,10))\n",
    "plot_confusion_matrix(cnf_matrix, classes=df_train.target.unique(), title=\"Confusion matrix\")\n",
    "plt.show()"
   ]
  },
  {
   "cell_type": "markdown",
   "metadata": {
    "_uuid": "e23b957348dcc084249d3cc7538b972da471c2cd"
   },
   "source": [
    "### Classification Report"
   ]
  },
  {
   "cell_type": "code",
   "execution_count": 41,
   "metadata": {
    "_uuid": "a7fe05b7caa1c984ff1deb0be2f7c6bc043df9f5"
   },
   "outputs": [
    {
     "name": "stdout",
     "output_type": "stream",
     "text": [
      "              precision    recall  f1-score   support\n",
      "\n",
      "    NEGATIVE       0.00      0.00      0.00        32\n",
      "     NEUTRAL       0.00      0.00      0.00        23\n",
      "    POSITIVE       0.27      1.00      0.42        20\n",
      "\n",
      "    accuracy                           0.27        75\n",
      "   macro avg       0.09      0.33      0.14        75\n",
      "weighted avg       0.07      0.27      0.11        75\n",
      "\n"
     ]
    },
    {
     "name": "stderr",
     "output_type": "stream",
     "text": [
      "C:\\Users\\Geovanny\\.conda\\envs\\twitter\\lib\\site-packages\\sklearn\\metrics\\_classification.py:1221: UndefinedMetricWarning: Precision and F-score are ill-defined and being set to 0.0 in labels with no predicted samples. Use `zero_division` parameter to control this behavior.\n",
      "  _warn_prf(average, modifier, msg_start, len(result))\n"
     ]
    }
   ],
   "source": [
    "print(classification_report(y_test_1d, y_pred_1d))"
   ]
  },
  {
   "cell_type": "markdown",
   "metadata": {
    "_uuid": "4eb300f0c6693a618587c7dcf32f77f5416cbfb9"
   },
   "source": [
    "### Accuracy Score"
   ]
  },
  {
   "cell_type": "code",
   "execution_count": 42,
   "metadata": {
    "_uuid": "5cf76e6e09f8a60ed25947932b94c772eda44d23"
   },
   "outputs": [
    {
     "data": {
      "text/plain": [
       "0.26666666666666666"
      ]
     },
     "execution_count": 42,
     "metadata": {},
     "output_type": "execute_result"
    }
   ],
   "source": [
    "accuracy_score(y_test_1d, y_pred_1d)"
   ]
  },
  {
   "cell_type": "markdown",
   "metadata": {
    "_uuid": "4f014c32f3833db282e1a075c526604f34e3158c"
   },
   "source": [
    "### Save model"
   ]
  },
  {
   "cell_type": "code",
   "execution_count": 43,
   "metadata": {
    "_uuid": "3b2b3ad5b592977b404acfa1c9ad303a62837255"
   },
   "outputs": [
    {
     "name": "stderr",
     "output_type": "stream",
     "text": [
      "2020-11-11 23:29:42,931 : INFO : saving Word2Vec object under model.w2v, separately None\n",
      "2020-11-11 23:29:42,932 : INFO : not storing attribute vectors_norm\n",
      "2020-11-11 23:29:42,933 : INFO : not storing attribute cum_table\n",
      "2020-11-11 23:29:42,989 : INFO : saved model.w2v\n"
     ]
    }
   ],
   "source": [
    "model.save(KERAS_MODEL)\n",
    "w2v_model.save(WORD2VEC_MODEL)\n",
    "pickle.dump(tokenizer, open(TOKENIZER_MODEL, \"wb\"), protocol=0)\n",
    "pickle.dump(encoder, open(ENCODER_MODEL, \"wb\"), protocol=0)"
   ]
  }
 ],
 "metadata": {
  "kernelspec": {
   "display_name": "Python [conda env:.conda-twitter] *",
   "language": "python",
   "name": "conda-env-.conda-twitter-py"
  },
  "language_info": {
   "codemirror_mode": {
    "name": "ipython",
    "version": 3
   },
   "file_extension": ".py",
   "mimetype": "text/x-python",
   "name": "python",
   "nbconvert_exporter": "python",
   "pygments_lexer": "ipython3",
   "version": "3.7.8"
  }
 },
 "nbformat": 4,
 "nbformat_minor": 4
}
