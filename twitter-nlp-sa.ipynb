{
 "cells": [
  {
   "cell_type": "markdown",
   "metadata": {
    "_uuid": "92b885dd147dac19bd0a33db3cd0da100bd5bc23"
   },
   "source": [
    "# Twitter Sentiment Analysis"
   ]
  },
  {
   "cell_type": "markdown",
   "metadata": {},
   "source": [
    "## Analisis de sentimientos utilizando tweets\n",
    "\n",
    "Este Notebook contiene la implementación para generar un modelo de análisis de sentimientos\n",
    "utilizando una red neuronal recurrente de tipo _Long Short Term Memory_ asi como el proceso ETL para \n",
    "tokenizar las palabras y adecuar el conjunto de entrenamiento.\n",
    "\n",
    "A continuación se describen los datos del autor original y se realiza la respectiva referencia.\n",
    "\n",
    "__Autor:__ Paolo Ripamonti -\n",
    "[Acerca del autor](https://www.kaggle.com/paoloripamonti)\n",
    "\n",
    "__Notebook:__ Twitter Sentimental Analysis -\n",
    "[Notebook original](https://www.kaggle.com/paoloripamonti/twitter-sentiment-analysis)\n",
    "\n",
    "El notebook se modifica con el ánimo de realizar este análisis de sentimientos en el lenguaje español\n",
    "asi como adecuarlo para escalar apropiadamente para su uso en una arquitectura Big Data"
   ]
  },
  {
   "cell_type": "code",
   "execution_count": 1,
   "metadata": {
    "_uuid": "303e72966af732ddef0bd8108a321095314e44af"
   },
   "outputs": [
    {
     "name": "stderr",
     "output_type": "stream",
     "text": [
      "Using TensorFlow backend.\n",
      "C:\\Users\\Proyecto\\anaconda3\\envs\\twitter\\lib\\site-packages\\tensorflow\\python\\framework\\dtypes.py:516: FutureWarning: Passing (type, 1) or '1type' as a synonym of type is deprecated; in a future version of numpy, it will be understood as (type, (1,)) / '(1,)type'.\n",
      "  _np_qint8 = np.dtype([(\"qint8\", np.int8, 1)])\n",
      "C:\\Users\\Proyecto\\anaconda3\\envs\\twitter\\lib\\site-packages\\tensorflow\\python\\framework\\dtypes.py:517: FutureWarning: Passing (type, 1) or '1type' as a synonym of type is deprecated; in a future version of numpy, it will be understood as (type, (1,)) / '(1,)type'.\n",
      "  _np_quint8 = np.dtype([(\"quint8\", np.uint8, 1)])\n",
      "C:\\Users\\Proyecto\\anaconda3\\envs\\twitter\\lib\\site-packages\\tensorflow\\python\\framework\\dtypes.py:518: FutureWarning: Passing (type, 1) or '1type' as a synonym of type is deprecated; in a future version of numpy, it will be understood as (type, (1,)) / '(1,)type'.\n",
      "  _np_qint16 = np.dtype([(\"qint16\", np.int16, 1)])\n",
      "C:\\Users\\Proyecto\\anaconda3\\envs\\twitter\\lib\\site-packages\\tensorflow\\python\\framework\\dtypes.py:519: FutureWarning: Passing (type, 1) or '1type' as a synonym of type is deprecated; in a future version of numpy, it will be understood as (type, (1,)) / '(1,)type'.\n",
      "  _np_quint16 = np.dtype([(\"quint16\", np.uint16, 1)])\n",
      "C:\\Users\\Proyecto\\anaconda3\\envs\\twitter\\lib\\site-packages\\tensorflow\\python\\framework\\dtypes.py:520: FutureWarning: Passing (type, 1) or '1type' as a synonym of type is deprecated; in a future version of numpy, it will be understood as (type, (1,)) / '(1,)type'.\n",
      "  _np_qint32 = np.dtype([(\"qint32\", np.int32, 1)])\n",
      "C:\\Users\\Proyecto\\anaconda3\\envs\\twitter\\lib\\site-packages\\tensorflow\\python\\framework\\dtypes.py:525: FutureWarning: Passing (type, 1) or '1type' as a synonym of type is deprecated; in a future version of numpy, it will be understood as (type, (1,)) / '(1,)type'.\n",
      "  np_resource = np.dtype([(\"resource\", np.ubyte, 1)])\n",
      "C:\\Users\\Proyecto\\anaconda3\\envs\\twitter\\lib\\site-packages\\tensorboard\\compat\\tensorflow_stub\\dtypes.py:541: FutureWarning: Passing (type, 1) or '1type' as a synonym of type is deprecated; in a future version of numpy, it will be understood as (type, (1,)) / '(1,)type'.\n",
      "  _np_qint8 = np.dtype([(\"qint8\", np.int8, 1)])\n",
      "C:\\Users\\Proyecto\\anaconda3\\envs\\twitter\\lib\\site-packages\\tensorboard\\compat\\tensorflow_stub\\dtypes.py:542: FutureWarning: Passing (type, 1) or '1type' as a synonym of type is deprecated; in a future version of numpy, it will be understood as (type, (1,)) / '(1,)type'.\n",
      "  _np_quint8 = np.dtype([(\"quint8\", np.uint8, 1)])\n",
      "C:\\Users\\Proyecto\\anaconda3\\envs\\twitter\\lib\\site-packages\\tensorboard\\compat\\tensorflow_stub\\dtypes.py:543: FutureWarning: Passing (type, 1) or '1type' as a synonym of type is deprecated; in a future version of numpy, it will be understood as (type, (1,)) / '(1,)type'.\n",
      "  _np_qint16 = np.dtype([(\"qint16\", np.int16, 1)])\n",
      "C:\\Users\\Proyecto\\anaconda3\\envs\\twitter\\lib\\site-packages\\tensorboard\\compat\\tensorflow_stub\\dtypes.py:544: FutureWarning: Passing (type, 1) or '1type' as a synonym of type is deprecated; in a future version of numpy, it will be understood as (type, (1,)) / '(1,)type'.\n",
      "  _np_quint16 = np.dtype([(\"quint16\", np.uint16, 1)])\n",
      "C:\\Users\\Proyecto\\anaconda3\\envs\\twitter\\lib\\site-packages\\tensorboard\\compat\\tensorflow_stub\\dtypes.py:545: FutureWarning: Passing (type, 1) or '1type' as a synonym of type is deprecated; in a future version of numpy, it will be understood as (type, (1,)) / '(1,)type'.\n",
      "  _np_qint32 = np.dtype([(\"qint32\", np.int32, 1)])\n",
      "C:\\Users\\Proyecto\\anaconda3\\envs\\twitter\\lib\\site-packages\\tensorboard\\compat\\tensorflow_stub\\dtypes.py:550: FutureWarning: Passing (type, 1) or '1type' as a synonym of type is deprecated; in a future version of numpy, it will be understood as (type, (1,)) / '(1,)type'.\n",
      "  np_resource = np.dtype([(\"resource\", np.ubyte, 1)])\n"
     ]
    }
   ],
   "source": [
    "# DataFrame\n",
    "import pandas as pd\n",
    "\n",
    "# Matplot\n",
    "import matplotlib.pyplot as plt\n",
    "%matplotlib inline\n",
    "\n",
    "# Scikit-learn\n",
    "from sklearn.model_selection import train_test_split\n",
    "from sklearn.preprocessing import LabelEncoder\n",
    "from sklearn.metrics import confusion_matrix, classification_report, accuracy_score\n",
    "from sklearn.manifold import TSNE\n",
    "from sklearn.feature_extraction.text import TfidfVectorizer\n",
    "\n",
    "# Keras\n",
    "from keras.preprocessing.text import Tokenizer\n",
    "from keras.preprocessing.sequence import pad_sequences\n",
    "from keras.models import Sequential\n",
    "from keras.layers import Activation, Dense, Dropout, Embedding, Flatten, Conv1D, MaxPooling1D, LSTM\n",
    "from keras import utils\n",
    "from keras.callbacks import ReduceLROnPlateau, EarlyStopping\n",
    "\n",
    "# nltk\n",
    "import nltk\n",
    "from nltk.corpus import stopwords\n",
    "from  nltk.stem import SnowballStemmer\n",
    "\n",
    "# Word2vec\n",
    "import gensim\n",
    "\n",
    "# Utility\n",
    "import re\n",
    "import numpy as np\n",
    "import os\n",
    "from collections import Counter\n",
    "import logging\n",
    "import time\n",
    "import pickle\n",
    "import itertools\n",
    "\n",
    "# Set log\n",
    "logging.basicConfig(format='%(asctime)s : %(levelname)s : %(message)s', level=logging.INFO)"
   ]
  },
  {
   "cell_type": "code",
   "execution_count": 2,
   "metadata": {
    "_uuid": "35e1a89dead5fd160e4c9a024a21d2e569fc89ff"
   },
   "outputs": [
    {
     "name": "stderr",
     "output_type": "stream",
     "text": [
      "[nltk_data] Downloading package stopwords to\n",
      "[nltk_data]     C:\\Users\\Proyecto\\AppData\\Roaming\\nltk_data...\n",
      "[nltk_data]   Package stopwords is already up-to-date!\n"
     ]
    },
    {
     "data": {
      "text/plain": [
       "True"
      ]
     },
     "execution_count": 2,
     "metadata": {},
     "output_type": "execute_result"
    }
   ],
   "source": [
    "nltk.download('stopwords')"
   ]
  },
  {
   "cell_type": "markdown",
   "metadata": {
    "_uuid": "e8b01a07df001e4abcc745900336c4db06e455f3"
   },
   "source": [
    "### Settings"
   ]
  },
  {
   "cell_type": "code",
   "execution_count": 3,
   "metadata": {
    "_uuid": "180f0dd2a95419e4602b5c0229822b0111c826f6"
   },
   "outputs": [],
   "source": [
    "# DATASET\n",
    "DATASET_COLUMNS = [\"target\", \"ids\", \"date\", \"flag\", \"user\", \"text\"]\n",
    "DATASET_ENCODING = \"ISO-8859-1\"\n",
    "TRAIN_SIZE = 0.8\n",
    "\n",
    "# TEXT CLENAING\n",
    "TEXT_CLEANING_RE = \"@\\S+|https?:\\S+|http?:\\S|[^A-Za-z0-9]+\"\n",
    "\n",
    "# WORD2VEC \n",
    "W2V_SIZE = 300\n",
    "W2V_WINDOW = 7\n",
    "W2V_EPOCH = 32\n",
    "W2V_MIN_COUNT = 10\n",
    "\n",
    "# KERAS\n",
    "SEQUENCE_LENGTH = 300\n",
    "EPOCHS = 8\n",
    "BATCH_SIZE = 1024\n",
    "\n",
    "# SENTIMENT\n",
    "POSITIVE = \"POSITIVE\"\n",
    "NEGATIVE = \"NEGATIVE\"\n",
    "NEUTRAL = \"NEUTRAL\"\n",
    "SENTIMENT_THRESHOLDS = (0.4, 0.7)\n",
    "\n",
    "# EXPORT\n",
    "KERAS_MODEL = \"model.h5\"\n",
    "WORD2VEC_MODEL = \"model.w2v\"\n",
    "TOKENIZER_MODEL = \"tokenizer.pkl\"\n",
    "ENCODER_MODEL = \"encoder.pkl\""
   ]
  },
  {
   "cell_type": "markdown",
   "metadata": {
    "_uuid": "1c3beecc618be68480b3d4f0de08d9d863da1dc1"
   },
   "source": [
    "### Read Dataset"
   ]
  },
  {
   "cell_type": "markdown",
   "metadata": {
    "_uuid": "563b3c44f1092dba0b853747b098e00509098cca"
   },
   "source": [
    "### Dataset details\n",
    "* **target**: the polarity of the tweet (0 = negative, 2 = neutral, 4 = positive)\n",
    "* **ids**: The id of the tweet ( 2087)\n",
    "* **date**: the date of the tweet (Sat May 16 23:58:44 UTC 2009)\n",
    "* **flag**: The query (lyx). If there is no query, then this value is NO_QUERY.\n",
    "* **user**: the user that tweeted (robotickilldozr)\n",
    "* **text**: the text of the tweet (Lyx is cool)"
   ]
  },
  {
   "cell_type": "code",
   "execution_count": 4,
   "metadata": {
    "_uuid": "bba8f91cd70de4f5ea0fb0870ae2029b6e3dcc24"
   },
   "outputs": [
    {
     "name": "stdout",
     "output_type": "stream",
     "text": [
      "Open file: C:/Users/Proyecto/Documents/twitter_sent_analysis/data/dataset-depurado.csv\n"
     ]
    }
   ],
   "source": [
    "# dataset_filename = os.listdir(\"../input\")[0]\n",
    "# dataset_path = os.path.join(\"..\",\"input\",dataset_filename)\n",
    "dataset_path = 'C:/Users/Proyecto/Documents/twitter_sent_analysis/data/dataset-depurado.csv'\n",
    "print(\"Open file:\", dataset_path)\n",
    "#df = pd.read_csv(dataset_path, encoding=DATASET_ENCODING, names=DATASET_COLUMNS, sep=';')\n",
    "df = pd.read_csv(dataset_path, encoding=DATASET_ENCODING, sep=';')"
   ]
  },
  {
   "cell_type": "code",
   "execution_count": 5,
   "metadata": {
    "_uuid": "936d499c00c4f1648bc16ca9d283c3b39be7fb10"
   },
   "outputs": [
    {
     "name": "stdout",
     "output_type": "stream",
     "text": [
      "Dataset size: 249\n"
     ]
    }
   ],
   "source": [
    "print(\"Dataset size:\", len(df))"
   ]
  },
  {
   "cell_type": "code",
   "execution_count": 6,
   "metadata": {
    "_uuid": "7486ed895b813c5246f97b31b6162b0f65ff763b"
   },
   "outputs": [
    {
     "data": {
      "text/html": [
       "<div>\n",
       "<style scoped>\n",
       "    .dataframe tbody tr th:only-of-type {\n",
       "        vertical-align: middle;\n",
       "    }\n",
       "\n",
       "    .dataframe tbody tr th {\n",
       "        vertical-align: top;\n",
       "    }\n",
       "\n",
       "    .dataframe thead th {\n",
       "        text-align: right;\n",
       "    }\n",
       "</style>\n",
       "<table border=\"1\" class=\"dataframe\">\n",
       "  <thead>\n",
       "    <tr style=\"text-align: right;\">\n",
       "      <th></th>\n",
       "      <th>target</th>\n",
       "      <th>ids</th>\n",
       "      <th>flag</th>\n",
       "      <th>user</th>\n",
       "      <th>date</th>\n",
       "      <th>text</th>\n",
       "    </tr>\n",
       "  </thead>\n",
       "  <tbody>\n",
       "    <tr>\n",
       "      <th>0</th>\n",
       "      <td>2</td>\n",
       "      <td>2026</td>\n",
       "      <td>NO_QUERY</td>\n",
       "      <td>pipohaciendodelassuyas</td>\n",
       "      <td>\"Sat May 20 20:45:00 UTC 2009\"</td>\n",
       "      <td>RT marianodealba Luego de reunirse con el Rey ...</td>\n",
       "    </tr>\n",
       "    <tr>\n",
       "      <th>1</th>\n",
       "      <td>4</td>\n",
       "      <td>179</td>\n",
       "      <td>NO_QUERY</td>\n",
       "      <td>pipohaciendodelassuyas</td>\n",
       "      <td>\"Sat May 20 20:45:00 UTC 2009\"</td>\n",
       "      <td>RT PaisajeCol Nia Kogi de la Sierra Nevada de ...</td>\n",
       "    </tr>\n",
       "    <tr>\n",
       "      <th>2</th>\n",
       "      <td>0</td>\n",
       "      <td>1033</td>\n",
       "      <td>NO_QUERY</td>\n",
       "      <td>pipohaciendodelassuyas</td>\n",
       "      <td>\"Sat May 20 20:45:00 UTC 2009\"</td>\n",
       "      <td>RT AnalisisUrbano NuevaMasacre ATENCION Tmesis...</td>\n",
       "    </tr>\n",
       "    <tr>\n",
       "      <th>3</th>\n",
       "      <td>0</td>\n",
       "      <td>695</td>\n",
       "      <td>NO_QUERY</td>\n",
       "      <td>pipohaciendodelassuyas</td>\n",
       "      <td>\"Sat May 20 20:45:00 UTC 2009\"</td>\n",
       "      <td>MariaFdaCabal JoeBiden Esta compradora de voto...</td>\n",
       "    </tr>\n",
       "    <tr>\n",
       "      <th>4</th>\n",
       "      <td>2</td>\n",
       "      <td>1702</td>\n",
       "      <td>NO_QUERY</td>\n",
       "      <td>pipohaciendodelassuyas</td>\n",
       "      <td>\"Sat May 20 20:45:00 UTC 2009\"</td>\n",
       "      <td>RT PaisajeCol Nia Kogi de la Sierra Nevada de ...</td>\n",
       "    </tr>\n",
       "  </tbody>\n",
       "</table>\n",
       "</div>"
      ],
      "text/plain": [
       "   target   ids      flag                    user  \\\n",
       "0       2  2026  NO_QUERY  pipohaciendodelassuyas   \n",
       "1       4   179  NO_QUERY  pipohaciendodelassuyas   \n",
       "2       0  1033  NO_QUERY  pipohaciendodelassuyas   \n",
       "3       0   695  NO_QUERY  pipohaciendodelassuyas   \n",
       "4       2  1702  NO_QUERY  pipohaciendodelassuyas   \n",
       "\n",
       "                             date  \\\n",
       "0  \"Sat May 20 20:45:00 UTC 2009\"   \n",
       "1  \"Sat May 20 20:45:00 UTC 2009\"   \n",
       "2  \"Sat May 20 20:45:00 UTC 2009\"   \n",
       "3  \"Sat May 20 20:45:00 UTC 2009\"   \n",
       "4  \"Sat May 20 20:45:00 UTC 2009\"   \n",
       "\n",
       "                                                text  \n",
       "0  RT marianodealba Luego de reunirse con el Rey ...  \n",
       "1  RT PaisajeCol Nia Kogi de la Sierra Nevada de ...  \n",
       "2  RT AnalisisUrbano NuevaMasacre ATENCION Tmesis...  \n",
       "3  MariaFdaCabal JoeBiden Esta compradora de voto...  \n",
       "4  RT PaisajeCol Nia Kogi de la Sierra Nevada de ...  "
      ]
     },
     "execution_count": 6,
     "metadata": {},
     "output_type": "execute_result"
    }
   ],
   "source": [
    "df.head(5)"
   ]
  },
  {
   "cell_type": "markdown",
   "metadata": {
    "_uuid": "3f9a7bb129e184967b13261fb5d253af451c75c5"
   },
   "source": [
    "### Map target label to String\n",
    "* **0** -> **NEGATIVE**\n",
    "* **2** -> **NEUTRAL**\n",
    "* **4** -> **POSITIVE**"
   ]
  },
  {
   "cell_type": "code",
   "execution_count": 7,
   "metadata": {
    "_uuid": "14074b59106cb9550440839e48b832223fc9502f"
   },
   "outputs": [],
   "source": [
    "decode_map = {0: \"NEGATIVE\", 2: \"NEUTRAL\", 4: \"POSITIVE\"}\n",
    "def decode_sentiment(label):\n",
    "    return decode_map[int(label)]"
   ]
  },
  {
   "cell_type": "code",
   "execution_count": 8,
   "metadata": {
    "_uuid": "4449d473187f647a195a6ac6986b009da32a7f4b"
   },
   "outputs": [
    {
     "name": "stdout",
     "output_type": "stream",
     "text": [
      "Wall time: 999 µs\n"
     ]
    }
   ],
   "source": [
    "%%time\n",
    "df.target = df.target.apply(lambda x: decode_sentiment(x))"
   ]
  },
  {
   "cell_type": "code",
   "execution_count": 9,
   "metadata": {
    "_uuid": "19eb327803192f31cce3512aacb232f4d6b38715"
   },
   "outputs": [
    {
     "data": {
      "text/plain": [
       "Text(0.5, 1.0, 'Dataset labels distribuition')"
      ]
     },
     "execution_count": 9,
     "metadata": {},
     "output_type": "execute_result"
    },
    {
     "data": {
      "image/png": "[encoded data removed]",
      "text/plain": [
       "<Figure size 1152x576 with 1 Axes>"
      ]
     },
     "metadata": {
      "needs_background": "light"
     },
     "output_type": "display_data"
    }
   ],
   "source": [
    "target_cnt = Counter(df.target)\n",
    "\n",
    "plt.figure(figsize=(16,8))\n",
    "plt.bar(target_cnt.keys(), target_cnt.values())\n",
    "plt.title(\"Dataset labels distribuition\")"
   ]
  },
  {
   "cell_type": "markdown",
   "metadata": {
    "_uuid": "4329b1573518b03e497213efa7676220734ebb4b"
   },
   "source": [
    "### Pre-Process dataset"
   ]
  },
  {
   "cell_type": "code",
   "execution_count": 10,
   "metadata": {
    "_uuid": "8aeee8b7b9ea11b749c7f91cd4787a7b50ed1a91"
   },
   "outputs": [],
   "source": [
    "stop_words = stopwords.words(\"spanish\")\n",
    "stemmer = SnowballStemmer(\"spanish\")"
   ]
  },
  {
   "cell_type": "code",
   "execution_count": 11,
   "metadata": {
    "_uuid": "649ebcb97969b9ac4301138783704bb3d7846a49"
   },
   "outputs": [],
   "source": [
    "def preprocess(text, stem=False):\n",
    "    # Remove link,user and special characters\n",
    "    text = re.sub(TEXT_CLEANING_RE, ' ', str(text).lower()).strip()\n",
    "    tokens = []\n",
    "    for token in text.split():\n",
    "        if token not in stop_words:\n",
    "            if stem:\n",
    "                tokens.append(stemmer.stem(token))\n",
    "            else:\n",
    "                tokens.append(token)\n",
    "    return \" \".join(tokens)"
   ]
  },
  {
   "cell_type": "code",
   "execution_count": 12,
   "metadata": {
    "_uuid": "f7f3e77ab9291d14687c49e71ba9b2b1e3323432"
   },
   "outputs": [
    {
     "name": "stdout",
     "output_type": "stream",
     "text": [
      "Wall time: 17 ms\n"
     ]
    }
   ],
   "source": [
    "%%time\n",
    "df.text = df.text.apply(lambda x: preprocess(x))"
   ]
  },
  {
   "cell_type": "markdown",
   "metadata": {
    "_uuid": "f5f9714a8507409bbe780eebf2855a33e8e6ba37"
   },
   "source": [
    "### Split train and test"
   ]
  },
  {
   "cell_type": "code",
   "execution_count": 13,
   "metadata": {
    "_uuid": "d2b1179c968e3f3910c790ecf0c5b2cbb34b0e68"
   },
   "outputs": [
    {
     "name": "stdout",
     "output_type": "stream",
     "text": [
      "TRAIN size: 199\n",
      "TEST size: 50\n"
     ]
    }
   ],
   "source": [
    "df_train, df_test = train_test_split(df, test_size=1-TRAIN_SIZE, random_state=42)\n",
    "print(\"TRAIN size:\", len(df_train))\n",
    "print(\"TEST size:\", len(df_test))"
   ]
  },
  {
   "cell_type": "markdown",
   "metadata": {
    "_uuid": "f08a28aab2c3d16d8b9681a7d5d07587153a1cd6"
   },
   "source": [
    "### Word2Vec "
   ]
  },
  {
   "cell_type": "code",
   "execution_count": 14,
   "metadata": {
    "_uuid": "2461bf564de1b4414841933d0c1d1bee5f5cc5a6"
   },
   "outputs": [
    {
     "name": "stdout",
     "output_type": "stream",
     "text": [
      "Wall time: 0 ns\n"
     ]
    }
   ],
   "source": [
    "%%time\n",
    "documents = [_text.split() for _text in df_train.text] "
   ]
  },
  {
   "cell_type": "code",
   "execution_count": 15,
   "metadata": {
    "_uuid": "8e19b9f25801ba86420decc266d2b3e6fb44f1ea"
   },
   "outputs": [],
   "source": [
    "w2v_model = gensim.models.word2vec.Word2Vec(size=W2V_SIZE, \n",
    "                                            window=W2V_WINDOW, \n",
    "                                            min_count=W2V_MIN_COUNT, \n",
    "                                            workers=8)"
   ]
  },
  {
   "cell_type": "code",
   "execution_count": 16,
   "metadata": {
    "_uuid": "58d655af07653c594bec6bebcfb302a973b0ad9c"
   },
   "outputs": [
    {
     "name": "stderr",
     "output_type": "stream",
     "text": [
      "2020-11-10 18:07:29,424 : INFO : collecting all words and their counts\n",
      "2020-11-10 18:07:29,424 : INFO : PROGRESS: at sentence #0, processed 0 words, keeping 0 word types\n",
      "2020-11-10 18:07:29,425 : INFO : collected 939 word types from a corpus of 2225 raw words and 199 sentences\n",
      "2020-11-10 18:07:29,426 : INFO : Loading a fresh vocabulary\n",
      "2020-11-10 18:07:29,427 : INFO : effective_min_count=10 retains 27 unique words (2% of original 939, drops 912)\n",
      "2020-11-10 18:07:29,428 : INFO : effective_min_count=10 leaves 679 word corpus (30% of original 2225, drops 1546)\n",
      "2020-11-10 18:07:29,428 : INFO : deleting the raw counts dictionary of 939 items\n",
      "2020-11-10 18:07:29,430 : INFO : sample=0.001 downsamples 27 most-common words\n",
      "2020-11-10 18:07:29,431 : INFO : downsampling leaves estimated 119 word corpus (17.5% of prior 679)\n",
      "2020-11-10 18:07:29,432 : INFO : estimated required memory for 27 words and 300 dimensions: 78300 bytes\n",
      "2020-11-10 18:07:29,432 : INFO : resetting layer weights\n"
     ]
    }
   ],
   "source": [
    "w2v_model.build_vocab(documents)"
   ]
  },
  {
   "cell_type": "code",
   "execution_count": 17,
   "metadata": {
    "_uuid": "72a5628ca81fd4b8983c12d93ae0bf950b86b6ae"
   },
   "outputs": [
    {
     "name": "stdout",
     "output_type": "stream",
     "text": [
      "Vocab size 27\n"
     ]
    }
   ],
   "source": [
    "words = w2v_model.wv.vocab.keys()\n",
    "vocab_size = len(words)\n",
    "print(\"Vocab size\", vocab_size)"
   ]
  },
  {
   "cell_type": "code",
   "execution_count": 18,
   "metadata": {
    "_uuid": "68c3e4a5ba07cac3dee67f78ecdd1404c7f83f14"
   },
   "outputs": [
    {
     "name": "stderr",
     "output_type": "stream",
     "text": [
      "2020-11-10 18:07:29,502 : INFO : training model with 8 workers on 27 vocabulary and 300 features, using sg=0 hs=0 sample=0.001 negative=5 window=7\n",
      "2020-11-10 18:07:29,507 : INFO : worker thread finished; awaiting finish of 7 more threads\n",
      "2020-11-10 18:07:29,508 : INFO : worker thread finished; awaiting finish of 6 more threads\n",
      "2020-11-10 18:07:29,509 : INFO : worker thread finished; awaiting finish of 5 more threads\n",
      "2020-11-10 18:07:29,509 : INFO : worker thread finished; awaiting finish of 4 more threads\n",
      "2020-11-10 18:07:29,510 : INFO : worker thread finished; awaiting finish of 3 more threads\n",
      "2020-11-10 18:07:29,510 : INFO : worker thread finished; awaiting finish of 2 more threads\n",
      "2020-11-10 18:07:29,511 : INFO : worker thread finished; awaiting finish of 1 more threads\n",
      "2020-11-10 18:07:29,511 : INFO : worker thread finished; awaiting finish of 0 more threads\n",
      "2020-11-10 18:07:29,512 : INFO : EPOCH - 1 : training on 2225 raw words (112 effective words) took 0.0s, 19958 effective words/s\n",
      "2020-11-10 18:07:29,518 : INFO : worker thread finished; awaiting finish of 7 more threads\n",
      "2020-11-10 18:07:29,519 : INFO : worker thread finished; awaiting finish of 6 more threads\n",
      "2020-11-10 18:07:29,520 : INFO : worker thread finished; awaiting finish of 5 more threads\n",
      "2020-11-10 18:07:29,521 : INFO : worker thread finished; awaiting finish of 4 more threads\n",
      "2020-11-10 18:07:29,521 : INFO : worker thread finished; awaiting finish of 3 more threads\n",
      "2020-11-10 18:07:29,522 : INFO : worker thread finished; awaiting finish of 2 more threads\n",
      "2020-11-10 18:07:29,523 : INFO : worker thread finished; awaiting finish of 1 more threads\n",
      "2020-11-10 18:07:29,523 : INFO : worker thread finished; awaiting finish of 0 more threads\n",
      "2020-11-10 18:07:29,524 : INFO : EPOCH - 2 : training on 2225 raw words (138 effective words) took 0.0s, 22453 effective words/s\n",
      "2020-11-10 18:07:29,528 : INFO : worker thread finished; awaiting finish of 7 more threads\n",
      "2020-11-10 18:07:29,529 : INFO : worker thread finished; awaiting finish of 6 more threads\n",
      "2020-11-10 18:07:29,530 : INFO : worker thread finished; awaiting finish of 5 more threads\n",
      "2020-11-10 18:07:29,531 : INFO : worker thread finished; awaiting finish of 4 more threads\n",
      "2020-11-10 18:07:29,531 : INFO : worker thread finished; awaiting finish of 3 more threads\n",
      "2020-11-10 18:07:29,532 : INFO : worker thread finished; awaiting finish of 2 more threads\n",
      "2020-11-10 18:07:29,532 : INFO : worker thread finished; awaiting finish of 1 more threads\n",
      "2020-11-10 18:07:29,533 : INFO : worker thread finished; awaiting finish of 0 more threads\n",
      "2020-11-10 18:07:29,533 : INFO : EPOCH - 3 : training on 2225 raw words (110 effective words) took 0.0s, 19239 effective words/s\n",
      "2020-11-10 18:07:29,540 : INFO : worker thread finished; awaiting finish of 7 more threads\n",
      "2020-11-10 18:07:29,541 : INFO : worker thread finished; awaiting finish of 6 more threads\n",
      "2020-11-10 18:07:29,541 : INFO : worker thread finished; awaiting finish of 5 more threads\n",
      "2020-11-10 18:07:29,542 : INFO : worker thread finished; awaiting finish of 4 more threads\n",
      "2020-11-10 18:07:29,542 : INFO : worker thread finished; awaiting finish of 3 more threads\n",
      "2020-11-10 18:07:29,543 : INFO : worker thread finished; awaiting finish of 2 more threads\n",
      "2020-11-10 18:07:29,544 : INFO : worker thread finished; awaiting finish of 1 more threads\n",
      "2020-11-10 18:07:29,544 : INFO : worker thread finished; awaiting finish of 0 more threads\n",
      "2020-11-10 18:07:29,545 : INFO : EPOCH - 4 : training on 2225 raw words (113 effective words) took 0.0s, 18576 effective words/s\n",
      "2020-11-10 18:07:29,552 : INFO : worker thread finished; awaiting finish of 7 more threads\n",
      "2020-11-10 18:07:29,553 : INFO : worker thread finished; awaiting finish of 6 more threads\n",
      "2020-11-10 18:07:29,553 : INFO : worker thread finished; awaiting finish of 5 more threads\n",
      "2020-11-10 18:07:29,555 : INFO : worker thread finished; awaiting finish of 4 more threads\n",
      "2020-11-10 18:07:29,555 : INFO : worker thread finished; awaiting finish of 3 more threads\n",
      "2020-11-10 18:07:29,556 : INFO : worker thread finished; awaiting finish of 2 more threads\n",
      "2020-11-10 18:07:29,556 : INFO : worker thread finished; awaiting finish of 1 more threads\n",
      "2020-11-10 18:07:29,557 : INFO : worker thread finished; awaiting finish of 0 more threads\n",
      "2020-11-10 18:07:29,557 : INFO : EPOCH - 5 : training on 2225 raw words (120 effective words) took 0.0s, 17148 effective words/s\n",
      "2020-11-10 18:07:29,562 : INFO : worker thread finished; awaiting finish of 7 more threads\n",
      "2020-11-10 18:07:29,563 : INFO : worker thread finished; awaiting finish of 6 more threads\n",
      "2020-11-10 18:07:29,564 : INFO : worker thread finished; awaiting finish of 5 more threads\n",
      "2020-11-10 18:07:29,565 : INFO : worker thread finished; awaiting finish of 4 more threads\n",
      "2020-11-10 18:07:29,566 : INFO : worker thread finished; awaiting finish of 3 more threads\n",
      "2020-11-10 18:07:29,566 : INFO : worker thread finished; awaiting finish of 2 more threads\n",
      "2020-11-10 18:07:29,567 : INFO : worker thread finished; awaiting finish of 1 more threads\n",
      "2020-11-10 18:07:29,567 : INFO : worker thread finished; awaiting finish of 0 more threads\n",
      "2020-11-10 18:07:29,568 : INFO : EPOCH - 6 : training on 2225 raw words (106 effective words) took 0.0s, 16056 effective words/s\n",
      "2020-11-10 18:07:29,573 : INFO : worker thread finished; awaiting finish of 7 more threads\n",
      "2020-11-10 18:07:29,574 : INFO : worker thread finished; awaiting finish of 6 more threads\n",
      "2020-11-10 18:07:29,575 : INFO : worker thread finished; awaiting finish of 5 more threads\n",
      "2020-11-10 18:07:29,575 : INFO : worker thread finished; awaiting finish of 4 more threads\n",
      "2020-11-10 18:07:29,576 : INFO : worker thread finished; awaiting finish of 3 more threads\n",
      "2020-11-10 18:07:29,576 : INFO : worker thread finished; awaiting finish of 2 more threads\n",
      "2020-11-10 18:07:29,577 : INFO : worker thread finished; awaiting finish of 1 more threads\n",
      "2020-11-10 18:07:29,578 : INFO : worker thread finished; awaiting finish of 0 more threads\n",
      "2020-11-10 18:07:29,578 : INFO : EPOCH - 7 : training on 2225 raw words (127 effective words) took 0.0s, 22226 effective words/s\n",
      "2020-11-10 18:07:29,583 : INFO : worker thread finished; awaiting finish of 7 more threads\n",
      "2020-11-10 18:07:29,585 : INFO : worker thread finished; awaiting finish of 6 more threads\n",
      "2020-11-10 18:07:29,586 : INFO : worker thread finished; awaiting finish of 5 more threads\n",
      "2020-11-10 18:07:29,587 : INFO : worker thread finished; awaiting finish of 4 more threads\n",
      "2020-11-10 18:07:29,587 : INFO : worker thread finished; awaiting finish of 3 more threads\n",
      "2020-11-10 18:07:29,588 : INFO : worker thread finished; awaiting finish of 2 more threads\n",
      "2020-11-10 18:07:29,588 : INFO : worker thread finished; awaiting finish of 1 more threads\n",
      "2020-11-10 18:07:29,589 : INFO : worker thread finished; awaiting finish of 0 more threads\n",
      "2020-11-10 18:07:29,589 : INFO : EPOCH - 8 : training on 2225 raw words (118 effective words) took 0.0s, 15824 effective words/s\n",
      "2020-11-10 18:07:29,594 : INFO : worker thread finished; awaiting finish of 7 more threads\n",
      "2020-11-10 18:07:29,596 : INFO : worker thread finished; awaiting finish of 6 more threads\n",
      "2020-11-10 18:07:29,597 : INFO : worker thread finished; awaiting finish of 5 more threads\n",
      "2020-11-10 18:07:29,597 : INFO : worker thread finished; awaiting finish of 4 more threads\n",
      "2020-11-10 18:07:29,598 : INFO : worker thread finished; awaiting finish of 3 more threads\n",
      "2020-11-10 18:07:29,598 : INFO : worker thread finished; awaiting finish of 2 more threads\n",
      "2020-11-10 18:07:29,599 : INFO : worker thread finished; awaiting finish of 1 more threads\n",
      "2020-11-10 18:07:29,599 : INFO : worker thread finished; awaiting finish of 0 more threads\n",
      "2020-11-10 18:07:29,599 : INFO : EPOCH - 9 : training on 2225 raw words (124 effective words) took 0.0s, 20608 effective words/s\n",
      "2020-11-10 18:07:29,604 : INFO : worker thread finished; awaiting finish of 7 more threads\n",
      "2020-11-10 18:07:29,605 : INFO : worker thread finished; awaiting finish of 6 more threads\n",
      "2020-11-10 18:07:29,606 : INFO : worker thread finished; awaiting finish of 5 more threads\n",
      "2020-11-10 18:07:29,606 : INFO : worker thread finished; awaiting finish of 4 more threads\n",
      "2020-11-10 18:07:29,607 : INFO : worker thread finished; awaiting finish of 3 more threads\n",
      "2020-11-10 18:07:29,607 : INFO : worker thread finished; awaiting finish of 2 more threads\n",
      "2020-11-10 18:07:29,608 : INFO : worker thread finished; awaiting finish of 1 more threads\n",
      "2020-11-10 18:07:29,608 : INFO : worker thread finished; awaiting finish of 0 more threads\n",
      "2020-11-10 18:07:29,608 : INFO : EPOCH - 10 : training on 2225 raw words (123 effective words) took 0.0s, 24560 effective words/s\n",
      "2020-11-10 18:07:29,615 : INFO : worker thread finished; awaiting finish of 7 more threads\n",
      "2020-11-10 18:07:29,616 : INFO : worker thread finished; awaiting finish of 6 more threads\n",
      "2020-11-10 18:07:29,617 : INFO : worker thread finished; awaiting finish of 5 more threads\n",
      "2020-11-10 18:07:29,617 : INFO : worker thread finished; awaiting finish of 4 more threads\n",
      "2020-11-10 18:07:29,618 : INFO : worker thread finished; awaiting finish of 3 more threads\n",
      "2020-11-10 18:07:29,619 : INFO : worker thread finished; awaiting finish of 2 more threads\n",
      "2020-11-10 18:07:29,619 : INFO : worker thread finished; awaiting finish of 1 more threads\n",
      "2020-11-10 18:07:29,620 : INFO : worker thread finished; awaiting finish of 0 more threads\n",
      "2020-11-10 18:07:29,621 : INFO : EPOCH - 11 : training on 2225 raw words (117 effective words) took 0.0s, 17106 effective words/s\n",
      "2020-11-10 18:07:29,625 : INFO : worker thread finished; awaiting finish of 7 more threads\n",
      "2020-11-10 18:07:29,626 : INFO : worker thread finished; awaiting finish of 6 more threads\n",
      "2020-11-10 18:07:29,626 : INFO : worker thread finished; awaiting finish of 5 more threads\n",
      "2020-11-10 18:07:29,627 : INFO : worker thread finished; awaiting finish of 4 more threads\n",
      "2020-11-10 18:07:29,628 : INFO : worker thread finished; awaiting finish of 3 more threads\n",
      "2020-11-10 18:07:29,628 : INFO : worker thread finished; awaiting finish of 2 more threads\n",
      "2020-11-10 18:07:29,628 : INFO : worker thread finished; awaiting finish of 1 more threads\n",
      "2020-11-10 18:07:29,629 : INFO : worker thread finished; awaiting finish of 0 more threads\n",
      "2020-11-10 18:07:29,629 : INFO : EPOCH - 12 : training on 2225 raw words (123 effective words) took 0.0s, 22501 effective words/s\n",
      "2020-11-10 18:07:29,634 : INFO : worker thread finished; awaiting finish of 7 more threads\n",
      "2020-11-10 18:07:29,635 : INFO : worker thread finished; awaiting finish of 6 more threads\n",
      "2020-11-10 18:07:29,636 : INFO : worker thread finished; awaiting finish of 5 more threads\n",
      "2020-11-10 18:07:29,636 : INFO : worker thread finished; awaiting finish of 4 more threads\n",
      "2020-11-10 18:07:29,637 : INFO : worker thread finished; awaiting finish of 3 more threads\n",
      "2020-11-10 18:07:29,637 : INFO : worker thread finished; awaiting finish of 2 more threads\n",
      "2020-11-10 18:07:29,638 : INFO : worker thread finished; awaiting finish of 1 more threads\n",
      "2020-11-10 18:07:29,639 : INFO : worker thread finished; awaiting finish of 0 more threads\n",
      "2020-11-10 18:07:29,639 : INFO : EPOCH - 13 : training on 2225 raw words (120 effective words) took 0.0s, 19159 effective words/s\n",
      "2020-11-10 18:07:29,644 : INFO : worker thread finished; awaiting finish of 7 more threads\n",
      "2020-11-10 18:07:29,646 : INFO : worker thread finished; awaiting finish of 6 more threads\n",
      "2020-11-10 18:07:29,646 : INFO : worker thread finished; awaiting finish of 5 more threads\n",
      "2020-11-10 18:07:29,647 : INFO : worker thread finished; awaiting finish of 4 more threads\n",
      "2020-11-10 18:07:29,648 : INFO : worker thread finished; awaiting finish of 3 more threads\n",
      "2020-11-10 18:07:29,649 : INFO : worker thread finished; awaiting finish of 2 more threads\n",
      "2020-11-10 18:07:29,649 : INFO : worker thread finished; awaiting finish of 1 more threads\n",
      "2020-11-10 18:07:29,650 : INFO : worker thread finished; awaiting finish of 0 more threads\n",
      "2020-11-10 18:07:29,650 : INFO : EPOCH - 14 : training on 2225 raw words (92 effective words) took 0.0s, 13612 effective words/s\n",
      "2020-11-10 18:07:29,654 : INFO : worker thread finished; awaiting finish of 7 more threads\n",
      "2020-11-10 18:07:29,655 : INFO : worker thread finished; awaiting finish of 6 more threads\n",
      "2020-11-10 18:07:29,656 : INFO : worker thread finished; awaiting finish of 5 more threads\n",
      "2020-11-10 18:07:29,657 : INFO : worker thread finished; awaiting finish of 4 more threads\n",
      "2020-11-10 18:07:29,658 : INFO : worker thread finished; awaiting finish of 3 more threads\n",
      "2020-11-10 18:07:29,658 : INFO : worker thread finished; awaiting finish of 2 more threads\n",
      "2020-11-10 18:07:29,658 : INFO : worker thread finished; awaiting finish of 1 more threads\n",
      "2020-11-10 18:07:29,659 : INFO : worker thread finished; awaiting finish of 0 more threads\n",
      "2020-11-10 18:07:29,659 : INFO : EPOCH - 15 : training on 2225 raw words (113 effective words) took 0.0s, 19729 effective words/s\n",
      "2020-11-10 18:07:29,664 : INFO : worker thread finished; awaiting finish of 7 more threads\n",
      "2020-11-10 18:07:29,665 : INFO : worker thread finished; awaiting finish of 6 more threads\n",
      "2020-11-10 18:07:29,665 : INFO : worker thread finished; awaiting finish of 5 more threads\n",
      "2020-11-10 18:07:29,666 : INFO : worker thread finished; awaiting finish of 4 more threads\n",
      "2020-11-10 18:07:29,667 : INFO : worker thread finished; awaiting finish of 3 more threads\n",
      "2020-11-10 18:07:29,667 : INFO : worker thread finished; awaiting finish of 2 more threads\n",
      "2020-11-10 18:07:29,668 : INFO : worker thread finished; awaiting finish of 1 more threads\n",
      "2020-11-10 18:07:29,669 : INFO : worker thread finished; awaiting finish of 0 more threads\n",
      "2020-11-10 18:07:29,669 : INFO : EPOCH - 16 : training on 2225 raw words (114 effective words) took 0.0s, 18185 effective words/s\n",
      "2020-11-10 18:07:29,673 : INFO : worker thread finished; awaiting finish of 7 more threads\n",
      "2020-11-10 18:07:29,675 : INFO : worker thread finished; awaiting finish of 6 more threads\n",
      "2020-11-10 18:07:29,675 : INFO : worker thread finished; awaiting finish of 5 more threads\n",
      "2020-11-10 18:07:29,676 : INFO : worker thread finished; awaiting finish of 4 more threads\n",
      "2020-11-10 18:07:29,676 : INFO : worker thread finished; awaiting finish of 3 more threads\n",
      "2020-11-10 18:07:29,677 : INFO : worker thread finished; awaiting finish of 2 more threads\n",
      "2020-11-10 18:07:29,677 : INFO : worker thread finished; awaiting finish of 1 more threads\n",
      "2020-11-10 18:07:29,678 : INFO : worker thread finished; awaiting finish of 0 more threads\n",
      "2020-11-10 18:07:29,678 : INFO : EPOCH - 17 : training on 2225 raw words (124 effective words) took 0.0s, 22293 effective words/s\n",
      "2020-11-10 18:07:29,684 : INFO : worker thread finished; awaiting finish of 7 more threads\n",
      "2020-11-10 18:07:29,685 : INFO : worker thread finished; awaiting finish of 6 more threads\n",
      "2020-11-10 18:07:29,686 : INFO : worker thread finished; awaiting finish of 5 more threads\n",
      "2020-11-10 18:07:29,686 : INFO : worker thread finished; awaiting finish of 4 more threads\n",
      "2020-11-10 18:07:29,687 : INFO : worker thread finished; awaiting finish of 3 more threads\n",
      "2020-11-10 18:07:29,688 : INFO : worker thread finished; awaiting finish of 2 more threads\n",
      "2020-11-10 18:07:29,689 : INFO : worker thread finished; awaiting finish of 1 more threads\n",
      "2020-11-10 18:07:29,690 : INFO : worker thread finished; awaiting finish of 0 more threads\n",
      "2020-11-10 18:07:29,690 : INFO : EPOCH - 18 : training on 2225 raw words (118 effective words) took 0.0s, 18472 effective words/s\n",
      "2020-11-10 18:07:29,702 : INFO : worker thread finished; awaiting finish of 7 more threads\n",
      "2020-11-10 18:07:29,703 : INFO : worker thread finished; awaiting finish of 6 more threads\n",
      "2020-11-10 18:07:29,703 : INFO : worker thread finished; awaiting finish of 5 more threads\n",
      "2020-11-10 18:07:29,704 : INFO : worker thread finished; awaiting finish of 4 more threads\n",
      "2020-11-10 18:07:29,704 : INFO : worker thread finished; awaiting finish of 3 more threads\n",
      "2020-11-10 18:07:29,705 : INFO : worker thread finished; awaiting finish of 2 more threads\n",
      "2020-11-10 18:07:29,706 : INFO : worker thread finished; awaiting finish of 1 more threads\n",
      "2020-11-10 18:07:29,706 : INFO : worker thread finished; awaiting finish of 0 more threads\n",
      "2020-11-10 18:07:29,707 : INFO : EPOCH - 19 : training on 2225 raw words (129 effective words) took 0.0s, 21977 effective words/s\n",
      "2020-11-10 18:07:29,710 : INFO : worker thread finished; awaiting finish of 7 more threads\n",
      "2020-11-10 18:07:29,711 : INFO : worker thread finished; awaiting finish of 6 more threads\n",
      "2020-11-10 18:07:29,712 : INFO : worker thread finished; awaiting finish of 5 more threads\n",
      "2020-11-10 18:07:29,712 : INFO : worker thread finished; awaiting finish of 4 more threads\n",
      "2020-11-10 18:07:29,713 : INFO : worker thread finished; awaiting finish of 3 more threads\n",
      "2020-11-10 18:07:29,713 : INFO : worker thread finished; awaiting finish of 2 more threads\n",
      "2020-11-10 18:07:29,714 : INFO : worker thread finished; awaiting finish of 1 more threads\n",
      "2020-11-10 18:07:29,714 : INFO : worker thread finished; awaiting finish of 0 more threads\n",
      "2020-11-10 18:07:29,715 : INFO : EPOCH - 20 : training on 2225 raw words (119 effective words) took 0.0s, 22881 effective words/s\n",
      "2020-11-10 18:07:29,721 : INFO : worker thread finished; awaiting finish of 7 more threads\n",
      "2020-11-10 18:07:29,722 : INFO : worker thread finished; awaiting finish of 6 more threads\n",
      "2020-11-10 18:07:29,723 : INFO : worker thread finished; awaiting finish of 5 more threads\n",
      "2020-11-10 18:07:29,724 : INFO : worker thread finished; awaiting finish of 4 more threads\n",
      "2020-11-10 18:07:29,724 : INFO : worker thread finished; awaiting finish of 3 more threads\n",
      "2020-11-10 18:07:29,725 : INFO : worker thread finished; awaiting finish of 2 more threads\n",
      "2020-11-10 18:07:29,725 : INFO : worker thread finished; awaiting finish of 1 more threads\n",
      "2020-11-10 18:07:29,726 : INFO : worker thread finished; awaiting finish of 0 more threads\n",
      "2020-11-10 18:07:29,726 : INFO : EPOCH - 21 : training on 2225 raw words (115 effective words) took 0.0s, 18367 effective words/s\n",
      "2020-11-10 18:07:29,732 : INFO : worker thread finished; awaiting finish of 7 more threads\n",
      "2020-11-10 18:07:29,733 : INFO : worker thread finished; awaiting finish of 6 more threads\n",
      "2020-11-10 18:07:29,733 : INFO : worker thread finished; awaiting finish of 5 more threads\n",
      "2020-11-10 18:07:29,734 : INFO : worker thread finished; awaiting finish of 4 more threads\n",
      "2020-11-10 18:07:29,734 : INFO : worker thread finished; awaiting finish of 3 more threads\n",
      "2020-11-10 18:07:29,735 : INFO : worker thread finished; awaiting finish of 2 more threads\n",
      "2020-11-10 18:07:29,735 : INFO : worker thread finished; awaiting finish of 1 more threads\n",
      "2020-11-10 18:07:29,736 : INFO : worker thread finished; awaiting finish of 0 more threads\n",
      "2020-11-10 18:07:29,736 : INFO : EPOCH - 22 : training on 2225 raw words (135 effective words) took 0.0s, 26742 effective words/s\n",
      "2020-11-10 18:07:29,740 : INFO : worker thread finished; awaiting finish of 7 more threads\n",
      "2020-11-10 18:07:29,741 : INFO : worker thread finished; awaiting finish of 6 more threads\n",
      "2020-11-10 18:07:29,742 : INFO : worker thread finished; awaiting finish of 5 more threads\n",
      "2020-11-10 18:07:29,742 : INFO : worker thread finished; awaiting finish of 4 more threads\n",
      "2020-11-10 18:07:29,743 : INFO : worker thread finished; awaiting finish of 3 more threads\n",
      "2020-11-10 18:07:29,743 : INFO : worker thread finished; awaiting finish of 2 more threads\n",
      "2020-11-10 18:07:29,744 : INFO : worker thread finished; awaiting finish of 1 more threads\n",
      "2020-11-10 18:07:29,745 : INFO : worker thread finished; awaiting finish of 0 more threads\n",
      "2020-11-10 18:07:29,746 : INFO : EPOCH - 23 : training on 2225 raw words (113 effective words) took 0.0s, 18729 effective words/s\n",
      "2020-11-10 18:07:29,751 : INFO : worker thread finished; awaiting finish of 7 more threads\n",
      "2020-11-10 18:07:29,752 : INFO : worker thread finished; awaiting finish of 6 more threads\n",
      "2020-11-10 18:07:29,753 : INFO : worker thread finished; awaiting finish of 5 more threads\n",
      "2020-11-10 18:07:29,754 : INFO : worker thread finished; awaiting finish of 4 more threads\n",
      "2020-11-10 18:07:29,754 : INFO : worker thread finished; awaiting finish of 3 more threads\n",
      "2020-11-10 18:07:29,755 : INFO : worker thread finished; awaiting finish of 2 more threads\n",
      "2020-11-10 18:07:29,755 : INFO : worker thread finished; awaiting finish of 1 more threads\n",
      "2020-11-10 18:07:29,756 : INFO : worker thread finished; awaiting finish of 0 more threads\n",
      "2020-11-10 18:07:29,757 : INFO : EPOCH - 24 : training on 2225 raw words (117 effective words) took 0.0s, 16814 effective words/s\n",
      "2020-11-10 18:07:29,761 : INFO : worker thread finished; awaiting finish of 7 more threads\n",
      "2020-11-10 18:07:29,762 : INFO : worker thread finished; awaiting finish of 6 more threads\n",
      "2020-11-10 18:07:29,762 : INFO : worker thread finished; awaiting finish of 5 more threads\n",
      "2020-11-10 18:07:29,763 : INFO : worker thread finished; awaiting finish of 4 more threads\n",
      "2020-11-10 18:07:29,763 : INFO : worker thread finished; awaiting finish of 3 more threads\n",
      "2020-11-10 18:07:29,764 : INFO : worker thread finished; awaiting finish of 2 more threads\n",
      "2020-11-10 18:07:29,764 : INFO : worker thread finished; awaiting finish of 1 more threads\n",
      "2020-11-10 18:07:29,765 : INFO : worker thread finished; awaiting finish of 0 more threads\n",
      "2020-11-10 18:07:29,766 : INFO : EPOCH - 25 : training on 2225 raw words (141 effective words) took 0.0s, 26261 effective words/s\n",
      "2020-11-10 18:07:29,770 : INFO : worker thread finished; awaiting finish of 7 more threads\n",
      "2020-11-10 18:07:29,771 : INFO : worker thread finished; awaiting finish of 6 more threads\n",
      "2020-11-10 18:07:29,773 : INFO : worker thread finished; awaiting finish of 5 more threads\n",
      "2020-11-10 18:07:29,774 : INFO : worker thread finished; awaiting finish of 4 more threads\n",
      "2020-11-10 18:07:29,775 : INFO : worker thread finished; awaiting finish of 3 more threads\n",
      "2020-11-10 18:07:29,775 : INFO : worker thread finished; awaiting finish of 2 more threads\n",
      "2020-11-10 18:07:29,776 : INFO : worker thread finished; awaiting finish of 1 more threads\n",
      "2020-11-10 18:07:29,777 : INFO : worker thread finished; awaiting finish of 0 more threads\n",
      "2020-11-10 18:07:29,777 : INFO : EPOCH - 26 : training on 2225 raw words (108 effective words) took 0.0s, 13439 effective words/s\n",
      "2020-11-10 18:07:29,781 : INFO : worker thread finished; awaiting finish of 7 more threads\n",
      "2020-11-10 18:07:29,782 : INFO : worker thread finished; awaiting finish of 6 more threads\n",
      "2020-11-10 18:07:29,783 : INFO : worker thread finished; awaiting finish of 5 more threads\n",
      "2020-11-10 18:07:29,783 : INFO : worker thread finished; awaiting finish of 4 more threads\n",
      "2020-11-10 18:07:29,784 : INFO : worker thread finished; awaiting finish of 3 more threads\n",
      "2020-11-10 18:07:29,784 : INFO : worker thread finished; awaiting finish of 2 more threads\n",
      "2020-11-10 18:07:29,785 : INFO : worker thread finished; awaiting finish of 1 more threads\n",
      "2020-11-10 18:07:29,786 : INFO : worker thread finished; awaiting finish of 0 more threads\n",
      "2020-11-10 18:07:29,786 : INFO : EPOCH - 27 : training on 2225 raw words (107 effective words) took 0.0s, 19134 effective words/s\n",
      "2020-11-10 18:07:29,791 : INFO : worker thread finished; awaiting finish of 7 more threads\n",
      "2020-11-10 18:07:29,792 : INFO : worker thread finished; awaiting finish of 6 more threads\n",
      "2020-11-10 18:07:29,792 : INFO : worker thread finished; awaiting finish of 5 more threads\n",
      "2020-11-10 18:07:29,793 : INFO : worker thread finished; awaiting finish of 4 more threads\n",
      "2020-11-10 18:07:29,794 : INFO : worker thread finished; awaiting finish of 3 more threads\n",
      "2020-11-10 18:07:29,794 : INFO : worker thread finished; awaiting finish of 2 more threads\n",
      "2020-11-10 18:07:29,795 : INFO : worker thread finished; awaiting finish of 1 more threads\n",
      "2020-11-10 18:07:29,795 : INFO : worker thread finished; awaiting finish of 0 more threads\n",
      "2020-11-10 18:07:29,796 : INFO : EPOCH - 28 : training on 2225 raw words (132 effective words) took 0.0s, 23186 effective words/s\n",
      "2020-11-10 18:07:29,801 : INFO : worker thread finished; awaiting finish of 7 more threads\n",
      "2020-11-10 18:07:29,802 : INFO : worker thread finished; awaiting finish of 6 more threads\n",
      "2020-11-10 18:07:29,803 : INFO : worker thread finished; awaiting finish of 5 more threads\n",
      "2020-11-10 18:07:29,803 : INFO : worker thread finished; awaiting finish of 4 more threads\n",
      "2020-11-10 18:07:29,804 : INFO : worker thread finished; awaiting finish of 3 more threads\n",
      "2020-11-10 18:07:29,805 : INFO : worker thread finished; awaiting finish of 2 more threads\n",
      "2020-11-10 18:07:29,805 : INFO : worker thread finished; awaiting finish of 1 more threads\n",
      "2020-11-10 18:07:29,805 : INFO : worker thread finished; awaiting finish of 0 more threads\n",
      "2020-11-10 18:07:29,806 : INFO : EPOCH - 29 : training on 2225 raw words (126 effective words) took 0.0s, 21040 effective words/s\n",
      "2020-11-10 18:07:29,810 : INFO : worker thread finished; awaiting finish of 7 more threads\n",
      "2020-11-10 18:07:29,811 : INFO : worker thread finished; awaiting finish of 6 more threads\n",
      "2020-11-10 18:07:29,812 : INFO : worker thread finished; awaiting finish of 5 more threads\n",
      "2020-11-10 18:07:29,812 : INFO : worker thread finished; awaiting finish of 4 more threads\n",
      "2020-11-10 18:07:29,813 : INFO : worker thread finished; awaiting finish of 3 more threads\n",
      "2020-11-10 18:07:29,814 : INFO : worker thread finished; awaiting finish of 2 more threads\n",
      "2020-11-10 18:07:29,815 : INFO : worker thread finished; awaiting finish of 1 more threads\n",
      "2020-11-10 18:07:29,815 : INFO : worker thread finished; awaiting finish of 0 more threads\n",
      "2020-11-10 18:07:29,816 : INFO : EPOCH - 30 : training on 2225 raw words (121 effective words) took 0.0s, 19101 effective words/s\n",
      "2020-11-10 18:07:29,821 : INFO : worker thread finished; awaiting finish of 7 more threads\n",
      "2020-11-10 18:07:29,822 : INFO : worker thread finished; awaiting finish of 6 more threads\n",
      "2020-11-10 18:07:29,823 : INFO : worker thread finished; awaiting finish of 5 more threads\n",
      "2020-11-10 18:07:29,824 : INFO : worker thread finished; awaiting finish of 4 more threads\n",
      "2020-11-10 18:07:29,825 : INFO : worker thread finished; awaiting finish of 3 more threads\n",
      "2020-11-10 18:07:29,825 : INFO : worker thread finished; awaiting finish of 2 more threads\n",
      "2020-11-10 18:07:29,826 : INFO : worker thread finished; awaiting finish of 1 more threads\n",
      "2020-11-10 18:07:29,827 : INFO : worker thread finished; awaiting finish of 0 more threads\n",
      "2020-11-10 18:07:29,827 : INFO : EPOCH - 31 : training on 2225 raw words (129 effective words) took 0.0s, 17543 effective words/s\n",
      "2020-11-10 18:07:29,831 : INFO : worker thread finished; awaiting finish of 7 more threads\n",
      "2020-11-10 18:07:29,832 : INFO : worker thread finished; awaiting finish of 6 more threads\n",
      "2020-11-10 18:07:29,833 : INFO : worker thread finished; awaiting finish of 5 more threads\n",
      "2020-11-10 18:07:29,833 : INFO : worker thread finished; awaiting finish of 4 more threads\n",
      "2020-11-10 18:07:29,834 : INFO : worker thread finished; awaiting finish of 3 more threads\n",
      "2020-11-10 18:07:29,834 : INFO : worker thread finished; awaiting finish of 2 more threads\n",
      "2020-11-10 18:07:29,835 : INFO : worker thread finished; awaiting finish of 1 more threads\n",
      "2020-11-10 18:07:29,835 : INFO : worker thread finished; awaiting finish of 0 more threads\n",
      "2020-11-10 18:07:29,835 : INFO : EPOCH - 32 : training on 2225 raw words (115 effective words) took 0.0s, 22245 effective words/s\n",
      "2020-11-10 18:07:29,836 : INFO : training on a 71200 raw words (3819 effective words) took 0.3s, 11486 effective words/s\n",
      "2020-11-10 18:07:29,836 : WARNING : under 10 jobs per worker: consider setting a smaller `batch_words' for smoother alpha decay\n"
     ]
    },
    {
     "name": "stdout",
     "output_type": "stream",
     "text": [
      "Wall time: 335 ms\n"
     ]
    },
    {
     "data": {
      "text/plain": [
       "(3819, 71200)"
      ]
     },
     "execution_count": 18,
     "metadata": {},
     "output_type": "execute_result"
    }
   ],
   "source": [
    "%%time\n",
    "w2v_model.train(documents, total_examples=len(documents), epochs=W2V_EPOCH)"
   ]
  },
  {
   "cell_type": "code",
   "execution_count": 19,
   "metadata": {
    "_uuid": "27cc2651c74227115d8bfd8c40e5618048e05edd"
   },
   "outputs": [
    {
     "name": "stderr",
     "output_type": "stream",
     "text": [
      "2020-11-10 18:07:29,844 : INFO : precomputing L2-norms of word weight vectors\n"
     ]
    },
    {
     "data": {
      "text/plain": [
       "[('atencin', 0.9973305463790894),\n",
       " ('nuevamasacre', 0.9972949028015137),\n",
       " ('antioquia', 0.9972440004348755),\n",
       " ('urgente', 0.9970852732658386),\n",
       " ('vez', 0.9970341324806213),\n",
       " ('atencion', 0.9968382716178894),\n",
       " ('tmesis', 0.9966180920600891),\n",
       " ('rt', 0.9965373873710632),\n",
       " ('colombia', 0.9962148666381836),\n",
       " ('sierra', 0.9960283041000366)]"
      ]
     },
     "execution_count": 19,
     "metadata": {},
     "output_type": "execute_result"
    }
   ],
   "source": [
    "w2v_model.wv.most_similar(\"masacre\")"
   ]
  },
  {
   "cell_type": "markdown",
   "metadata": {
    "_uuid": "e13563644468037258598637b49373ca96b9b879"
   },
   "source": [
    "### Tokenize Text"
   ]
  },
  {
   "cell_type": "code",
   "execution_count": 20,
   "metadata": {
    "_uuid": "6852bc709a7cd20173cbeeb218505078f8f37c57"
   },
   "outputs": [
    {
     "name": "stdout",
     "output_type": "stream",
     "text": [
      "Total words 940\n",
      "Wall time: 6 ms\n"
     ]
    }
   ],
   "source": [
    "%%time\n",
    "tokenizer = Tokenizer()\n",
    "tokenizer.fit_on_texts(df_train.text)\n",
    "\n",
    "vocab_size = len(tokenizer.word_index) + 1\n",
    "print(\"Total words\", vocab_size)"
   ]
  },
  {
   "cell_type": "code",
   "execution_count": 21,
   "metadata": {
    "_uuid": "45de439df3015030c71f84c2d170346936a1d68f"
   },
   "outputs": [
    {
     "name": "stdout",
     "output_type": "stream",
     "text": [
      "Wall time: 6 ms\n"
     ]
    }
   ],
   "source": [
    "%%time\n",
    "x_train = pad_sequences(tokenizer.texts_to_sequences(df_train.text), maxlen=SEQUENCE_LENGTH)\n",
    "x_test = pad_sequences(tokenizer.texts_to_sequences(df_test.text), maxlen=SEQUENCE_LENGTH)"
   ]
  },
  {
   "cell_type": "markdown",
   "metadata": {
    "_uuid": "03b35903fc6260e190d6928d240ef7432de117fc"
   },
   "source": [
    "### Label Encoder "
   ]
  },
  {
   "cell_type": "code",
   "execution_count": 22,
   "metadata": {
    "_uuid": "33676e0efa39e97d89bd650b8b4eae933a22fbf0"
   },
   "outputs": [
    {
     "data": {
      "text/plain": [
       "['POSITIVE', 'NEGATIVE', 'NEUTRAL', 'NEUTRAL']"
      ]
     },
     "execution_count": 22,
     "metadata": {},
     "output_type": "execute_result"
    }
   ],
   "source": [
    "labels = df_train.target.unique().tolist()\n",
    "labels.append(NEUTRAL)\n",
    "labels"
   ]
  },
  {
   "cell_type": "code",
   "execution_count": 23,
   "metadata": {
    "_uuid": "04239a9bef76e7922fd86098a5601dfde8ee4665"
   },
   "outputs": [
    {
     "name": "stdout",
     "output_type": "stream",
     "text": [
      "y_train (199, 1)\n",
      "y_test (50, 1)\n"
     ]
    }
   ],
   "source": [
    "encoder = LabelEncoder()\n",
    "encoder.fit(df_train.target.tolist())\n",
    "\n",
    "y_train = encoder.transform(df_train.target.tolist())\n",
    "y_test = encoder.transform(df_test.target.tolist())\n",
    "\n",
    "y_train = y_train.reshape(-1,1)\n",
    "y_test = y_test.reshape(-1,1)\n",
    "\n",
    "print(\"y_train\",y_train.shape)\n",
    "print(\"y_test\",y_test.shape)"
   ]
  },
  {
   "cell_type": "code",
   "execution_count": 24,
   "metadata": {
    "_uuid": "04299c886911ca135583ab64878f213939a2990c"
   },
   "outputs": [
    {
     "name": "stdout",
     "output_type": "stream",
     "text": [
      "x_train (199, 300)\n",
      "y_train (199, 1)\n",
      "\n",
      "x_test (50, 300)\n",
      "y_test (50, 1)\n"
     ]
    }
   ],
   "source": [
    "print(\"x_train\", x_train.shape)\n",
    "print(\"y_train\", y_train.shape)\n",
    "print()\n",
    "print(\"x_test\", x_test.shape)\n",
    "print(\"y_test\", y_test.shape)"
   ]
  },
  {
   "cell_type": "code",
   "execution_count": 25,
   "metadata": {
    "_uuid": "232533fb27b7be99d9b8c2f8fb22c9c6bf121a6f"
   },
   "outputs": [
    {
     "data": {
      "text/plain": [
       "array([[2],\n",
       "       [0],\n",
       "       [0],\n",
       "       [0],\n",
       "       [0],\n",
       "       [2],\n",
       "       [0],\n",
       "       [2],\n",
       "       [1],\n",
       "       [0]], dtype=int64)"
      ]
     },
     "execution_count": 25,
     "metadata": {},
     "output_type": "execute_result"
    }
   ],
   "source": [
    "y_train[:10]"
   ]
  },
  {
   "cell_type": "markdown",
   "metadata": {
    "_uuid": "233c0ea94055a03e2e7df3e2a13d036ec963484f"
   },
   "source": [
    "### Embedding layer"
   ]
  },
  {
   "cell_type": "code",
   "execution_count": 26,
   "metadata": {
    "_uuid": "9ab488374b59e3f30f8b1ea92767d853c4846bac"
   },
   "outputs": [
    {
     "name": "stdout",
     "output_type": "stream",
     "text": [
      "(940, 300)\n"
     ]
    }
   ],
   "source": [
    "embedding_matrix = np.zeros((vocab_size, W2V_SIZE))\n",
    "for word, i in tokenizer.word_index.items():\n",
    "  if word in w2v_model.wv:\n",
    "    embedding_matrix[i] = w2v_model.wv[word]\n",
    "print(embedding_matrix.shape)"
   ]
  },
  {
   "cell_type": "code",
   "execution_count": 27,
   "metadata": {
    "_uuid": "833279d91e4286065968237fb5f2a0c2dd4d246c"
   },
   "outputs": [],
   "source": [
    "embedding_layer = Embedding(vocab_size, W2V_SIZE, weights=[embedding_matrix], input_length=SEQUENCE_LENGTH, trainable=False)"
   ]
  },
  {
   "cell_type": "markdown",
   "metadata": {
    "_uuid": "b299ef78f94c2085942c993a2d58753a7476305a"
   },
   "source": [
    "### Build Model"
   ]
  },
  {
   "cell_type": "code",
   "execution_count": 28,
   "metadata": {
    "_uuid": "e775ef4f1b74e6412457181383c39f2df554ef3f"
   },
   "outputs": [
    {
     "name": "stdout",
     "output_type": "stream",
     "text": [
      "Model: \"sequential_1\"\n",
      "_________________________________________________________________\n",
      "Layer (type)                 Output Shape              Param #   \n",
      "=================================================================\n",
      "embedding_1 (Embedding)      (None, 300, 300)          282000    \n",
      "_________________________________________________________________\n",
      "dropout_1 (Dropout)          (None, 300, 300)          0         \n",
      "_________________________________________________________________\n",
      "lstm_1 (LSTM)                (None, 100)               160400    \n",
      "_________________________________________________________________\n",
      "dense_1 (Dense)              (None, 1)                 101       \n",
      "=================================================================\n",
      "Total params: 442,501\n",
      "Trainable params: 160,501\n",
      "Non-trainable params: 282,000\n",
      "_________________________________________________________________\n"
     ]
    }
   ],
   "source": [
    "model = Sequential()\n",
    "model.add(embedding_layer)\n",
    "model.add(Dropout(0.5))\n",
    "model.add(LSTM(100, dropout=0.2, recurrent_dropout=0.2))\n",
    "model.add(Dense(1, activation='sigmoid'))\n",
    "\n",
    "model.summary()"
   ]
  },
  {
   "cell_type": "markdown",
   "metadata": {
    "_uuid": "28d22eafd0c7d798dcf3d742bc92fb8577939e6c"
   },
   "source": [
    "### Compile model"
   ]
  },
  {
   "cell_type": "code",
   "execution_count": 29,
   "metadata": {
    "_uuid": "1331e08d590bb2aa2033706c8faca217afc0f1c3"
   },
   "outputs": [
    {
     "name": "stdout",
     "output_type": "stream",
     "text": [
      "WARNING:tensorflow:From C:\\Users\\Proyecto\\anaconda3\\envs\\twitter\\lib\\site-packages\\tensorflow\\python\\ops\\nn_impl.py:180: add_dispatch_support.<locals>.wrapper (from tensorflow.python.ops.array_ops) is deprecated and will be removed in a future version.\n",
      "Instructions for updating:\n",
      "Use tf.where in 2.0, which has the same broadcast rule as np.where\n"
     ]
    },
    {
     "name": "stderr",
     "output_type": "stream",
     "text": [
      "2020-11-10 18:07:30,747 : WARNING : From C:\\Users\\Proyecto\\anaconda3\\envs\\twitter\\lib\\site-packages\\tensorflow\\python\\ops\\nn_impl.py:180: add_dispatch_support.<locals>.wrapper (from tensorflow.python.ops.array_ops) is deprecated and will be removed in a future version.\n",
      "Instructions for updating:\n",
      "Use tf.where in 2.0, which has the same broadcast rule as np.where\n"
     ]
    }
   ],
   "source": [
    "model.compile(loss='binary_crossentropy',\n",
    "              optimizer=\"adam\",\n",
    "              metrics=['accuracy'])"
   ]
  },
  {
   "cell_type": "markdown",
   "metadata": {
    "_uuid": "c7733127cb8b380e0c807268903bf4d03ef92542"
   },
   "source": [
    "### Callbacks"
   ]
  },
  {
   "cell_type": "code",
   "execution_count": 30,
   "metadata": {
    "_uuid": "a688df590386f5748da6fe00b01904fe6c71619e"
   },
   "outputs": [],
   "source": [
    "callbacks = [ ReduceLROnPlateau(monitor='val_loss', patience=5, cooldown=0),\n",
    "              EarlyStopping(monitor='val_accuracy', min_delta=1e-4, patience=5)]"
   ]
  },
  {
   "cell_type": "markdown",
   "metadata": {
    "_uuid": "8d0873633dd49179c8cae17377641b97d323ef3b"
   },
   "source": [
    "### Train"
   ]
  },
  {
   "cell_type": "code",
   "execution_count": 31,
   "metadata": {
    "_uuid": "2b659d390c6577dc5cdb6b6297934279b4e801d5"
   },
   "outputs": [
    {
     "name": "stdout",
     "output_type": "stream",
     "text": [
      "WARNING:tensorflow:From C:\\Users\\Proyecto\\anaconda3\\envs\\twitter\\lib\\site-packages\\keras\\backend\\tensorflow_backend.py:422: The name tf.global_variables is deprecated. Please use tf.compat.v1.global_variables instead.\n",
      "\n"
     ]
    },
    {
     "name": "stderr",
     "output_type": "stream",
     "text": [
      "2020-11-10 18:07:31,410 : WARNING : From C:\\Users\\Proyecto\\anaconda3\\envs\\twitter\\lib\\site-packages\\keras\\backend\\tensorflow_backend.py:422: The name tf.global_variables is deprecated. Please use tf.compat.v1.global_variables instead.\n",
      "\n"
     ]
    },
    {
     "name": "stdout",
     "output_type": "stream",
     "text": [
      "Train on 179 samples, validate on 20 samples\n",
      "Epoch 1/8\n",
      "179/179 [==============================] - 1s 6ms/step - loss: 0.6931 - accuracy: 0.4246 - val_loss: 0.6919 - val_accuracy: 0.4500\n",
      "Epoch 2/8\n",
      "179/179 [==============================] - 1s 4ms/step - loss: 0.6899 - accuracy: 0.3073 - val_loss: 0.6907 - val_accuracy: 0.4500\n",
      "Epoch 3/8\n",
      "179/179 [==============================] - 1s 4ms/step - loss: 0.6854 - accuracy: 0.3017 - val_loss: 0.6893 - val_accuracy: 0.4500\n",
      "Epoch 4/8\n",
      "179/179 [==============================] - 1s 4ms/step - loss: 0.6811 - accuracy: 0.3073 - val_loss: 0.6877 - val_accuracy: 0.4500\n",
      "Epoch 5/8\n",
      "179/179 [==============================] - 1s 4ms/step - loss: 0.6764 - accuracy: 0.3073 - val_loss: 0.6858 - val_accuracy: 0.4500\n",
      "Epoch 6/8\n",
      "179/179 [==============================] - 1s 4ms/step - loss: 0.6711 - accuracy: 0.3073 - val_loss: 0.6833 - val_accuracy: 0.4500\n",
      "Wall time: 5.46 s\n"
     ]
    }
   ],
   "source": [
    "%%time\n",
    "history = model.fit(x_train, y_train,\n",
    "                    batch_size=BATCH_SIZE,\n",
    "                    epochs=EPOCHS,\n",
    "                    validation_split=0.1,\n",
    "                    verbose=1,\n",
    "                    callbacks=callbacks)"
   ]
  },
  {
   "cell_type": "markdown",
   "metadata": {
    "_uuid": "267258196d96796ac69a7b8c466314bcf5d6ee42"
   },
   "source": [
    "### Evaluate"
   ]
  },
  {
   "cell_type": "code",
   "execution_count": 32,
   "metadata": {
    "_uuid": "98ecd8f1b8b74594c3ea775dd68a094e92458022"
   },
   "outputs": [
    {
     "name": "stdout",
     "output_type": "stream",
     "text": [
      "50/50 [==============================] - 0s 2ms/step\n",
      "\n",
      "ACCURACY: 0.41999998688697815\n",
      "LOSS: 0.6758542060852051\n",
      "Wall time: 91.5 ms\n"
     ]
    }
   ],
   "source": [
    "%%time\n",
    "score = model.evaluate(x_test, y_test, batch_size=BATCH_SIZE)\n",
    "print()\n",
    "print(\"ACCURACY:\",score[1])\n",
    "print(\"LOSS:\",score[0])"
   ]
  },
  {
   "cell_type": "code",
   "execution_count": 33,
   "metadata": {
    "_uuid": "40c72cd1e9d6c4fd799cbba7c813765ac4039dfc"
   },
   "outputs": [
    {
     "data": {
      "image/png": "[encoded data removed]",
      "text/plain": [
       "<Figure size 432x288 with 1 Axes>"
      ]
     },
     "metadata": {
      "needs_background": "light"
     },
     "output_type": "display_data"
    },
    {
     "data": {
      "image/png": "[encoded data removed]",
      "text/plain": [
       "<Figure size 432x288 with 1 Axes>"
      ]
     },
     "metadata": {
      "needs_background": "light"
     },
     "output_type": "display_data"
    }
   ],
   "source": [
    "acc = history.history['accuracy']\n",
    "val_acc = history.history['val_accuracy']\n",
    "loss = history.history['loss']\n",
    "val_loss = history.history['val_loss']\n",
    " \n",
    "epochs = range(len(acc))\n",
    " \n",
    "plt.plot(epochs, acc, 'b', label='Training acc')\n",
    "plt.plot(epochs, val_acc, 'r', label='Validation acc')\n",
    "plt.title('Training and validation accuracy')\n",
    "plt.legend()\n",
    " \n",
    "plt.figure()\n",
    " \n",
    "plt.plot(epochs, loss, 'b', label='Training loss')\n",
    "plt.plot(epochs, val_loss, 'r', label='Validation loss')\n",
    "plt.title('Training and validation loss')\n",
    "plt.legend()\n",
    " \n",
    "plt.show()"
   ]
  },
  {
   "cell_type": "markdown",
   "metadata": {
    "_uuid": "6bdfc0f6a6af5bebc0271d83dd7432c91001409b"
   },
   "source": [
    "### Predict"
   ]
  },
  {
   "cell_type": "code",
   "execution_count": 34,
   "metadata": {
    "_uuid": "f0b0fa3d4b1bb14b3f5e3d169a369f3ebef29ae1"
   },
   "outputs": [],
   "source": [
    "def decode_sentiment(score, include_neutral=True):\n",
    "    if include_neutral:        \n",
    "        label = NEUTRAL\n",
    "        if score <= SENTIMENT_THRESHOLDS[0]:\n",
    "            label = NEGATIVE\n",
    "        elif score >= SENTIMENT_THRESHOLDS[1]:\n",
    "            label = POSITIVE\n",
    "\n",
    "        return label\n",
    "    else:\n",
    "        return NEGATIVE if score < 0.5 else POSITIVE"
   ]
  },
  {
   "cell_type": "code",
   "execution_count": 35,
   "metadata": {
    "_uuid": "ed4086d651f2f8cbed11d3c909a8873607d29a06"
   },
   "outputs": [],
   "source": [
    "def predict(text, include_neutral=True):\n",
    "    start_at = time.time()\n",
    "    # Tokenize text\n",
    "    x_test = pad_sequences(tokenizer.texts_to_sequences([text]), maxlen=SEQUENCE_LENGTH)\n",
    "    # Predict\n",
    "    score = model.predict([x_test])[0]\n",
    "    # Decode sentiment\n",
    "    label = decode_sentiment(score, include_neutral=include_neutral)\n",
    "\n",
    "    return {\"label\": label, \"score\": float(score),\n",
    "       \"elapsed_time\": time.time()-start_at}  "
   ]
  },
  {
   "cell_type": "code",
   "execution_count": 36,
   "metadata": {
    "_uuid": "ca38b1e6c9b5acfed7467de2cf02a78333108872"
   },
   "outputs": [
    {
     "data": {
      "text/plain": [
       "{'label': 'NEUTRAL',\n",
       " 'score': 0.5147222280502319,\n",
       " 'elapsed_time': 0.09194326400756836}"
      ]
     },
     "execution_count": 36,
     "metadata": {},
     "output_type": "execute_result"
    }
   ],
   "source": [
    "predict(\"Masacre en el cauca deja 10 heridos\")"
   ]
  },
  {
   "cell_type": "code",
   "execution_count": 37,
   "metadata": {
    "_uuid": "0e5fe647533be0148850de349fea6ef6f71303d1"
   },
   "outputs": [
    {
     "data": {
      "text/plain": [
       "{'label': 'NEUTRAL',\n",
       " 'score': 0.5300931930541992,\n",
       " 'elapsed_time': 0.021163225173950195}"
      ]
     },
     "execution_count": 37,
     "metadata": {},
     "output_type": "execute_result"
    }
   ],
   "source": [
    "predict(\"Prevencion de la violencia contra la mujer\")"
   ]
  },
  {
   "cell_type": "markdown",
   "metadata": {
    "_uuid": "3ee72e47f84b6dbc32e02a783de5ec1661f157e1"
   },
   "source": [
    "### Confusion Matrix"
   ]
  },
  {
   "cell_type": "code",
   "execution_count": 38,
   "metadata": {
    "_uuid": "0e920173eb05f04aecdd735bc5dff0f5be5f8d15"
   },
   "outputs": [
    {
     "name": "stdout",
     "output_type": "stream",
     "text": [
      "50/50 [==============================] - 0s 2ms/step\n",
      "Wall time: 84.1 ms\n"
     ]
    }
   ],
   "source": [
    "%%time\n",
    "y_pred_1d = []\n",
    "y_test_1d = list(df_test.target)\n",
    "scores = model.predict(x_test, verbose=1, batch_size=8000)\n",
    "y_pred_1d = [decode_sentiment(score, include_neutral=False) for score in scores]"
   ]
  },
  {
   "cell_type": "code",
   "execution_count": 39,
   "metadata": {
    "_uuid": "b3575191bb425ab871f3f41e83812ee84bb7e595"
   },
   "outputs": [],
   "source": [
    "def plot_confusion_matrix(cm, classes,\n",
    "                          title='Confusion matrix',\n",
    "                          cmap=plt.cm.Blues):\n",
    "    \"\"\"\n",
    "    This function prints and plots the confusion matrix.\n",
    "    Normalization can be applied by setting `normalize=True`.\n",
    "    \"\"\"\n",
    "\n",
    "    cm = cm.astype('float') / cm.sum(axis=1)[:, np.newaxis]\n",
    "\n",
    "    plt.imshow(cm, interpolation='nearest', cmap=cmap)\n",
    "    plt.title(title, fontsize=30)\n",
    "    plt.colorbar()\n",
    "    tick_marks = np.arange(len(classes))\n",
    "    plt.xticks(tick_marks, classes, rotation=90, fontsize=22)\n",
    "    plt.yticks(tick_marks, classes, fontsize=22)\n",
    "\n",
    "    fmt = '.2f'\n",
    "    thresh = cm.max() / 2.\n",
    "    for i, j in itertools.product(range(cm.shape[0]), range(cm.shape[1])):\n",
    "        plt.text(j, i, format(cm[i, j], fmt),\n",
    "                 horizontalalignment=\"center\",\n",
    "                 color=\"white\" if cm[i, j] > thresh else \"black\")\n",
    "\n",
    "    plt.ylabel('True label', fontsize=25)\n",
    "    plt.xlabel('Predicted label', fontsize=25)"
   ]
  },
  {
   "cell_type": "code",
   "execution_count": 40,
   "metadata": {
    "_uuid": "a57dc6f6211c144491a70f533225edfa95a2dc66"
   },
   "outputs": [
    {
     "data": {
      "image/png": "[encoded data removed]",
      "text/plain": [
       "<Figure size 720x720 with 2 Axes>"
      ]
     },
     "metadata": {
      "needs_background": "light"
     },
     "output_type": "display_data"
    },
    {
     "name": "stdout",
     "output_type": "stream",
     "text": [
      "Wall time: 189 ms\n"
     ]
    }
   ],
   "source": [
    "%%time\n",
    "\n",
    "cnf_matrix = confusion_matrix(y_test_1d, y_pred_1d)\n",
    "plt.figure(figsize=(10,10))\n",
    "plot_confusion_matrix(cnf_matrix, classes=df_train.target.unique(), title=\"Confusion matrix\")\n",
    "plt.show()"
   ]
  },
  {
   "cell_type": "markdown",
   "metadata": {
    "_uuid": "e23b957348dcc084249d3cc7538b972da471c2cd"
   },
   "source": [
    "### Classification Report"
   ]
  },
  {
   "cell_type": "code",
   "execution_count": 41,
   "metadata": {
    "_uuid": "a7fe05b7caa1c984ff1deb0be2f7c6bc043df9f5"
   },
   "outputs": [
    {
     "name": "stdout",
     "output_type": "stream",
     "text": [
      "              precision    recall  f1-score   support\n",
      "\n",
      "    NEGATIVE       0.82      0.28      0.42        32\n",
      "     NEUTRAL       0.00      0.00      0.00        14\n",
      "    POSITIVE       0.10      1.00      0.19         4\n",
      "\n",
      "    accuracy                           0.26        50\n",
      "   macro avg       0.31      0.43      0.20        50\n",
      "weighted avg       0.53      0.26      0.28        50\n",
      "\n"
     ]
    },
    {
     "name": "stderr",
     "output_type": "stream",
     "text": [
      "C:\\Users\\Proyecto\\anaconda3\\envs\\twitter\\lib\\site-packages\\sklearn\\metrics\\_classification.py:1221: UndefinedMetricWarning: Precision and F-score are ill-defined and being set to 0.0 in labels with no predicted samples. Use `zero_division` parameter to control this behavior.\n",
      "  _warn_prf(average, modifier, msg_start, len(result))\n"
     ]
    }
   ],
   "source": [
    "print(classification_report(y_test_1d, y_pred_1d))"
   ]
  },
  {
   "cell_type": "markdown",
   "metadata": {
    "_uuid": "4eb300f0c6693a618587c7dcf32f77f5416cbfb9"
   },
   "source": [
    "### Accuracy Score"
   ]
  },
  {
   "cell_type": "code",
   "execution_count": 42,
   "metadata": {
    "_uuid": "5cf76e6e09f8a60ed25947932b94c772eda44d23"
   },
   "outputs": [
    {
     "data": {
      "text/plain": [
       "0.26"
      ]
     },
     "execution_count": 42,
     "metadata": {},
     "output_type": "execute_result"
    }
   ],
   "source": [
    "accuracy_score(y_test_1d, y_pred_1d)"
   ]
  },
  {
   "cell_type": "markdown",
   "metadata": {
    "_uuid": "4f014c32f3833db282e1a075c526604f34e3158c"
   },
   "source": [
    "### Save model"
   ]
  },
  {
   "cell_type": "code",
   "execution_count": 43,
   "metadata": {
    "_uuid": "3b2b3ad5b592977b404acfa1c9ad303a62837255"
   },
   "outputs": [
    {
     "name": "stderr",
     "output_type": "stream",
     "text": [
      "2020-11-10 18:07:37,431 : INFO : saving Word2Vec object under model.w2v, separately None\n",
      "2020-11-10 18:07:37,431 : INFO : not storing attribute vectors_norm\n",
      "2020-11-10 18:07:37,431 : INFO : not storing attribute cum_table\n",
      "2020-11-10 18:07:37,431 : INFO : saved model.w2v\n"
     ]
    }
   ],
   "source": [
    "model.save(KERAS_MODEL)\n",
    "w2v_model.save(WORD2VEC_MODEL)\n",
    "pickle.dump(tokenizer, open(TOKENIZER_MODEL, \"wb\"), protocol=0)\n",
    "pickle.dump(encoder, open(ENCODER_MODEL, \"wb\"), protocol=0)"
   ]
  },
  {
   "cell_type": "code",
   "execution_count": null,
   "metadata": {
    "_uuid": "cc363c54782894757f5ea8820c6a170f2e16ef93"
   },
   "outputs": [],
   "source": []
  }
 ],
 "metadata": {
  "kernelspec": {
   "display_name": "Python [conda env:twitter] *",
   "language": "python",
   "name": "conda-env-twitter-py"
  },
  "language_info": {
   "codemirror_mode": {
    "name": "ipython",
    "version": 3
   },
   "file_extension": ".py",
   "mimetype": "text/x-python",
   "name": "python",
   "nbconvert_exporter": "python",
   "pygments_lexer": "ipython3",
   "version": "3.7.8"
  }
 },
 "nbformat": 4,
 "nbformat_minor": 4
}
