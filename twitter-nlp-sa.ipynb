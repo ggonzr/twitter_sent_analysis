{
 "cells": [
  {
   "cell_type": "markdown",
   "metadata": {
    "_uuid": "92b885dd147dac19bd0a33db3cd0da100bd5bc23"
   },
   "source": [
    "# Twitter Sentiment Analysis"
   ]
  },
  {
   "cell_type": "markdown",
   "metadata": {},
   "source": [
    "## Analisis de sentimientos utilizando tweets\n",
    "\n",
    "Este Notebook contiene la implementación para generar un modelo de análisis de sentimientos\n",
    "utilizando una red neuronal recurrente de tipo _Long Short Term Memory_ asi como el proceso ETL para \n",
    "tokenizar las palabras y adecuar el conjunto de entrenamiento.\n",
    "\n",
    "A continuación se describen los datos del autor original y se realiza la respectiva referencia.\n",
    "\n",
    "__Autor:__ Paolo Ripamonti -\n",
    "[Acerca del autor](https://www.kaggle.com/paoloripamonti)\n",
    "\n",
    "__Notebook:__ Twitter Sentimental Analysis -\n",
    "[Notebook original](https://www.kaggle.com/paoloripamonti/twitter-sentiment-analysis)\n",
    "\n",
    "El notebook se modifica con el ánimo de realizar este análisis de sentimientos en el lenguaje español\n",
    "asi como adecuarlo para escalar apropiadamente para su uso en una arquitectura Big Data"
   ]
  },
  {
   "cell_type": "code",
   "execution_count": 1,
   "metadata": {
    "_uuid": "303e72966af732ddef0bd8108a321095314e44af"
   },
   "outputs": [],
   "source": [
    "# DataFrame\n",
    "import pandas as pd\n",
    "\n",
    "# Matplot\n",
    "import matplotlib.pyplot as plt\n",
    "%matplotlib inline\n",
    "\n",
    "# Scikit-learn\n",
    "from sklearn.model_selection import train_test_split\n",
    "from sklearn.preprocessing import LabelEncoder\n",
    "from sklearn.metrics import confusion_matrix, classification_report, accuracy_score\n",
    "from sklearn.manifold import TSNE\n",
    "from sklearn.feature_extraction.text import TfidfVectorizer\n",
    "\n",
    "# Keras\n",
    "from keras.preprocessing.text import Tokenizer\n",
    "from keras.preprocessing.sequence import pad_sequences\n",
    "from keras.models import Sequential\n",
    "from keras.layers import Activation, Dense, Dropout, Embedding, Flatten, Conv1D, MaxPooling1D, LSTM\n",
    "from keras import utils\n",
    "from keras.callbacks import ReduceLROnPlateau, EarlyStopping\n",
    "\n",
    "# nltk\n",
    "import nltk\n",
    "from nltk.corpus import stopwords\n",
    "from  nltk.stem import SnowballStemmer\n",
    "\n",
    "# Word2vec\n",
    "import gensim\n",
    "\n",
    "# Utility\n",
    "import re\n",
    "import numpy as np\n",
    "import os\n",
    "from collections import Counter\n",
    "import logging\n",
    "import time\n",
    "import pickle\n",
    "import itertools\n",
    "\n",
    "# Set log\n",
    "logging.basicConfig(format='%(asctime)s : %(levelname)s : %(message)s', level=logging.INFO)"
   ]
  },
  {
   "cell_type": "code",
   "execution_count": 2,
   "metadata": {
    "_uuid": "35e1a89dead5fd160e4c9a024a21d2e569fc89ff"
   },
   "outputs": [
    {
     "name": "stderr",
     "output_type": "stream",
     "text": [
      "[nltk_data] Downloading package stopwords to\n",
      "[nltk_data]     C:\\Users\\Geovanny\\AppData\\Roaming\\nltk_data...\n",
      "[nltk_data]   Package stopwords is already up-to-date!\n"
     ]
    },
    {
     "data": {
      "text/plain": [
       "True"
      ]
     },
     "execution_count": 2,
     "metadata": {},
     "output_type": "execute_result"
    }
   ],
   "source": [
    "nltk.download('stopwords')"
   ]
  },
  {
   "cell_type": "markdown",
   "metadata": {
    "_uuid": "e8b01a07df001e4abcc745900336c4db06e455f3"
   },
   "source": [
    "### Settings"
   ]
  },
  {
   "cell_type": "code",
   "execution_count": 3,
   "metadata": {
    "_uuid": "180f0dd2a95419e4602b5c0229822b0111c826f6"
   },
   "outputs": [],
   "source": [
    "# DATASET\n",
    "DATASET_COLUMNS = [\"target\", \"ids\", \"date\", \"flag\", \"user\", \"text\"]\n",
    "DATASET_ENCODING = \"ISO-8859-1\"\n",
    "TRAIN_SIZE = 0.8\n",
    "\n",
    "# TEXT CLENAING\n",
    "TEXT_CLEANING_RE = \"@\\S+|https?:\\S+|http?:\\S|[^A-Za-z0-9]+\"\n",
    "\n",
    "# WORD2VEC \n",
    "W2V_SIZE = 300\n",
    "W2V_WINDOW = 7\n",
    "W2V_EPOCH = 32\n",
    "W2V_MIN_COUNT = 10\n",
    "\n",
    "# KERAS\n",
    "SEQUENCE_LENGTH = 300\n",
    "EPOCHS = 8\n",
    "BATCH_SIZE = 1024\n",
    "\n",
    "# SENTIMENT\n",
    "POSITIVE = \"POSITIVE\"\n",
    "NEGATIVE = \"NEGATIVE\"\n",
    "NEUTRAL = \"NEUTRAL\"\n",
    "SENTIMENT_THRESHOLDS = (0.4, 0.7)\n",
    "\n",
    "# EXPORT\n",
    "KERAS_MODEL = \"model.h5\"\n",
    "WORD2VEC_MODEL = \"model.w2v\"\n",
    "TOKENIZER_MODEL = \"tokenizer.pkl\"\n",
    "ENCODER_MODEL = \"encoder.pkl\""
   ]
  },
  {
   "cell_type": "markdown",
   "metadata": {
    "_uuid": "1c3beecc618be68480b3d4f0de08d9d863da1dc1"
   },
   "source": [
    "### Read Dataset"
   ]
  },
  {
   "cell_type": "markdown",
   "metadata": {
    "_uuid": "563b3c44f1092dba0b853747b098e00509098cca"
   },
   "source": [
    "### Dataset details\n",
    "* **target**: the polarity of the tweet (0 = negative, 2 = neutral, 4 = positive)\n",
    "* **ids**: The id of the tweet ( 2087)\n",
    "* **date**: the date of the tweet (Sat May 16 23:58:44 UTC 2009)\n",
    "* **flag**: The query (lyx). If there is no query, then this value is NO_QUERY.\n",
    "* **user**: the user that tweeted (robotickilldozr)\n",
    "* **text**: the text of the tweet (Lyx is cool)"
   ]
  },
  {
   "cell_type": "code",
   "execution_count": 4,
   "metadata": {
    "_uuid": "bba8f91cd70de4f5ea0fb0870ae2029b6e3dcc24"
   },
   "outputs": [
    {
     "name": "stdout",
     "output_type": "stream",
     "text": [
      "Open file: C:/Users/Geovanny/Documents/Repositorios/twitter-bigdata/data/dbm-model.csv\n"
     ]
    }
   ],
   "source": [
    "# dataset_filename = os.listdir(\"../input\")[0]\n",
    "# dataset_path = os.path.join(\"..\",\"input\",dataset_filename)\n",
    "dataset_path = 'C:/Users/Geovanny/Documents/Repositorios/twitter-bigdata/data/dbm-model.csv'\n",
    "print(\"Open file:\", dataset_path)\n",
    "#df = pd.read_csv(dataset_path, encoding=DATASET_ENCODING, names=DATASET_COLUMNS, sep=';')\n",
    "df = pd.read_csv(dataset_path, encoding=DATASET_ENCODING, sep=';')"
   ]
  },
  {
   "cell_type": "code",
   "execution_count": 5,
   "metadata": {
    "_uuid": "936d499c00c4f1648bc16ca9d283c3b39be7fb10"
   },
   "outputs": [
    {
     "name": "stdout",
     "output_type": "stream",
     "text": [
      "Dataset size: 148391\n"
     ]
    }
   ],
   "source": [
    "print(\"Dataset size:\", len(df))"
   ]
  },
  {
   "cell_type": "code",
   "execution_count": 6,
   "metadata": {
    "_uuid": "7486ed895b813c5246f97b31b6162b0f65ff763b"
   },
   "outputs": [
    {
     "data": {
      "text/html": [
       "<div>\n",
       "<style scoped>\n",
       "    .dataframe tbody tr th:only-of-type {\n",
       "        vertical-align: middle;\n",
       "    }\n",
       "\n",
       "    .dataframe tbody tr th {\n",
       "        vertical-align: top;\n",
       "    }\n",
       "\n",
       "    .dataframe thead th {\n",
       "        text-align: right;\n",
       "    }\n",
       "</style>\n",
       "<table border=\"1\" class=\"dataframe\">\n",
       "  <thead>\n",
       "    <tr style=\"text-align: right;\">\n",
       "      <th></th>\n",
       "      <th>target</th>\n",
       "      <th>text</th>\n",
       "      <th>date</th>\n",
       "      <th>ids</th>\n",
       "      <th>user</th>\n",
       "    </tr>\n",
       "  </thead>\n",
       "  <tbody>\n",
       "    <tr>\n",
       "      <th>0</th>\n",
       "      <td>2</td>\n",
       "      <td>\"RT @CPolUniandes: #NoEsHoraDeCallar en colab...</td>\n",
       "      <td>2020-11-15 18:33:28</td>\n",
       "      <td>1328043454639828994</td>\n",
       "      <td>ObsDemocracia</td>\n",
       "    </tr>\n",
       "    <tr>\n",
       "      <th>1</th>\n",
       "      <td>2</td>\n",
       "      <td>\"RT @CPolUniandes: #NoEsHoraDeCallar en colab...</td>\n",
       "      <td>2020-11-15 18:33:28</td>\n",
       "      <td>1328043454639828994</td>\n",
       "      <td>ObsDemocracia</td>\n",
       "    </tr>\n",
       "    <tr>\n",
       "      <th>2</th>\n",
       "      <td>2</td>\n",
       "      <td>\"RT @Silviarjona: Imperdible esta entrevista ...</td>\n",
       "      <td>2020-11-15 15:46:24</td>\n",
       "      <td>1328001413302063105</td>\n",
       "      <td>andrealdana</td>\n",
       "    </tr>\n",
       "    <tr>\n",
       "      <th>3</th>\n",
       "      <td>2</td>\n",
       "      <td>\"RT @CPolUniandes: #NoEsHoraDeCallar en colab...</td>\n",
       "      <td>2020-11-15 18:33:28</td>\n",
       "      <td>1328043454639828994</td>\n",
       "      <td>ObsDemocracia</td>\n",
       "    </tr>\n",
       "    <tr>\n",
       "      <th>4</th>\n",
       "      <td>2</td>\n",
       "      <td>\"RT @Silviarjona: Imperdible esta entrevista ...</td>\n",
       "      <td>2020-11-15 15:46:24</td>\n",
       "      <td>1328001413302063105</td>\n",
       "      <td>andrealdana</td>\n",
       "    </tr>\n",
       "  </tbody>\n",
       "</table>\n",
       "</div>"
      ],
      "text/plain": [
       "   target                                               text  \\\n",
       "0       2   \"RT @CPolUniandes: #NoEsHoraDeCallar en colab...   \n",
       "1       2   \"RT @CPolUniandes: #NoEsHoraDeCallar en colab...   \n",
       "2       2   \"RT @Silviarjona: Imperdible esta entrevista ...   \n",
       "3       2   \"RT @CPolUniandes: #NoEsHoraDeCallar en colab...   \n",
       "4       2   \"RT @Silviarjona: Imperdible esta entrevista ...   \n",
       "\n",
       "                  date                  ids           user  \n",
       "0  2020-11-15 18:33:28  1328043454639828994  ObsDemocracia  \n",
       "1  2020-11-15 18:33:28  1328043454639828994  ObsDemocracia  \n",
       "2  2020-11-15 15:46:24  1328001413302063105    andrealdana  \n",
       "3  2020-11-15 18:33:28  1328043454639828994  ObsDemocracia  \n",
       "4  2020-11-15 15:46:24  1328001413302063105    andrealdana  "
      ]
     },
     "execution_count": 6,
     "metadata": {},
     "output_type": "execute_result"
    }
   ],
   "source": [
    "df.head(5)"
   ]
  },
  {
   "cell_type": "markdown",
   "metadata": {
    "_uuid": "3f9a7bb129e184967b13261fb5d253af451c75c5"
   },
   "source": [
    "### Map target label to String\n",
    "* **0** -> **NEGATIVE**\n",
    "* **2** -> **NEUTRAL**\n",
    "* **4** -> **POSITIVE**"
   ]
  },
  {
   "cell_type": "code",
   "execution_count": 7,
   "metadata": {
    "_uuid": "14074b59106cb9550440839e48b832223fc9502f"
   },
   "outputs": [],
   "source": [
    "decode_map = {0: \"NEGATIVE\", 2: \"NEUTRAL\", 4: \"POSITIVE\"}\n",
    "def decode_sentiment(label):\n",
    "    return decode_map[int(label)]"
   ]
  },
  {
   "cell_type": "code",
   "execution_count": 8,
   "metadata": {
    "_uuid": "4449d473187f647a195a6ac6986b009da32a7f4b"
   },
   "outputs": [
    {
     "name": "stdout",
     "output_type": "stream",
     "text": [
      "Wall time: 57 ms\n"
     ]
    }
   ],
   "source": [
    "%%time\n",
    "df.target = df.target.apply(lambda x: decode_sentiment(x))"
   ]
  },
  {
   "cell_type": "code",
   "execution_count": 9,
   "metadata": {
    "_uuid": "19eb327803192f31cce3512aacb232f4d6b38715"
   },
   "outputs": [
    {
     "data": {
      "text/plain": [
       "Text(0.5, 1.0, 'Dataset labels distribuition')"
      ]
     },
     "execution_count": 9,
     "metadata": {},
     "output_type": "execute_result"
    },
    {
     "data": {
      "image/png": "[encoded data removed]",
      "text/plain": [
       "<Figure size 1152x576 with 1 Axes>"
      ]
     },
     "metadata": {
      "needs_background": "light"
     },
     "output_type": "display_data"
    }
   ],
   "source": [
    "target_cnt = Counter(df.target)\n",
    "\n",
    "plt.figure(figsize=(16,8))\n",
    "plt.bar(target_cnt.keys(), target_cnt.values())\n",
    "plt.title(\"Dataset labels distribuition\")"
   ]
  },
  {
   "cell_type": "markdown",
   "metadata": {
    "_uuid": "4329b1573518b03e497213efa7676220734ebb4b"
   },
   "source": [
    "### Pre-Process dataset"
   ]
  },
  {
   "cell_type": "code",
   "execution_count": 10,
   "metadata": {
    "_uuid": "8aeee8b7b9ea11b749c7f91cd4787a7b50ed1a91"
   },
   "outputs": [],
   "source": [
    "stop_words = stopwords.words(\"spanish\")\n",
    "stemmer = SnowballStemmer(\"spanish\")"
   ]
  },
  {
   "cell_type": "code",
   "execution_count": 11,
   "metadata": {
    "_uuid": "649ebcb97969b9ac4301138783704bb3d7846a49"
   },
   "outputs": [],
   "source": [
    "def preprocess(text, stem=False):\n",
    "    # Remove link,user and special characters\n",
    "    text = re.sub(TEXT_CLEANING_RE, ' ', str(text).lower()).strip()\n",
    "    tokens = []\n",
    "    for token in text.split():\n",
    "        if token not in stop_words:\n",
    "            if stem:\n",
    "                tokens.append(stemmer.stem(token))\n",
    "            else:\n",
    "                tokens.append(token)\n",
    "    return \" \".join(tokens)"
   ]
  },
  {
   "cell_type": "code",
   "execution_count": 12,
   "metadata": {
    "_uuid": "f7f3e77ab9291d14687c49e71ba9b2b1e3323432"
   },
   "outputs": [
    {
     "name": "stdout",
     "output_type": "stream",
     "text": [
      "Wall time: 10.7 s\n"
     ]
    }
   ],
   "source": [
    "%%time\n",
    "df.text = df.text.apply(lambda x: preprocess(x))"
   ]
  },
  {
   "cell_type": "markdown",
   "metadata": {
    "_uuid": "f5f9714a8507409bbe780eebf2855a33e8e6ba37"
   },
   "source": [
    "### Split train and test"
   ]
  },
  {
   "cell_type": "code",
   "execution_count": 13,
   "metadata": {
    "_uuid": "d2b1179c968e3f3910c790ecf0c5b2cbb34b0e68"
   },
   "outputs": [
    {
     "name": "stdout",
     "output_type": "stream",
     "text": [
      "TRAIN size: 118712\n",
      "TEST size: 29679\n"
     ]
    }
   ],
   "source": [
    "df_train, df_test = train_test_split(df, test_size=1-TRAIN_SIZE, random_state=42)\n",
    "print(\"TRAIN size:\", len(df_train))\n",
    "print(\"TEST size:\", len(df_test))"
   ]
  },
  {
   "cell_type": "markdown",
   "metadata": {
    "_uuid": "f08a28aab2c3d16d8b9681a7d5d07587153a1cd6"
   },
   "source": [
    "### Word2Vec "
   ]
  },
  {
   "cell_type": "code",
   "execution_count": 14,
   "metadata": {
    "_uuid": "2461bf564de1b4414841933d0c1d1bee5f5cc5a6"
   },
   "outputs": [
    {
     "name": "stdout",
     "output_type": "stream",
     "text": [
      "Wall time: 319 ms\n"
     ]
    }
   ],
   "source": [
    "%%time\n",
    "documents = [_text.split() for _text in df_train.text] "
   ]
  },
  {
   "cell_type": "code",
   "execution_count": 15,
   "metadata": {
    "_uuid": "8e19b9f25801ba86420decc266d2b3e6fb44f1ea"
   },
   "outputs": [],
   "source": [
    "w2v_model = gensim.models.word2vec.Word2Vec(size=W2V_SIZE, \n",
    "                                            window=W2V_WINDOW, \n",
    "                                            min_count=W2V_MIN_COUNT, \n",
    "                                            workers=8)"
   ]
  },
  {
   "cell_type": "code",
   "execution_count": 16,
   "metadata": {
    "_uuid": "58d655af07653c594bec6bebcfb302a973b0ad9c"
   },
   "outputs": [
    {
     "name": "stderr",
     "output_type": "stream",
     "text": [
      "2020-11-16 15:37:23,503 : INFO : collecting all words and their counts\n",
      "2020-11-16 15:37:23,504 : INFO : PROGRESS: at sentence #0, processed 0 words, keeping 0 word types\n",
      "2020-11-16 15:37:23,534 : INFO : PROGRESS: at sentence #10000, processed 120086 words, keeping 516 word types\n",
      "2020-11-16 15:37:23,566 : INFO : PROGRESS: at sentence #20000, processed 239919 words, keeping 516 word types\n",
      "2020-11-16 15:37:23,590 : INFO : PROGRESS: at sentence #30000, processed 360054 words, keeping 516 word types\n",
      "2020-11-16 15:37:23,614 : INFO : PROGRESS: at sentence #40000, processed 480305 words, keeping 516 word types\n",
      "2020-11-16 15:37:23,637 : INFO : PROGRESS: at sentence #50000, processed 600585 words, keeping 516 word types\n",
      "2020-11-16 15:37:23,660 : INFO : PROGRESS: at sentence #60000, processed 721146 words, keeping 516 word types\n",
      "2020-11-16 15:37:23,684 : INFO : PROGRESS: at sentence #70000, processed 841234 words, keeping 516 word types\n",
      "2020-11-16 15:37:23,706 : INFO : PROGRESS: at sentence #80000, processed 961576 words, keeping 516 word types\n",
      "2020-11-16 15:37:23,730 : INFO : PROGRESS: at sentence #90000, processed 1081655 words, keeping 516 word types\n",
      "2020-11-16 15:37:23,756 : INFO : PROGRESS: at sentence #100000, processed 1202254 words, keeping 516 word types\n",
      "2020-11-16 15:37:23,782 : INFO : PROGRESS: at sentence #110000, processed 1322555 words, keeping 516 word types\n",
      "2020-11-16 15:37:23,807 : INFO : collected 516 word types from a corpus of 1427218 raw words and 118712 sentences\n",
      "2020-11-16 15:37:23,808 : INFO : Loading a fresh vocabulary\n",
      "2020-11-16 15:37:23,809 : INFO : effective_min_count=10 retains 516 unique words (100% of original 516, drops 0)\n",
      "2020-11-16 15:37:23,810 : INFO : effective_min_count=10 leaves 1427218 word corpus (100% of original 1427218, drops 0)\n",
      "2020-11-16 15:37:23,812 : INFO : deleting the raw counts dictionary of 516 items\n",
      "2020-11-16 15:37:23,813 : INFO : sample=0.001 downsamples 72 most-common words\n",
      "2020-11-16 15:37:23,813 : INFO : downsampling leaves estimated 898090 word corpus (62.9% of prior 1427218)\n",
      "2020-11-16 15:37:23,826 : INFO : estimated required memory for 516 words and 300 dimensions: 1496400 bytes\n",
      "2020-11-16 15:37:23,827 : INFO : resetting layer weights\n"
     ]
    }
   ],
   "source": [
    "w2v_model.build_vocab(documents)"
   ]
  },
  {
   "cell_type": "code",
   "execution_count": 17,
   "metadata": {
    "_uuid": "72a5628ca81fd4b8983c12d93ae0bf950b86b6ae"
   },
   "outputs": [
    {
     "name": "stdout",
     "output_type": "stream",
     "text": [
      "Vocab size 516\n"
     ]
    }
   ],
   "source": [
    "words = w2v_model.wv.vocab.keys()\n",
    "vocab_size = len(words)\n",
    "print(\"Vocab size\", vocab_size)"
   ]
  },
  {
   "cell_type": "code",
   "execution_count": 18,
   "metadata": {
    "_uuid": "68c3e4a5ba07cac3dee67f78ecdd1404c7f83f14"
   },
   "outputs": [
    {
     "name": "stderr",
     "output_type": "stream",
     "text": [
      "2020-11-16 15:37:24,060 : INFO : training model with 8 workers on 516 vocabulary and 300 features, using sg=0 hs=0 sample=0.001 negative=5 window=7\n",
      "2020-11-16 15:37:24,683 : INFO : worker thread finished; awaiting finish of 7 more threads\n",
      "2020-11-16 15:37:24,691 : INFO : worker thread finished; awaiting finish of 6 more threads\n",
      "2020-11-16 15:37:24,692 : INFO : worker thread finished; awaiting finish of 5 more threads\n",
      "2020-11-16 15:37:24,697 : INFO : worker thread finished; awaiting finish of 4 more threads\n",
      "2020-11-16 15:37:24,701 : INFO : worker thread finished; awaiting finish of 3 more threads\n",
      "2020-11-16 15:37:24,702 : INFO : worker thread finished; awaiting finish of 2 more threads\n",
      "2020-11-16 15:37:24,705 : INFO : worker thread finished; awaiting finish of 1 more threads\n",
      "2020-11-16 15:37:24,708 : INFO : worker thread finished; awaiting finish of 0 more threads\n",
      "2020-11-16 15:37:24,710 : INFO : EPOCH - 1 : training on 1427218 raw words (898216 effective words) took 0.6s, 1460460 effective words/s\n",
      "2020-11-16 15:37:25,373 : INFO : worker thread finished; awaiting finish of 7 more threads\n",
      "2020-11-16 15:37:25,384 : INFO : worker thread finished; awaiting finish of 6 more threads\n",
      "2020-11-16 15:37:25,386 : INFO : worker thread finished; awaiting finish of 5 more threads\n",
      "2020-11-16 15:37:25,389 : INFO : worker thread finished; awaiting finish of 4 more threads\n",
      "2020-11-16 15:37:25,391 : INFO : worker thread finished; awaiting finish of 3 more threads\n",
      "2020-11-16 15:37:25,394 : INFO : worker thread finished; awaiting finish of 2 more threads\n",
      "2020-11-16 15:37:25,397 : INFO : worker thread finished; awaiting finish of 1 more threads\n",
      "2020-11-16 15:37:25,398 : INFO : worker thread finished; awaiting finish of 0 more threads\n",
      "2020-11-16 15:37:25,399 : INFO : EPOCH - 2 : training on 1427218 raw words (898327 effective words) took 0.7s, 1364486 effective words/s\n",
      "2020-11-16 15:37:26,017 : INFO : worker thread finished; awaiting finish of 7 more threads\n",
      "2020-11-16 15:37:26,020 : INFO : worker thread finished; awaiting finish of 6 more threads\n",
      "2020-11-16 15:37:26,022 : INFO : worker thread finished; awaiting finish of 5 more threads\n",
      "2020-11-16 15:37:26,025 : INFO : worker thread finished; awaiting finish of 4 more threads\n",
      "2020-11-16 15:37:26,028 : INFO : worker thread finished; awaiting finish of 3 more threads\n",
      "2020-11-16 15:37:26,031 : INFO : worker thread finished; awaiting finish of 2 more threads\n",
      "2020-11-16 15:37:26,033 : INFO : worker thread finished; awaiting finish of 1 more threads\n",
      "2020-11-16 15:37:26,036 : INFO : worker thread finished; awaiting finish of 0 more threads\n",
      "2020-11-16 15:37:26,037 : INFO : EPOCH - 3 : training on 1427218 raw words (898904 effective words) took 0.6s, 1492534 effective words/s\n",
      "2020-11-16 15:37:26,705 : INFO : worker thread finished; awaiting finish of 7 more threads\n",
      "2020-11-16 15:37:26,714 : INFO : worker thread finished; awaiting finish of 6 more threads\n",
      "2020-11-16 15:37:26,715 : INFO : worker thread finished; awaiting finish of 5 more threads\n",
      "2020-11-16 15:37:26,716 : INFO : worker thread finished; awaiting finish of 4 more threads\n",
      "2020-11-16 15:37:26,719 : INFO : worker thread finished; awaiting finish of 3 more threads\n",
      "2020-11-16 15:37:26,723 : INFO : worker thread finished; awaiting finish of 2 more threads\n",
      "2020-11-16 15:37:26,725 : INFO : worker thread finished; awaiting finish of 1 more threads\n",
      "2020-11-16 15:37:26,727 : INFO : worker thread finished; awaiting finish of 0 more threads\n",
      "2020-11-16 15:37:26,729 : INFO : EPOCH - 4 : training on 1427218 raw words (897665 effective words) took 0.7s, 1353869 effective words/s\n",
      "2020-11-16 15:37:27,833 : INFO : EPOCH 5 - PROGRESS: at 46.96% examples, 391951 words/s, in_qsize 16, out_qsize 1\n",
      "2020-11-16 15:37:28,893 : INFO : EPOCH 5 - PROGRESS: at 62.35% examples, 262246 words/s, in_qsize 16, out_qsize 1\n",
      "2020-11-16 15:37:29,915 : INFO : EPOCH 5 - PROGRESS: at 77.05% examples, 219154 words/s, in_qsize 15, out_qsize 0\n",
      "2020-11-16 15:37:30,926 : INFO : EPOCH 5 - PROGRESS: at 93.84% examples, 202322 words/s, in_qsize 9, out_qsize 0\n",
      "2020-11-16 15:37:31,038 : INFO : worker thread finished; awaiting finish of 7 more threads\n",
      "2020-11-16 15:37:31,051 : INFO : worker thread finished; awaiting finish of 6 more threads\n",
      "2020-11-16 15:37:31,058 : INFO : worker thread finished; awaiting finish of 5 more threads\n",
      "2020-11-16 15:37:31,066 : INFO : worker thread finished; awaiting finish of 4 more threads\n",
      "2020-11-16 15:37:31,078 : INFO : worker thread finished; awaiting finish of 3 more threads\n",
      "2020-11-16 15:37:31,116 : INFO : worker thread finished; awaiting finish of 2 more threads\n",
      "2020-11-16 15:37:31,134 : INFO : worker thread finished; awaiting finish of 1 more threads\n",
      "2020-11-16 15:37:31,146 : INFO : worker thread finished; awaiting finish of 0 more threads\n",
      "2020-11-16 15:37:31,151 : INFO : EPOCH - 5 : training on 1427218 raw words (897992 effective words) took 4.4s, 204525 effective words/s\n",
      "2020-11-16 15:37:32,501 : INFO : EPOCH 6 - PROGRESS: at 9.12% examples, 66900 words/s, in_qsize 15, out_qsize 1\n",
      "2020-11-16 15:37:33,533 : INFO : EPOCH 6 - PROGRESS: at 27.35% examples, 108702 words/s, in_qsize 14, out_qsize 1\n",
      "2020-11-16 15:37:34,397 : INFO : worker thread finished; awaiting finish of 7 more threads\n",
      "2020-11-16 15:37:34,406 : INFO : worker thread finished; awaiting finish of 6 more threads\n",
      "2020-11-16 15:37:34,408 : INFO : worker thread finished; awaiting finish of 5 more threads\n",
      "2020-11-16 15:37:34,409 : INFO : worker thread finished; awaiting finish of 4 more threads\n",
      "2020-11-16 15:37:34,415 : INFO : worker thread finished; awaiting finish of 3 more threads\n",
      "2020-11-16 15:37:34,417 : INFO : worker thread finished; awaiting finish of 2 more threads\n",
      "2020-11-16 15:37:34,419 : INFO : worker thread finished; awaiting finish of 1 more threads\n",
      "2020-11-16 15:37:34,420 : INFO : worker thread finished; awaiting finish of 0 more threads\n",
      "2020-11-16 15:37:34,421 : INFO : EPOCH - 6 : training on 1427218 raw words (898294 effective words) took 3.1s, 285180 effective words/s\n",
      "2020-11-16 15:37:35,014 : INFO : worker thread finished; awaiting finish of 7 more threads\n",
      "2020-11-16 15:37:35,021 : INFO : worker thread finished; awaiting finish of 6 more threads\n",
      "2020-11-16 15:37:35,023 : INFO : worker thread finished; awaiting finish of 5 more threads\n",
      "2020-11-16 15:37:35,025 : INFO : worker thread finished; awaiting finish of 4 more threads\n",
      "2020-11-16 15:37:35,027 : INFO : worker thread finished; awaiting finish of 3 more threads\n",
      "2020-11-16 15:37:35,028 : INFO : worker thread finished; awaiting finish of 2 more threads\n",
      "2020-11-16 15:37:35,033 : INFO : worker thread finished; awaiting finish of 1 more threads\n",
      "2020-11-16 15:37:35,034 : INFO : worker thread finished; awaiting finish of 0 more threads\n",
      "2020-11-16 15:37:35,035 : INFO : EPOCH - 7 : training on 1427218 raw words (897282 effective words) took 0.6s, 1517112 effective words/s\n",
      "2020-11-16 15:37:35,635 : INFO : worker thread finished; awaiting finish of 7 more threads\n",
      "2020-11-16 15:37:35,639 : INFO : worker thread finished; awaiting finish of 6 more threads\n",
      "2020-11-16 15:37:35,641 : INFO : worker thread finished; awaiting finish of 5 more threads\n",
      "2020-11-16 15:37:35,644 : INFO : worker thread finished; awaiting finish of 4 more threads\n",
      "2020-11-16 15:37:35,645 : INFO : worker thread finished; awaiting finish of 3 more threads\n",
      "2020-11-16 15:37:35,646 : INFO : worker thread finished; awaiting finish of 2 more threads\n",
      "2020-11-16 15:37:35,648 : INFO : worker thread finished; awaiting finish of 1 more threads\n",
      "2020-11-16 15:37:35,650 : INFO : worker thread finished; awaiting finish of 0 more threads\n",
      "2020-11-16 15:37:35,651 : INFO : EPOCH - 8 : training on 1427218 raw words (898683 effective words) took 0.6s, 1521349 effective words/s\n",
      "2020-11-16 15:37:36,252 : INFO : worker thread finished; awaiting finish of 7 more threads\n",
      "2020-11-16 15:37:36,260 : INFO : worker thread finished; awaiting finish of 6 more threads\n",
      "2020-11-16 15:37:36,262 : INFO : worker thread finished; awaiting finish of 5 more threads\n",
      "2020-11-16 15:37:36,265 : INFO : worker thread finished; awaiting finish of 4 more threads\n",
      "2020-11-16 15:37:36,268 : INFO : worker thread finished; awaiting finish of 3 more threads\n",
      "2020-11-16 15:37:36,271 : INFO : worker thread finished; awaiting finish of 2 more threads\n",
      "2020-11-16 15:37:36,273 : INFO : worker thread finished; awaiting finish of 1 more threads\n",
      "2020-11-16 15:37:36,274 : INFO : worker thread finished; awaiting finish of 0 more threads\n",
      "2020-11-16 15:37:36,275 : INFO : EPOCH - 9 : training on 1427218 raw words (897646 effective words) took 0.6s, 1475403 effective words/s\n",
      "2020-11-16 15:37:36,866 : INFO : worker thread finished; awaiting finish of 7 more threads\n",
      "2020-11-16 15:37:36,869 : INFO : worker thread finished; awaiting finish of 6 more threads\n",
      "2020-11-16 15:37:36,872 : INFO : worker thread finished; awaiting finish of 5 more threads\n",
      "2020-11-16 15:37:36,874 : INFO : worker thread finished; awaiting finish of 4 more threads\n",
      "2020-11-16 15:37:36,875 : INFO : worker thread finished; awaiting finish of 3 more threads\n",
      "2020-11-16 15:37:36,877 : INFO : worker thread finished; awaiting finish of 2 more threads\n",
      "2020-11-16 15:37:36,880 : INFO : worker thread finished; awaiting finish of 1 more threads\n",
      "2020-11-16 15:37:36,882 : INFO : worker thread finished; awaiting finish of 0 more threads\n",
      "2020-11-16 15:37:36,883 : INFO : EPOCH - 10 : training on 1427218 raw words (897523 effective words) took 0.6s, 1537391 effective words/s\n",
      "2020-11-16 15:37:37,477 : INFO : worker thread finished; awaiting finish of 7 more threads\n",
      "2020-11-16 15:37:37,483 : INFO : worker thread finished; awaiting finish of 6 more threads\n",
      "2020-11-16 15:37:37,485 : INFO : worker thread finished; awaiting finish of 5 more threads\n",
      "2020-11-16 15:37:37,488 : INFO : worker thread finished; awaiting finish of 4 more threads\n",
      "2020-11-16 15:37:37,490 : INFO : worker thread finished; awaiting finish of 3 more threads\n",
      "2020-11-16 15:37:37,493 : INFO : worker thread finished; awaiting finish of 2 more threads\n",
      "2020-11-16 15:37:37,494 : INFO : worker thread finished; awaiting finish of 1 more threads\n",
      "2020-11-16 15:37:37,496 : INFO : worker thread finished; awaiting finish of 0 more threads\n",
      "2020-11-16 15:37:37,496 : INFO : EPOCH - 11 : training on 1427218 raw words (898102 effective words) took 0.6s, 1550290 effective words/s\n",
      "2020-11-16 15:37:38,102 : INFO : worker thread finished; awaiting finish of 7 more threads\n",
      "2020-11-16 15:37:38,107 : INFO : worker thread finished; awaiting finish of 6 more threads\n",
      "2020-11-16 15:37:38,108 : INFO : worker thread finished; awaiting finish of 5 more threads\n",
      "2020-11-16 15:37:38,117 : INFO : worker thread finished; awaiting finish of 4 more threads\n",
      "2020-11-16 15:37:38,119 : INFO : worker thread finished; awaiting finish of 3 more threads\n",
      "2020-11-16 15:37:38,121 : INFO : worker thread finished; awaiting finish of 2 more threads\n",
      "2020-11-16 15:37:38,122 : INFO : worker thread finished; awaiting finish of 1 more threads\n",
      "2020-11-16 15:37:38,122 : INFO : worker thread finished; awaiting finish of 0 more threads\n",
      "2020-11-16 15:37:38,123 : INFO : EPOCH - 12 : training on 1427218 raw words (898401 effective words) took 0.6s, 1485323 effective words/s\n",
      "2020-11-16 15:37:38,696 : INFO : worker thread finished; awaiting finish of 7 more threads\n",
      "2020-11-16 15:37:38,710 : INFO : worker thread finished; awaiting finish of 6 more threads\n",
      "2020-11-16 15:37:38,711 : INFO : worker thread finished; awaiting finish of 5 more threads\n",
      "2020-11-16 15:37:38,712 : INFO : worker thread finished; awaiting finish of 4 more threads\n",
      "2020-11-16 15:37:38,713 : INFO : worker thread finished; awaiting finish of 3 more threads\n",
      "2020-11-16 15:37:38,718 : INFO : worker thread finished; awaiting finish of 2 more threads\n",
      "2020-11-16 15:37:38,721 : INFO : worker thread finished; awaiting finish of 1 more threads\n",
      "2020-11-16 15:37:38,723 : INFO : worker thread finished; awaiting finish of 0 more threads\n",
      "2020-11-16 15:37:38,724 : INFO : EPOCH - 13 : training on 1427218 raw words (898138 effective words) took 0.6s, 1532156 effective words/s\n",
      "2020-11-16 15:37:39,330 : INFO : worker thread finished; awaiting finish of 7 more threads\n",
      "2020-11-16 15:37:39,342 : INFO : worker thread finished; awaiting finish of 6 more threads\n",
      "2020-11-16 15:37:39,343 : INFO : worker thread finished; awaiting finish of 5 more threads\n",
      "2020-11-16 15:37:39,344 : INFO : worker thread finished; awaiting finish of 4 more threads\n",
      "2020-11-16 15:37:39,347 : INFO : worker thread finished; awaiting finish of 3 more threads\n",
      "2020-11-16 15:37:39,352 : INFO : worker thread finished; awaiting finish of 2 more threads\n",
      "2020-11-16 15:37:39,354 : INFO : worker thread finished; awaiting finish of 1 more threads\n",
      "2020-11-16 15:37:39,354 : INFO : worker thread finished; awaiting finish of 0 more threads\n",
      "2020-11-16 15:37:39,355 : INFO : EPOCH - 14 : training on 1427218 raw words (897325 effective words) took 0.6s, 1455908 effective words/s\n",
      "2020-11-16 15:37:39,952 : INFO : worker thread finished; awaiting finish of 7 more threads\n",
      "2020-11-16 15:37:39,958 : INFO : worker thread finished; awaiting finish of 6 more threads\n",
      "2020-11-16 15:37:39,961 : INFO : worker thread finished; awaiting finish of 5 more threads\n",
      "2020-11-16 15:37:39,963 : INFO : worker thread finished; awaiting finish of 4 more threads\n",
      "2020-11-16 15:37:39,964 : INFO : worker thread finished; awaiting finish of 3 more threads\n",
      "2020-11-16 15:37:39,966 : INFO : worker thread finished; awaiting finish of 2 more threads\n",
      "2020-11-16 15:37:39,969 : INFO : worker thread finished; awaiting finish of 1 more threads\n",
      "2020-11-16 15:37:39,970 : INFO : worker thread finished; awaiting finish of 0 more threads\n",
      "2020-11-16 15:37:39,971 : INFO : EPOCH - 15 : training on 1427218 raw words (898081 effective words) took 0.6s, 1516219 effective words/s\n",
      "2020-11-16 15:37:40,553 : INFO : worker thread finished; awaiting finish of 7 more threads\n",
      "2020-11-16 15:37:40,563 : INFO : worker thread finished; awaiting finish of 6 more threads\n",
      "2020-11-16 15:37:40,564 : INFO : worker thread finished; awaiting finish of 5 more threads\n",
      "2020-11-16 15:37:40,565 : INFO : worker thread finished; awaiting finish of 4 more threads\n",
      "2020-11-16 15:37:40,570 : INFO : worker thread finished; awaiting finish of 3 more threads\n",
      "2020-11-16 15:37:40,574 : INFO : worker thread finished; awaiting finish of 2 more threads\n",
      "2020-11-16 15:37:40,576 : INFO : worker thread finished; awaiting finish of 1 more threads\n",
      "2020-11-16 15:37:40,577 : INFO : worker thread finished; awaiting finish of 0 more threads\n",
      "2020-11-16 15:37:40,579 : INFO : EPOCH - 16 : training on 1427218 raw words (897660 effective words) took 0.6s, 1513943 effective words/s\n",
      "2020-11-16 15:37:41,173 : INFO : worker thread finished; awaiting finish of 7 more threads\n",
      "2020-11-16 15:37:41,182 : INFO : worker thread finished; awaiting finish of 6 more threads\n",
      "2020-11-16 15:37:41,183 : INFO : worker thread finished; awaiting finish of 5 more threads\n",
      "2020-11-16 15:37:41,184 : INFO : worker thread finished; awaiting finish of 4 more threads\n",
      "2020-11-16 15:37:41,187 : INFO : worker thread finished; awaiting finish of 3 more threads\n",
      "2020-11-16 15:37:41,190 : INFO : worker thread finished; awaiting finish of 2 more threads\n",
      "2020-11-16 15:37:41,192 : INFO : worker thread finished; awaiting finish of 1 more threads\n",
      "2020-11-16 15:37:41,196 : INFO : worker thread finished; awaiting finish of 0 more threads\n",
      "2020-11-16 15:37:41,197 : INFO : EPOCH - 17 : training on 1427218 raw words (898483 effective words) took 0.6s, 1475790 effective words/s\n",
      "2020-11-16 15:37:41,873 : INFO : worker thread finished; awaiting finish of 7 more threads\n",
      "2020-11-16 15:37:41,891 : INFO : worker thread finished; awaiting finish of 6 more threads\n",
      "2020-11-16 15:37:41,893 : INFO : worker thread finished; awaiting finish of 5 more threads\n",
      "2020-11-16 15:37:41,894 : INFO : worker thread finished; awaiting finish of 4 more threads\n",
      "2020-11-16 15:37:41,896 : INFO : worker thread finished; awaiting finish of 3 more threads\n",
      "2020-11-16 15:37:41,899 : INFO : worker thread finished; awaiting finish of 2 more threads\n",
      "2020-11-16 15:37:41,902 : INFO : worker thread finished; awaiting finish of 1 more threads\n",
      "2020-11-16 15:37:41,903 : INFO : worker thread finished; awaiting finish of 0 more threads\n",
      "2020-11-16 15:37:41,904 : INFO : EPOCH - 18 : training on 1427218 raw words (897804 effective words) took 0.7s, 1302287 effective words/s\n",
      "2020-11-16 15:37:42,619 : INFO : worker thread finished; awaiting finish of 7 more threads\n",
      "2020-11-16 15:37:42,627 : INFO : worker thread finished; awaiting finish of 6 more threads\n",
      "2020-11-16 15:37:42,630 : INFO : worker thread finished; awaiting finish of 5 more threads\n",
      "2020-11-16 15:37:42,631 : INFO : worker thread finished; awaiting finish of 4 more threads\n",
      "2020-11-16 15:37:42,633 : INFO : worker thread finished; awaiting finish of 3 more threads\n",
      "2020-11-16 15:37:42,635 : INFO : worker thread finished; awaiting finish of 2 more threads\n",
      "2020-11-16 15:37:42,637 : INFO : worker thread finished; awaiting finish of 1 more threads\n",
      "2020-11-16 15:37:42,642 : INFO : worker thread finished; awaiting finish of 0 more threads\n",
      "2020-11-16 15:37:42,644 : INFO : EPOCH - 19 : training on 1427218 raw words (897846 effective words) took 0.7s, 1251966 effective words/s\n",
      "2020-11-16 15:37:43,316 : INFO : worker thread finished; awaiting finish of 7 more threads\n",
      "2020-11-16 15:37:43,325 : INFO : worker thread finished; awaiting finish of 6 more threads\n",
      "2020-11-16 15:37:43,327 : INFO : worker thread finished; awaiting finish of 5 more threads\n",
      "2020-11-16 15:37:43,330 : INFO : worker thread finished; awaiting finish of 4 more threads\n",
      "2020-11-16 15:37:43,332 : INFO : worker thread finished; awaiting finish of 3 more threads\n",
      "2020-11-16 15:37:43,333 : INFO : worker thread finished; awaiting finish of 2 more threads\n",
      "2020-11-16 15:37:43,335 : INFO : worker thread finished; awaiting finish of 1 more threads\n",
      "2020-11-16 15:37:43,337 : INFO : worker thread finished; awaiting finish of 0 more threads\n",
      "2020-11-16 15:37:43,338 : INFO : EPOCH - 20 : training on 1427218 raw words (898407 effective words) took 0.7s, 1340796 effective words/s\n",
      "2020-11-16 15:37:43,941 : INFO : worker thread finished; awaiting finish of 7 more threads\n",
      "2020-11-16 15:37:43,950 : INFO : worker thread finished; awaiting finish of 6 more threads\n",
      "2020-11-16 15:37:43,951 : INFO : worker thread finished; awaiting finish of 5 more threads\n",
      "2020-11-16 15:37:43,953 : INFO : worker thread finished; awaiting finish of 4 more threads\n",
      "2020-11-16 15:37:43,955 : INFO : worker thread finished; awaiting finish of 3 more threads\n",
      "2020-11-16 15:37:43,957 : INFO : worker thread finished; awaiting finish of 2 more threads\n",
      "2020-11-16 15:37:43,959 : INFO : worker thread finished; awaiting finish of 1 more threads\n",
      "2020-11-16 15:37:43,961 : INFO : worker thread finished; awaiting finish of 0 more threads\n",
      "2020-11-16 15:37:43,962 : INFO : EPOCH - 21 : training on 1427218 raw words (898654 effective words) took 0.6s, 1478772 effective words/s\n",
      "2020-11-16 15:37:44,554 : INFO : worker thread finished; awaiting finish of 7 more threads\n",
      "2020-11-16 15:37:44,565 : INFO : worker thread finished; awaiting finish of 6 more threads\n",
      "2020-11-16 15:37:44,567 : INFO : worker thread finished; awaiting finish of 5 more threads\n",
      "2020-11-16 15:37:44,568 : INFO : worker thread finished; awaiting finish of 4 more threads\n",
      "2020-11-16 15:37:44,569 : INFO : worker thread finished; awaiting finish of 3 more threads\n",
      "2020-11-16 15:37:44,571 : INFO : worker thread finished; awaiting finish of 2 more threads\n",
      "2020-11-16 15:37:44,576 : INFO : worker thread finished; awaiting finish of 1 more threads\n",
      "2020-11-16 15:37:44,578 : INFO : worker thread finished; awaiting finish of 0 more threads\n",
      "2020-11-16 15:37:44,578 : INFO : EPOCH - 22 : training on 1427218 raw words (898353 effective words) took 0.6s, 1501519 effective words/s\n",
      "2020-11-16 15:37:45,180 : INFO : worker thread finished; awaiting finish of 7 more threads\n",
      "2020-11-16 15:37:45,191 : INFO : worker thread finished; awaiting finish of 6 more threads\n",
      "2020-11-16 15:37:45,195 : INFO : worker thread finished; awaiting finish of 5 more threads\n",
      "2020-11-16 15:37:45,196 : INFO : worker thread finished; awaiting finish of 4 more threads\n",
      "2020-11-16 15:37:45,198 : INFO : worker thread finished; awaiting finish of 3 more threads\n",
      "2020-11-16 15:37:45,203 : INFO : worker thread finished; awaiting finish of 2 more threads\n",
      "2020-11-16 15:37:45,205 : INFO : worker thread finished; awaiting finish of 1 more threads\n",
      "2020-11-16 15:37:45,206 : INFO : worker thread finished; awaiting finish of 0 more threads\n",
      "2020-11-16 15:37:45,207 : INFO : EPOCH - 23 : training on 1427218 raw words (897925 effective words) took 0.6s, 1465535 effective words/s\n",
      "2020-11-16 15:37:45,849 : INFO : worker thread finished; awaiting finish of 7 more threads\n",
      "2020-11-16 15:37:45,858 : INFO : worker thread finished; awaiting finish of 6 more threads\n",
      "2020-11-16 15:37:45,860 : INFO : worker thread finished; awaiting finish of 5 more threads\n",
      "2020-11-16 15:37:45,868 : INFO : worker thread finished; awaiting finish of 4 more threads\n",
      "2020-11-16 15:37:45,871 : INFO : worker thread finished; awaiting finish of 3 more threads\n",
      "2020-11-16 15:37:45,873 : INFO : worker thread finished; awaiting finish of 2 more threads\n",
      "2020-11-16 15:37:45,874 : INFO : worker thread finished; awaiting finish of 1 more threads\n",
      "2020-11-16 15:37:45,876 : INFO : worker thread finished; awaiting finish of 0 more threads\n",
      "2020-11-16 15:37:45,876 : INFO : EPOCH - 24 : training on 1427218 raw words (897495 effective words) took 0.6s, 1386540 effective words/s\n",
      "2020-11-16 15:37:46,544 : INFO : worker thread finished; awaiting finish of 7 more threads\n",
      "2020-11-16 15:37:46,550 : INFO : worker thread finished; awaiting finish of 6 more threads\n",
      "2020-11-16 15:37:46,553 : INFO : worker thread finished; awaiting finish of 5 more threads\n",
      "2020-11-16 15:37:46,557 : INFO : worker thread finished; awaiting finish of 4 more threads\n",
      "2020-11-16 15:37:46,559 : INFO : worker thread finished; awaiting finish of 3 more threads\n",
      "2020-11-16 15:37:46,561 : INFO : worker thread finished; awaiting finish of 2 more threads\n",
      "2020-11-16 15:37:46,562 : INFO : worker thread finished; awaiting finish of 1 more threads\n",
      "2020-11-16 15:37:46,565 : INFO : worker thread finished; awaiting finish of 0 more threads\n",
      "2020-11-16 15:37:46,566 : INFO : EPOCH - 25 : training on 1427218 raw words (898350 effective words) took 0.7s, 1338968 effective words/s\n",
      "2020-11-16 15:37:47,272 : INFO : worker thread finished; awaiting finish of 7 more threads\n",
      "2020-11-16 15:37:47,277 : INFO : worker thread finished; awaiting finish of 6 more threads\n",
      "2020-11-16 15:37:47,278 : INFO : worker thread finished; awaiting finish of 5 more threads\n",
      "2020-11-16 15:37:47,280 : INFO : worker thread finished; awaiting finish of 4 more threads\n",
      "2020-11-16 15:37:47,285 : INFO : worker thread finished; awaiting finish of 3 more threads\n",
      "2020-11-16 15:37:47,289 : INFO : worker thread finished; awaiting finish of 2 more threads\n",
      "2020-11-16 15:37:47,290 : INFO : worker thread finished; awaiting finish of 1 more threads\n",
      "2020-11-16 15:37:47,291 : INFO : worker thread finished; awaiting finish of 0 more threads\n",
      "2020-11-16 15:37:47,292 : INFO : EPOCH - 26 : training on 1427218 raw words (898621 effective words) took 0.7s, 1275751 effective words/s\n",
      "2020-11-16 15:37:47,901 : INFO : worker thread finished; awaiting finish of 7 more threads\n",
      "2020-11-16 15:37:47,905 : INFO : worker thread finished; awaiting finish of 6 more threads\n",
      "2020-11-16 15:37:47,907 : INFO : worker thread finished; awaiting finish of 5 more threads\n",
      "2020-11-16 15:37:47,910 : INFO : worker thread finished; awaiting finish of 4 more threads\n",
      "2020-11-16 15:37:47,915 : INFO : worker thread finished; awaiting finish of 3 more threads\n",
      "2020-11-16 15:37:47,918 : INFO : worker thread finished; awaiting finish of 2 more threads\n",
      "2020-11-16 15:37:47,919 : INFO : worker thread finished; awaiting finish of 1 more threads\n",
      "2020-11-16 15:37:47,919 : INFO : worker thread finished; awaiting finish of 0 more threads\n",
      "2020-11-16 15:37:47,920 : INFO : EPOCH - 27 : training on 1427218 raw words (898330 effective words) took 0.6s, 1465766 effective words/s\n",
      "2020-11-16 15:37:48,535 : INFO : worker thread finished; awaiting finish of 7 more threads\n",
      "2020-11-16 15:37:48,545 : INFO : worker thread finished; awaiting finish of 6 more threads\n",
      "2020-11-16 15:37:48,545 : INFO : worker thread finished; awaiting finish of 5 more threads\n",
      "2020-11-16 15:37:48,546 : INFO : worker thread finished; awaiting finish of 4 more threads\n",
      "2020-11-16 15:37:48,548 : INFO : worker thread finished; awaiting finish of 3 more threads\n",
      "2020-11-16 15:37:48,549 : INFO : worker thread finished; awaiting finish of 2 more threads\n",
      "2020-11-16 15:37:48,555 : INFO : worker thread finished; awaiting finish of 1 more threads\n",
      "2020-11-16 15:37:48,556 : INFO : worker thread finished; awaiting finish of 0 more threads\n",
      "2020-11-16 15:37:48,556 : INFO : EPOCH - 28 : training on 1427218 raw words (897772 effective words) took 0.6s, 1451269 effective words/s\n",
      "2020-11-16 15:37:49,178 : INFO : worker thread finished; awaiting finish of 7 more threads\n",
      "2020-11-16 15:37:49,186 : INFO : worker thread finished; awaiting finish of 6 more threads\n",
      "2020-11-16 15:37:49,187 : INFO : worker thread finished; awaiting finish of 5 more threads\n",
      "2020-11-16 15:37:49,188 : INFO : worker thread finished; awaiting finish of 4 more threads\n",
      "2020-11-16 15:37:49,191 : INFO : worker thread finished; awaiting finish of 3 more threads\n",
      "2020-11-16 15:37:49,193 : INFO : worker thread finished; awaiting finish of 2 more threads\n",
      "2020-11-16 15:37:49,197 : INFO : worker thread finished; awaiting finish of 1 more threads\n",
      "2020-11-16 15:37:49,198 : INFO : worker thread finished; awaiting finish of 0 more threads\n",
      "2020-11-16 15:37:49,199 : INFO : EPOCH - 29 : training on 1427218 raw words (898368 effective words) took 0.6s, 1480536 effective words/s\n",
      "2020-11-16 15:37:49,814 : INFO : worker thread finished; awaiting finish of 7 more threads\n",
      "2020-11-16 15:37:49,819 : INFO : worker thread finished; awaiting finish of 6 more threads\n",
      "2020-11-16 15:37:49,821 : INFO : worker thread finished; awaiting finish of 5 more threads\n",
      "2020-11-16 15:37:49,822 : INFO : worker thread finished; awaiting finish of 4 more threads\n",
      "2020-11-16 15:37:49,825 : INFO : worker thread finished; awaiting finish of 3 more threads\n",
      "2020-11-16 15:37:49,827 : INFO : worker thread finished; awaiting finish of 2 more threads\n",
      "2020-11-16 15:37:49,831 : INFO : worker thread finished; awaiting finish of 1 more threads\n",
      "2020-11-16 15:37:49,832 : INFO : worker thread finished; awaiting finish of 0 more threads\n",
      "2020-11-16 15:37:49,833 : INFO : EPOCH - 30 : training on 1427218 raw words (898463 effective words) took 0.6s, 1458192 effective words/s\n",
      "2020-11-16 15:37:50,433 : INFO : worker thread finished; awaiting finish of 7 more threads\n",
      "2020-11-16 15:37:50,442 : INFO : worker thread finished; awaiting finish of 6 more threads\n",
      "2020-11-16 15:37:50,444 : INFO : worker thread finished; awaiting finish of 5 more threads\n",
      "2020-11-16 15:37:50,446 : INFO : worker thread finished; awaiting finish of 4 more threads\n",
      "2020-11-16 15:37:50,448 : INFO : worker thread finished; awaiting finish of 3 more threads\n",
      "2020-11-16 15:37:50,450 : INFO : worker thread finished; awaiting finish of 2 more threads\n",
      "2020-11-16 15:37:50,452 : INFO : worker thread finished; awaiting finish of 1 more threads\n",
      "2020-11-16 15:37:50,453 : INFO : worker thread finished; awaiting finish of 0 more threads\n",
      "2020-11-16 15:37:50,454 : INFO : EPOCH - 31 : training on 1427218 raw words (898340 effective words) took 0.6s, 1490890 effective words/s\n",
      "2020-11-16 15:37:51,063 : INFO : worker thread finished; awaiting finish of 7 more threads\n",
      "2020-11-16 15:37:51,067 : INFO : worker thread finished; awaiting finish of 6 more threads\n",
      "2020-11-16 15:37:51,067 : INFO : worker thread finished; awaiting finish of 5 more threads\n",
      "2020-11-16 15:37:51,071 : INFO : worker thread finished; awaiting finish of 4 more threads\n",
      "2020-11-16 15:37:51,072 : INFO : worker thread finished; awaiting finish of 3 more threads\n",
      "2020-11-16 15:37:51,075 : INFO : worker thread finished; awaiting finish of 2 more threads\n",
      "2020-11-16 15:37:51,077 : INFO : worker thread finished; awaiting finish of 1 more threads\n",
      "2020-11-16 15:37:51,079 : INFO : worker thread finished; awaiting finish of 0 more threads\n",
      "2020-11-16 15:37:51,080 : INFO : EPOCH - 32 : training on 1427218 raw words (898690 effective words) took 0.6s, 1478289 effective words/s\n",
      "2020-11-16 15:37:51,080 : INFO : training on a 45670976 raw words (28740140 effective words) took 27.0s, 1063761 effective words/s\n"
     ]
    },
    {
     "name": "stdout",
     "output_type": "stream",
     "text": [
      "Wall time: 27 s\n"
     ]
    },
    {
     "data": {
      "text/plain": [
       "(28740140, 45670976)"
      ]
     },
     "execution_count": 18,
     "metadata": {},
     "output_type": "execute_result"
    }
   ],
   "source": [
    "%%time\n",
    "w2v_model.train(documents, total_examples=len(documents), epochs=W2V_EPOCH)"
   ]
  },
  {
   "cell_type": "code",
   "execution_count": 19,
   "metadata": {
    "_uuid": "27cc2651c74227115d8bfd8c40e5618048e05edd"
   },
   "outputs": [],
   "source": [
    "#w2v_model.wv.most_similar(\"Violencia\")"
   ]
  },
  {
   "cell_type": "markdown",
   "metadata": {
    "_uuid": "e13563644468037258598637b49373ca96b9b879"
   },
   "source": [
    "### Tokenize Text"
   ]
  },
  {
   "cell_type": "code",
   "execution_count": 20,
   "metadata": {
    "_uuid": "6852bc709a7cd20173cbeeb218505078f8f37c57"
   },
   "outputs": [
    {
     "name": "stdout",
     "output_type": "stream",
     "text": [
      "Total words 517\n",
      "Wall time: 1.96 s\n"
     ]
    }
   ],
   "source": [
    "%%time\n",
    "tokenizer = Tokenizer()\n",
    "tokenizer.fit_on_texts(df_train.text)\n",
    "\n",
    "vocab_size = len(tokenizer.word_index) + 1\n",
    "print(\"Total words\", vocab_size)"
   ]
  },
  {
   "cell_type": "code",
   "execution_count": 21,
   "metadata": {
    "_uuid": "45de439df3015030c71f84c2d170346936a1d68f"
   },
   "outputs": [
    {
     "name": "stdout",
     "output_type": "stream",
     "text": [
      "Wall time: 2.82 s\n"
     ]
    }
   ],
   "source": [
    "%%time\n",
    "x_train = pad_sequences(tokenizer.texts_to_sequences(df_train.text), maxlen=SEQUENCE_LENGTH)\n",
    "x_test = pad_sequences(tokenizer.texts_to_sequences(df_test.text), maxlen=SEQUENCE_LENGTH)"
   ]
  },
  {
   "cell_type": "markdown",
   "metadata": {
    "_uuid": "03b35903fc6260e190d6928d240ef7432de117fc"
   },
   "source": [
    "### Label Encoder "
   ]
  },
  {
   "cell_type": "code",
   "execution_count": 22,
   "metadata": {
    "_uuid": "33676e0efa39e97d89bd650b8b4eae933a22fbf0"
   },
   "outputs": [
    {
     "data": {
      "text/plain": [
       "['NEGATIVE', 'NEUTRAL', 'POSITIVE', 'NEUTRAL']"
      ]
     },
     "execution_count": 22,
     "metadata": {},
     "output_type": "execute_result"
    }
   ],
   "source": [
    "labels = df_train.target.unique().tolist()\n",
    "labels.append(NEUTRAL)\n",
    "labels"
   ]
  },
  {
   "cell_type": "code",
   "execution_count": 23,
   "metadata": {
    "_uuid": "04239a9bef76e7922fd86098a5601dfde8ee4665"
   },
   "outputs": [
    {
     "name": "stdout",
     "output_type": "stream",
     "text": [
      "y_train (118712, 1)\n",
      "y_test (29679, 1)\n"
     ]
    }
   ],
   "source": [
    "encoder = LabelEncoder()\n",
    "encoder.fit(df_train.target.tolist())\n",
    "\n",
    "y_train = encoder.transform(df_train.target.tolist())\n",
    "y_test = encoder.transform(df_test.target.tolist())\n",
    "\n",
    "y_train = y_train.reshape(-1,1)\n",
    "y_test = y_test.reshape(-1,1)\n",
    "\n",
    "print(\"y_train\",y_train.shape)\n",
    "print(\"y_test\",y_test.shape)"
   ]
  },
  {
   "cell_type": "code",
   "execution_count": 24,
   "metadata": {
    "_uuid": "04299c886911ca135583ab64878f213939a2990c"
   },
   "outputs": [
    {
     "name": "stdout",
     "output_type": "stream",
     "text": [
      "x_train (118712, 300)\n",
      "y_train (118712, 1)\n",
      "\n",
      "x_test (29679, 300)\n",
      "y_test (29679, 1)\n"
     ]
    }
   ],
   "source": [
    "print(\"x_train\", x_train.shape)\n",
    "print(\"y_train\", y_train.shape)\n",
    "print()\n",
    "print(\"x_test\", x_test.shape)\n",
    "print(\"y_test\", y_test.shape)"
   ]
  },
  {
   "cell_type": "code",
   "execution_count": 25,
   "metadata": {
    "_uuid": "232533fb27b7be99d9b8c2f8fb22c9c6bf121a6f"
   },
   "outputs": [
    {
     "data": {
      "text/plain": [
       "array([[0],\n",
       "       [1],\n",
       "       [0],\n",
       "       [1],\n",
       "       [0],\n",
       "       [1],\n",
       "       [0],\n",
       "       [1],\n",
       "       [0],\n",
       "       [0]], dtype=int64)"
      ]
     },
     "execution_count": 25,
     "metadata": {},
     "output_type": "execute_result"
    }
   ],
   "source": [
    "y_train[:10]"
   ]
  },
  {
   "cell_type": "markdown",
   "metadata": {
    "_uuid": "233c0ea94055a03e2e7df3e2a13d036ec963484f"
   },
   "source": [
    "### Embedding layer"
   ]
  },
  {
   "cell_type": "code",
   "execution_count": 26,
   "metadata": {
    "_uuid": "9ab488374b59e3f30f8b1ea92767d853c4846bac"
   },
   "outputs": [
    {
     "name": "stdout",
     "output_type": "stream",
     "text": [
      "(517, 300)\n"
     ]
    }
   ],
   "source": [
    "embedding_matrix = np.zeros((vocab_size, W2V_SIZE))\n",
    "for word, i in tokenizer.word_index.items():\n",
    "  if word in w2v_model.wv:\n",
    "    embedding_matrix[i] = w2v_model.wv[word]\n",
    "print(embedding_matrix.shape)"
   ]
  },
  {
   "cell_type": "code",
   "execution_count": 27,
   "metadata": {
    "_uuid": "833279d91e4286065968237fb5f2a0c2dd4d246c"
   },
   "outputs": [],
   "source": [
    "embedding_layer = Embedding(vocab_size, W2V_SIZE, weights=[embedding_matrix], input_length=SEQUENCE_LENGTH, trainable=False)"
   ]
  },
  {
   "cell_type": "markdown",
   "metadata": {
    "_uuid": "b299ef78f94c2085942c993a2d58753a7476305a"
   },
   "source": [
    "### Build Model"
   ]
  },
  {
   "cell_type": "code",
   "execution_count": 28,
   "metadata": {
    "_uuid": "e775ef4f1b74e6412457181383c39f2df554ef3f"
   },
   "outputs": [
    {
     "name": "stdout",
     "output_type": "stream",
     "text": [
      "Model: \"sequential\"\n",
      "_________________________________________________________________\n",
      "Layer (type)                 Output Shape              Param #   \n",
      "=================================================================\n",
      "embedding (Embedding)        (None, 300, 300)          155100    \n",
      "_________________________________________________________________\n",
      "dropout (Dropout)            (None, 300, 300)          0         \n",
      "_________________________________________________________________\n",
      "lstm (LSTM)                  (None, 100)               160400    \n",
      "_________________________________________________________________\n",
      "dense (Dense)                (None, 1)                 101       \n",
      "=================================================================\n",
      "Total params: 315,601\n",
      "Trainable params: 160,501\n",
      "Non-trainable params: 155,100\n",
      "_________________________________________________________________\n"
     ]
    }
   ],
   "source": [
    "model = Sequential()\n",
    "model.add(embedding_layer)\n",
    "model.add(Dropout(0.5))\n",
    "model.add(LSTM(100, dropout=0.2, recurrent_dropout=0.2))\n",
    "model.add(Dense(1, activation='sigmoid'))\n",
    "\n",
    "model.summary()"
   ]
  },
  {
   "cell_type": "markdown",
   "metadata": {
    "_uuid": "28d22eafd0c7d798dcf3d742bc92fb8577939e6c"
   },
   "source": [
    "### Compile model"
   ]
  },
  {
   "cell_type": "code",
   "execution_count": 29,
   "metadata": {
    "_uuid": "1331e08d590bb2aa2033706c8faca217afc0f1c3"
   },
   "outputs": [],
   "source": [
    "model.compile(loss='binary_crossentropy',\n",
    "              optimizer=\"adam\",\n",
    "              metrics=['accuracy'])"
   ]
  },
  {
   "cell_type": "markdown",
   "metadata": {
    "_uuid": "c7733127cb8b380e0c807268903bf4d03ef92542"
   },
   "source": [
    "### Callbacks"
   ]
  },
  {
   "cell_type": "code",
   "execution_count": 30,
   "metadata": {
    "_uuid": "a688df590386f5748da6fe00b01904fe6c71619e"
   },
   "outputs": [],
   "source": [
    "callbacks = [ ReduceLROnPlateau(monitor='val_loss', patience=5, cooldown=0),\n",
    "              EarlyStopping(monitor='val_accuracy', min_delta=1e-4, patience=5)]"
   ]
  },
  {
   "cell_type": "markdown",
   "metadata": {
    "_uuid": "8d0873633dd49179c8cae17377641b97d323ef3b"
   },
   "source": [
    "### Train"
   ]
  },
  {
   "cell_type": "code",
   "execution_count": 31,
   "metadata": {
    "_uuid": "2b659d390c6577dc5cdb6b6297934279b4e801d5"
   },
   "outputs": [
    {
     "name": "stdout",
     "output_type": "stream",
     "text": [
      "Epoch 1/8\n",
      " 26/105 [======>.......................] - ETA: 24:07 - loss: -0.0073 - accuracy: 0.8069"
     ]
    },
    {
     "name": "stderr",
     "output_type": "stream",
     "text": [
      "2020-11-16 15:46:53,471 : ERROR : Internal Python error in the inspect module.\n",
      "Below is the traceback from this internal error.\n",
      "\n",
      "\n",
      "KeyboardInterrupt\n",
      "\n"
     ]
    }
   ],
   "source": [
    "%%time\n",
    "history = model.fit(x_train, y_train,\n",
    "                    batch_size=BATCH_SIZE,\n",
    "                    epochs=EPOCHS,\n",
    "                    validation_split=0.1,\n",
    "                    verbose=1,\n",
    "                    callbacks=callbacks)"
   ]
  },
  {
   "cell_type": "markdown",
   "metadata": {
    "_uuid": "267258196d96796ac69a7b8c466314bcf5d6ee42"
   },
   "source": [
    "### Evaluate"
   ]
  },
  {
   "cell_type": "code",
   "execution_count": null,
   "metadata": {
    "_uuid": "98ecd8f1b8b74594c3ea775dd68a094e92458022"
   },
   "outputs": [],
   "source": [
    "%%time\n",
    "score = model.evaluate(x_test, y_test, batch_size=BATCH_SIZE)\n",
    "print()\n",
    "print(\"ACCURACY:\",score[1])\n",
    "print(\"LOSS:\",score[0])"
   ]
  },
  {
   "cell_type": "code",
   "execution_count": null,
   "metadata": {
    "_uuid": "40c72cd1e9d6c4fd799cbba7c813765ac4039dfc"
   },
   "outputs": [],
   "source": [
    "acc = history.history['accuracy']\n",
    "val_acc = history.history['val_accuracy']\n",
    "loss = history.history['loss']\n",
    "val_loss = history.history['val_loss']\n",
    " \n",
    "epochs = range(len(acc))\n",
    " \n",
    "plt.plot(epochs, acc, 'b', label='Training acc')\n",
    "plt.plot(epochs, val_acc, 'r', label='Validation acc')\n",
    "plt.title('Training and validation accuracy')\n",
    "plt.legend()\n",
    " \n",
    "plt.figure()\n",
    " \n",
    "plt.plot(epochs, loss, 'b', label='Training loss')\n",
    "plt.plot(epochs, val_loss, 'r', label='Validation loss')\n",
    "plt.title('Training and validation loss')\n",
    "plt.legend()\n",
    " \n",
    "plt.show()"
   ]
  },
  {
   "cell_type": "markdown",
   "metadata": {
    "_uuid": "6bdfc0f6a6af5bebc0271d83dd7432c91001409b"
   },
   "source": [
    "### Predict"
   ]
  },
  {
   "cell_type": "code",
   "execution_count": null,
   "metadata": {
    "_uuid": "f0b0fa3d4b1bb14b3f5e3d169a369f3ebef29ae1"
   },
   "outputs": [],
   "source": [
    "def decode_sentiment(score, include_neutral=True):\n",
    "    if include_neutral:        \n",
    "        label = NEUTRAL\n",
    "        if score <= SENTIMENT_THRESHOLDS[0]:\n",
    "            label = NEGATIVE\n",
    "        elif score >= SENTIMENT_THRESHOLDS[1]:\n",
    "            label = POSITIVE\n",
    "\n",
    "        return label\n",
    "    else:\n",
    "        return NEGATIVE if score < 0.5 else POSITIVE"
   ]
  },
  {
   "cell_type": "code",
   "execution_count": null,
   "metadata": {
    "_uuid": "ed4086d651f2f8cbed11d3c909a8873607d29a06"
   },
   "outputs": [],
   "source": [
    "def predict(text, include_neutral=True):\n",
    "    start_at = time.time()\n",
    "    # Tokenize text\n",
    "    x_test = pad_sequences(tokenizer.texts_to_sequences([text]), maxlen=SEQUENCE_LENGTH)\n",
    "    # Predict\n",
    "    score = model.predict([x_test])[0]\n",
    "    # Decode sentiment\n",
    "    label = decode_sentiment(score, include_neutral=include_neutral)\n",
    "\n",
    "    return {\"label\": label, \"score\": float(score),\n",
    "       \"elapsed_time\": time.time()-start_at}  "
   ]
  },
  {
   "cell_type": "code",
   "execution_count": null,
   "metadata": {
    "_uuid": "ca38b1e6c9b5acfed7467de2cf02a78333108872"
   },
   "outputs": [],
   "source": [
    "predict(\"Masacre en el cauca deja 10 heridos\")"
   ]
  },
  {
   "cell_type": "code",
   "execution_count": null,
   "metadata": {
    "_uuid": "0e5fe647533be0148850de349fea6ef6f71303d1"
   },
   "outputs": [],
   "source": [
    "predict(\"Prevencion de la violencia contra la mujer\")"
   ]
  },
  {
   "cell_type": "markdown",
   "metadata": {
    "_uuid": "3ee72e47f84b6dbc32e02a783de5ec1661f157e1"
   },
   "source": [
    "### Confusion Matrix"
   ]
  },
  {
   "cell_type": "code",
   "execution_count": null,
   "metadata": {
    "_uuid": "0e920173eb05f04aecdd735bc5dff0f5be5f8d15"
   },
   "outputs": [],
   "source": [
    "%%time\n",
    "y_pred_1d = []\n",
    "y_test_1d = list(df_test.target)\n",
    "scores = model.predict(x_test, verbose=1, batch_size=8000)\n",
    "y_pred_1d = [decode_sentiment(score, include_neutral=False) for score in scores]"
   ]
  },
  {
   "cell_type": "code",
   "execution_count": null,
   "metadata": {
    "_uuid": "b3575191bb425ab871f3f41e83812ee84bb7e595"
   },
   "outputs": [],
   "source": [
    "def plot_confusion_matrix(cm, classes,\n",
    "                          title='Confusion matrix',\n",
    "                          cmap=plt.cm.Blues):\n",
    "    \"\"\"\n",
    "    This function prints and plots the confusion matrix.\n",
    "    Normalization can be applied by setting `normalize=True`.\n",
    "    \"\"\"\n",
    "\n",
    "    cm = cm.astype('float') / cm.sum(axis=1)[:, np.newaxis]\n",
    "\n",
    "    plt.imshow(cm, interpolation='nearest', cmap=cmap)\n",
    "    plt.title(title, fontsize=30)\n",
    "    plt.colorbar()\n",
    "    tick_marks = np.arange(len(classes))\n",
    "    plt.xticks(tick_marks, classes, rotation=90, fontsize=22)\n",
    "    plt.yticks(tick_marks, classes, fontsize=22)\n",
    "\n",
    "    fmt = '.2f'\n",
    "    thresh = cm.max() / 2.\n",
    "    for i, j in itertools.product(range(cm.shape[0]), range(cm.shape[1])):\n",
    "        plt.text(j, i, format(cm[i, j], fmt),\n",
    "                 horizontalalignment=\"center\",\n",
    "                 color=\"white\" if cm[i, j] > thresh else \"black\")\n",
    "\n",
    "    plt.ylabel('True label', fontsize=25)\n",
    "    plt.xlabel('Predicted label', fontsize=25)"
   ]
  },
  {
   "cell_type": "code",
   "execution_count": null,
   "metadata": {
    "_uuid": "a57dc6f6211c144491a70f533225edfa95a2dc66"
   },
   "outputs": [],
   "source": [
    "%%time\n",
    "\n",
    "cnf_matrix = confusion_matrix(y_test_1d, y_pred_1d)\n",
    "plt.figure(figsize=(10,10))\n",
    "plot_confusion_matrix(cnf_matrix, classes=df_train.target.unique(), title=\"Confusion matrix\")\n",
    "plt.show()"
   ]
  },
  {
   "cell_type": "markdown",
   "metadata": {
    "_uuid": "e23b957348dcc084249d3cc7538b972da471c2cd"
   },
   "source": [
    "### Classification Report"
   ]
  },
  {
   "cell_type": "code",
   "execution_count": null,
   "metadata": {
    "_uuid": "a7fe05b7caa1c984ff1deb0be2f7c6bc043df9f5"
   },
   "outputs": [],
   "source": [
    "print(classification_report(y_test_1d, y_pred_1d))"
   ]
  },
  {
   "cell_type": "markdown",
   "metadata": {
    "_uuid": "4eb300f0c6693a618587c7dcf32f77f5416cbfb9"
   },
   "source": [
    "### Accuracy Score"
   ]
  },
  {
   "cell_type": "code",
   "execution_count": null,
   "metadata": {
    "_uuid": "5cf76e6e09f8a60ed25947932b94c772eda44d23"
   },
   "outputs": [],
   "source": [
    "accuracy_score(y_test_1d, y_pred_1d)"
   ]
  },
  {
   "cell_type": "markdown",
   "metadata": {
    "_uuid": "4f014c32f3833db282e1a075c526604f34e3158c"
   },
   "source": [
    "### Save model"
   ]
  },
  {
   "cell_type": "code",
   "execution_count": null,
   "metadata": {
    "_uuid": "3b2b3ad5b592977b404acfa1c9ad303a62837255"
   },
   "outputs": [],
   "source": [
    "model.save(KERAS_MODEL)\n",
    "w2v_model.save(WORD2VEC_MODEL)\n",
    "pickle.dump(tokenizer, open(TOKENIZER_MODEL, \"wb\"), protocol=0)\n",
    "pickle.dump(encoder, open(ENCODER_MODEL, \"wb\"), protocol=0)"
   ]
  }
 ],
 "metadata": {
  "kernelspec": {
   "display_name": "Python [conda env:.conda-twitter] *",
   "language": "python",
   "name": "conda-env-.conda-twitter-py"
  },
  "language_info": {
   "codemirror_mode": {
    "name": "ipython",
    "version": 3
   },
   "file_extension": ".py",
   "mimetype": "text/x-python",
   "name": "python",
   "nbconvert_exporter": "python",
   "pygments_lexer": "ipython3",
   "version": "3.7.8"
  }
 },
 "nbformat": 4,
 "nbformat_minor": 4
}
